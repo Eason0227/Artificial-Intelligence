{
 "cells": [
  {
   "cell_type": "markdown",
   "metadata": {
    "id": "2md57IGTZ_3S"
   },
   "source": [
    "### Digit Recognition 1\n",
    "We would be creating a deep learning network using only a single hidden layer. The digit database is from MNIST. \n",
    "![](img/model_dnn.png)"
   ]
  },
  {
   "cell_type": "code",
   "execution_count": null,
   "metadata": {
    "id": "OYwkG0iGZ_3W"
   },
   "outputs": [],
   "source": [
    "from __future__ import absolute_import, division, print_function, unicode_literals\n",
    "\n",
    "try:\n",
    "  # %tensorflow_version only exists in Colab.\n",
    "  %tensorflow_version 2.x\n",
    "except Exception:\n",
    "  pass\n",
    "import tensorflow as tf\n",
    "from tensorflow.keras.layers import Input, Dense\n",
    "from tensorflow.keras.models import Sequential\n",
    "from tensorflow.keras.datasets import mnist"
   ]
  },
  {
   "cell_type": "code",
   "execution_count": null,
   "metadata": {
    "id": "RkQksJvoZ_3i"
   },
   "outputs": [],
   "source": [
    "# input image dimensions\n",
    "img_rows, img_cols = 28, 28\n"
   ]
  },
  {
   "cell_type": "markdown",
   "metadata": {
    "id": "H0-H6FRVZ_3p"
   },
   "source": [
    "The training dataset is structured as a 3-dimensional array of instance, image width and image height.\n",
    "### Question ###\n",
    "1. What does the three numbers from the shape output mean?"
   ]
  },
  {
   "cell_type": "markdown",
   "metadata": {
    "id": "WQzfo9OxuG5w"
   },
   "source": [
    "### Answer\n",
    "The first number 60000 represent Number of training data, the first number means number of data  \n",
    "The next 2 numbers mean that each picture is 28 pixels x 28 pixels,The number of pixels on the x-axis and y-axis, respectively"
   ]
  },
  {
   "cell_type": "code",
   "execution_count": null,
   "metadata": {
    "colab": {
     "base_uri": "https://localhost:8080/"
    },
    "executionInfo": {
     "elapsed": 451,
     "status": "ok",
     "timestamp": 1640261277279,
     "user": {
      "displayName": "蔡承哲",
      "photoUrl": "https://lh3.googleusercontent.com/a-/AOh14GgUjUENY9knqXHiDlNA8p9rKPZb-kSJuB4r-BTpIQ=s64",
      "userId": "08856972309667959252"
     },
     "user_tz": -480
    },
    "id": "avXsVhDNZ_3r",
    "outputId": "462e35b3-b9e8-4bcb-d8b8-52314a291852"
   },
   "outputs": [
    {
     "name": "stdout",
     "output_type": "stream",
     "text": [
      "Downloading data from https://storage.googleapis.com/tensorflow/tf-keras-datasets/mnist.npz\n",
      "11493376/11490434 [==============================] - 0s 0us/step\n",
      "11501568/11490434 [==============================] - 0s 0us/step\n",
      "(60000, 28, 28)\n",
      "(60000,)\n",
      "(10000, 28, 28)\n",
      "(10000,)\n"
     ]
    }
   ],
   "source": [
    "# the data, split between train and test sets\n",
    "(x_train, y_train), (x_test, y_test) = mnist.load_data()\n",
    "\n",
    "print(x_train.shape)\n",
    "print(y_train.shape)\n",
    "print(x_test.shape)\n",
    "print(y_test.shape)"
   ]
  },
  {
   "cell_type": "code",
   "execution_count": null,
   "metadata": {
    "colab": {
     "base_uri": "https://localhost:8080/"
    },
    "executionInfo": {
     "elapsed": 3,
     "status": "ok",
     "timestamp": 1640261277279,
     "user": {
      "displayName": "蔡承哲",
      "photoUrl": "https://lh3.googleusercontent.com/a-/AOh14GgUjUENY9knqXHiDlNA8p9rKPZb-kSJuB4r-BTpIQ=s64",
      "userId": "08856972309667959252"
     },
     "user_tz": -480
    },
    "id": "TqkRHBcJs-8b",
    "outputId": "87a04502-e7df-4fed-d88e-0d92810d460d"
   },
   "outputs": [
    {
     "data": {
      "text/plain": [
       "array([5, 0, 4, ..., 5, 6, 8], dtype=uint8)"
      ]
     },
     "execution_count": 5,
     "metadata": {},
     "output_type": "execute_result"
    }
   ],
   "source": [
    "y_train"
   ]
  },
  {
   "cell_type": "code",
   "execution_count": null,
   "metadata": {
    "colab": {
     "base_uri": "https://localhost:8080/",
     "height": 268
    },
    "executionInfo": {
     "elapsed": 321,
     "status": "ok",
     "timestamp": 1640261277599,
     "user": {
      "displayName": "蔡承哲",
      "photoUrl": "https://lh3.googleusercontent.com/a-/AOh14GgUjUENY9knqXHiDlNA8p9rKPZb-kSJuB4r-BTpIQ=s64",
      "userId": "08856972309667959252"
     },
     "user_tz": -480
    },
    "id": "hTvAB6LbZ_3x",
    "outputId": "db2e34c7-fa49-4907-d107-a0f9cca04f8f"
   },
   "outputs": [
    {
     "data": {
      "image/png": "[encoded data removed]",
      "text/plain": [
       "<Figure size 432x288 with 4 Axes>"
      ]
     },
     "metadata": {
      "needs_background": "light"
     },
     "output_type": "display_data"
    }
   ],
   "source": [
    "import matplotlib.pyplot as plt\n",
    "%matplotlib inline\n",
    "plt.subplot(221)\n",
    "plt.imshow(x_train[0], cmap=plt.get_cmap('gray'))\n",
    "plt.subplot(222)\n",
    "plt.imshow(x_train[1], cmap=plt.get_cmap('gray'))\n",
    "plt.subplot(223)\n",
    "plt.imshow(x_train[2], cmap=plt.get_cmap('gray'))\n",
    "plt.subplot(224)\n",
    "plt.imshow(x_train[3], cmap=plt.get_cmap('gray'))\n",
    "# show the plot\n",
    "plt.show()"
   ]
  },
  {
   "cell_type": "markdown",
   "metadata": {
    "id": "_2yS3cohZ_34"
   },
   "source": [
    "### Question ###\n",
    "1. Why is the shape 784? Why do we need this size?"
   ]
  },
  {
   "cell_type": "markdown",
   "metadata": {
    "id": "fazK3-4v0W4D"
   },
   "source": [
    "### Answer\n",
    "Because an image has 28 pixels*28 pixels, there are 28*28=764 neurons in total   \n",
    "Convert the original 28×28 2-dimensional digital image into a 1-dimensional vector  \n"
   ]
  },
  {
   "cell_type": "code",
   "execution_count": null,
   "metadata": {
    "colab": {
     "base_uri": "https://localhost:8080/"
    },
    "executionInfo": {
     "elapsed": 5,
     "status": "ok",
     "timestamp": 1640261277600,
     "user": {
      "displayName": "蔡承哲",
      "photoUrl": "https://lh3.googleusercontent.com/a-/AOh14GgUjUENY9knqXHiDlNA8p9rKPZb-kSJuB4r-BTpIQ=s64",
      "userId": "08856972309667959252"
     },
     "user_tz": -480
    },
    "id": "YSyAFR3DZ_35",
    "outputId": "b3b3ba03-df6a-4c1f-ac2b-96c5e69cd684"
   },
   "outputs": [
    {
     "name": "stdout",
     "output_type": "stream",
     "text": [
      "(60000, 784)\n",
      "(10000, 784)\n"
     ]
    }
   ],
   "source": [
    "x_train = x_train.reshape(x_train.shape[0], img_rows* img_cols)\n",
    "x_test = x_test.reshape(x_test.shape[0], img_rows* img_cols)\n",
    "input_shape = (img_rows* img_cols)\n",
    "print(x_train.shape)\n",
    "print(x_test.shape)"
   ]
  },
  {
   "cell_type": "code",
   "execution_count": null,
   "metadata": {
    "colab": {
     "base_uri": "https://localhost:8080/"
    },
    "executionInfo": {
     "elapsed": 6,
     "status": "ok",
     "timestamp": 1640261277911,
     "user": {
      "displayName": "蔡承哲",
      "photoUrl": "https://lh3.googleusercontent.com/a-/AOh14GgUjUENY9knqXHiDlNA8p9rKPZb-kSJuB4r-BTpIQ=s64",
      "userId": "08856972309667959252"
     },
     "user_tz": -480
    },
    "id": "R5hR28vsZ_3-",
    "outputId": "c518c7c7-55b7-4e7e-b587-51a5684854a8"
   },
   "outputs": [
    {
     "name": "stdout",
     "output_type": "stream",
     "text": [
      "input shape 784\n",
      "x_train shape: (60000, 784)\n",
      "60000 train samples\n",
      "10000 test samples\n"
     ]
    }
   ],
   "source": [
    "x_train = x_train.astype('float32')\n",
    "x_test = x_test.astype('float32')\n",
    "x_train /= 255 #reduce to 0-1\n",
    "x_test /= 255  #reduce to 0-1\n",
    "print('input shape',input_shape)\n",
    "print('x_train shape:', x_train.shape)\n",
    "print(x_train.shape[0], 'train samples')\n",
    "print(x_test.shape[0], 'test samples')"
   ]
  },
  {
   "cell_type": "markdown",
   "metadata": {
    "id": "VuvSwT0gZ_4D"
   },
   "source": [
    "The output variable is an integer from 0 to 9. This is a multi-class classification problem. We need to use one hot encoding of the class values to use the categorical cross entropy loss function. We transformi the vector of class integers into a binary matrix, e.g. class 1 becomes 0100000000, class 2 00100000000."
   ]
  },
  {
   "cell_type": "code",
   "execution_count": null,
   "metadata": {
    "colab": {
     "base_uri": "https://localhost:8080/"
    },
    "executionInfo": {
     "elapsed": 5,
     "status": "ok",
     "timestamp": 1640261277911,
     "user": {
      "displayName": "蔡承哲",
      "photoUrl": "https://lh3.googleusercontent.com/a-/AOh14GgUjUENY9knqXHiDlNA8p9rKPZb-kSJuB4r-BTpIQ=s64",
      "userId": "08856972309667959252"
     },
     "user_tz": -480
    },
    "id": "Xl6iTga7Z_4F",
    "outputId": "2814340a-be24-4c62-946f-b735bd2e34e1"
   },
   "outputs": [
    {
     "name": "stdout",
     "output_type": "stream",
     "text": [
      "10\n"
     ]
    }
   ],
   "source": [
    "# convert class vectors to binary class matrices \n",
    "# do not re-run this cell without reloading data!!\n",
    "\n",
    "num_classes = 10\n",
    "y_train = tf.keras.utils.to_categorical(y_train, num_classes)\n",
    "y_test = tf.keras.utils.to_categorical(y_test, num_classes)\n",
    "print(num_classes)"
   ]
  },
  {
   "cell_type": "markdown",
   "metadata": {
    "id": "g4oj_0UQZ_4L"
   },
   "source": [
    "After creating the input train and test data, we create the neural network model. This is a simple 1 hidden layer network. "
   ]
  },
  {
   "cell_type": "code",
   "execution_count": null,
   "metadata": {
    "id": "QZM4YVeIZ_4N"
   },
   "outputs": [],
   "source": [
    "model=Sequential()"
   ]
  },
  {
   "cell_type": "markdown",
   "metadata": {
    "id": "U5gwILT_Z_4Q"
   },
   "source": [
    "The model is a simple neural network with one hidden layer with the same number of neurons as there are inputs (784). A rectifier activation function is used for the neurons in the hidden layer. A softmax activation function is used on the output layer to turn the outputs into probability-like values and allow one class of the 10 to be selected as the model’s output prediction"
   ]
  },
  {
   "cell_type": "code",
   "execution_count": null,
   "metadata": {
    "colab": {
     "base_uri": "https://localhost:8080/"
    },
    "executionInfo": {
     "elapsed": 3,
     "status": "ok",
     "timestamp": 1640261278202,
     "user": {
      "displayName": "蔡承哲",
      "photoUrl": "https://lh3.googleusercontent.com/a-/AOh14GgUjUENY9knqXHiDlNA8p9rKPZb-kSJuB4r-BTpIQ=s64",
      "userId": "08856972309667959252"
     },
     "user_tz": -480
    },
    "id": "SUSDi-8sZ_4S",
    "outputId": "4bf67b89-f04e-46a9-92ba-5dce98d788ae"
   },
   "outputs": [
    {
     "name": "stdout",
     "output_type": "stream",
     "text": [
      "Model: \"sequential\"\n",
      "_________________________________________________________________\n",
      " Layer (type)                Output Shape              Param #   \n",
      "=================================================================\n",
      " dense (Dense)               (None, 784)               615440    \n",
      "                                                                 \n",
      " dense_1 (Dense)             (None, 10)                7850      \n",
      "                                                                 \n",
      "=================================================================\n",
      "Total params: 623,290\n",
      "Trainable params: 623,290\n",
      "Non-trainable params: 0\n",
      "_________________________________________________________________\n",
      "None\n"
     ]
    }
   ],
   "source": [
    "#input layer + hidden layer 1\n",
    "model.add(Dense(units=img_rows*img_cols, activation='relu', input_dim=784))\n",
    "#output layer\n",
    "model.add(Dense(units=num_classes, activation='softmax'))\n",
    "print(model.summary())"
   ]
  },
  {
   "cell_type": "markdown",
   "metadata": {
    "id": "9SwKwWD3TbaK"
   },
   "source": [
    "### Question ###\n",
    "1. What does the Param in the model summary indicates?"
   ]
  },
  {
   "cell_type": "markdown",
   "metadata": {
    "id": "_FBu9fnF3ehM"
   },
   "source": [
    "### Answer\n",
    " Param means the number of neuron weights in each layer  "
   ]
  },
  {
   "cell_type": "markdown",
   "metadata": {
    "id": "y6b4ZyFJZ_4d"
   },
   "source": [
    "Logarithmic loss is used as the loss function (called categorical_crossentropy in Keras) and the efficient ADAM gradient descent algorithm is used to learn the weights"
   ]
  },
  {
   "cell_type": "code",
   "execution_count": null,
   "metadata": {
    "id": "ZpcCNB3QZ_4f"
   },
   "outputs": [],
   "source": [
    "#model.compile(loss='categorical_crossentropy', optimizer='sgd', metrics=['accuracy'])\n",
    "model.compile(loss='categorical_crossentropy', optimizer='adam', metrics=['accuracy'])"
   ]
  },
  {
   "cell_type": "markdown",
   "metadata": {
    "id": "K7_Xh_vyZ_4i"
   },
   "source": [
    "After creating the model, we train the training."
   ]
  },
  {
   "cell_type": "code",
   "execution_count": null,
   "metadata": {
    "colab": {
     "base_uri": "https://localhost:8080/"
    },
    "executionInfo": {
     "elapsed": 64317,
     "status": "ok",
     "timestamp": 1640261342518,
     "user": {
      "displayName": "蔡承哲",
      "photoUrl": "https://lh3.googleusercontent.com/a-/AOh14GgUjUENY9knqXHiDlNA8p9rKPZb-kSJuB4r-BTpIQ=s64",
      "userId": "08856972309667959252"
     },
     "user_tz": -480
    },
    "id": "ag9aIGwkZ_4k",
    "outputId": "0b53c36f-6519-4cd3-a2d7-d8a8f25a305b"
   },
   "outputs": [
    {
     "name": "stdout",
     "output_type": "stream",
     "text": [
      "Epoch 1/5\n",
      "1875/1875 [==============================] - 14s 7ms/step - loss: 0.1932 - accuracy: 0.9423\n",
      "Epoch 2/5\n",
      "1875/1875 [==============================] - 12s 7ms/step - loss: 0.0754 - accuracy: 0.9765\n",
      "Epoch 3/5\n",
      "1875/1875 [==============================] - 13s 7ms/step - loss: 0.0496 - accuracy: 0.9841\n",
      "Epoch 4/5\n",
      "1875/1875 [==============================] - 13s 7ms/step - loss: 0.0348 - accuracy: 0.9884\n",
      "Epoch 5/5\n",
      "1875/1875 [==============================] - 13s 7ms/step - loss: 0.0256 - accuracy: 0.9916\n"
     ]
    }
   ],
   "source": [
    "history=model.fit(x_train, y_train, epochs=5, batch_size=32)"
   ]
  },
  {
   "cell_type": "markdown",
   "metadata": {
    "id": "_FxjLWQDZ_4o"
   },
   "source": [
    "Finally we print the error rate using training data"
   ]
  },
  {
   "cell_type": "code",
   "execution_count": null,
   "metadata": {
    "colab": {
     "base_uri": "https://localhost:8080/"
    },
    "executionInfo": {
     "elapsed": 1519,
     "status": "ok",
     "timestamp": 1640261344034,
     "user": {
      "displayName": "蔡承哲",
      "photoUrl": "https://lh3.googleusercontent.com/a-/AOh14GgUjUENY9knqXHiDlNA8p9rKPZb-kSJuB4r-BTpIQ=s64",
      "userId": "08856972309667959252"
     },
     "user_tz": -480
    },
    "id": "S2sBL88cZ_4q",
    "outputId": "b1a89cb1-5efd-46ff-efb1-fb7ad0b8ca8a"
   },
   "outputs": [
    {
     "name": "stdout",
     "output_type": "stream",
     "text": [
      "313/313 - 1s - loss: 0.0976 - accuracy: 0.9727 - 1s/epoch - 3ms/step\n",
      "Baseline Error: 2.73%\n",
      "loss 0.0975736603140831\n",
      "accuracy 0.9726999998092651\n"
     ]
    }
   ],
   "source": [
    "# Final evaluation of the model\n",
    "scores = model.evaluate(x_test, y_test, verbose=2)\n",
    "print(\"Baseline Error: %.2f%%\" % (100-scores[1]*100))\n",
    "print(model.metrics_names[0], scores[0])\n",
    "print(model.metrics_names[1], scores[1])"
   ]
  },
  {
   "cell_type": "code",
   "execution_count": null,
   "metadata": {
    "colab": {
     "base_uri": "https://localhost:8080/",
     "height": 300
    },
    "executionInfo": {
     "elapsed": 311,
     "status": "ok",
     "timestamp": 1640261344342,
     "user": {
      "displayName": "蔡承哲",
      "photoUrl": "https://lh3.googleusercontent.com/a-/AOh14GgUjUENY9knqXHiDlNA8p9rKPZb-kSJuB4r-BTpIQ=s64",
      "userId": "08856972309667959252"
     },
     "user_tz": -480
    },
    "id": "wZ-R6-mVTbaL",
    "outputId": "dffeaf78-9f82-41bf-9712-7b077af8eaf3"
   },
   "outputs": [
    {
     "data": {
      "text/plain": [
       "<matplotlib.legend.Legend at 0x7f9bc99bb990>"
      ]
     },
     "execution_count": 15,
     "metadata": {},
     "output_type": "execute_result"
    },
    {
     "data": {
      "image/png": "[encoded data removed]",
      "text/plain": [
       "<Figure size 432x288 with 1 Axes>"
      ]
     },
     "metadata": {
      "needs_background": "light"
     },
     "output_type": "display_data"
    }
   ],
   "source": [
    "plt.plot(history.history['accuracy'], label='accuracy')\n",
    "#plt.plot(history.history['val_accuracy'], label = 'val_accuracy')\n",
    "plt.xlabel('Epoch')\n",
    "plt.ylabel('Accuracy')\n",
    "plt.ylim([0.985, 1])\n",
    "plt.legend(loc='lower right')"
   ]
  },
  {
   "cell_type": "markdown",
   "metadata": {
    "id": "mIbN8BENTbaM"
   },
   "source": [
    "### Check in the individual predictions"
   ]
  },
  {
   "cell_type": "code",
   "execution_count": null,
   "metadata": {
    "colab": {
     "base_uri": "https://localhost:8080/"
    },
    "executionInfo": {
     "elapsed": 348,
     "status": "ok",
     "timestamp": 1640261344688,
     "user": {
      "displayName": "蔡承哲",
      "photoUrl": "https://lh3.googleusercontent.com/a-/AOh14GgUjUENY9knqXHiDlNA8p9rKPZb-kSJuB4r-BTpIQ=s64",
      "userId": "08856972309667959252"
     },
     "user_tz": -480
    },
    "id": "uVqU7tVKTbaM",
    "outputId": "27a00fd2-c5d2-4c38-d801-ec2d203e7276"
   },
   "outputs": [
    {
     "name": "stdout",
     "output_type": "stream",
     "text": [
      "7\n",
      "2\n",
      "1\n",
      "0\n"
     ]
    }
   ],
   "source": [
    "from numpy import argmax, expand_dims\n",
    "import numpy\n",
    "#check individual prediction \n",
    "y = expand_dims(x_test[0], axis=0)\n",
    "result=numpy.argmax(model.predict(y))\n",
    "print(result)\n",
    "y = expand_dims(x_test[1], axis=0)\n",
    "result=numpy.argmax(model.predict(y))\n",
    "print(result)\n",
    "y = expand_dims(x_test[2], axis=0)\n",
    "result=numpy.argmax(model.predict(y))\n",
    "print(result)\n",
    "y = expand_dims(x_test[3], axis=0)\n",
    "result=numpy.argmax(model.predict(y))\n",
    "print(result)"
   ]
  },
  {
   "cell_type": "markdown",
   "metadata": {
    "id": "EVlVGd-2UJAo"
   },
   "source": [
    "### Question ###\n",
    "1. Experiment with more layers and see if the results differ significantly"
   ]
  },
  {
   "cell_type": "markdown",
   "metadata": {
    "id": "v2KBGfTjIvLf"
   },
   "source": [
    "### Answer\n",
    "Add 2 hidden layers to model.\n",
    "The accuracy of the test data increase from 0.9727 to 0.9777, and the performance of the model be better."
   ]
  },
  {
   "cell_type": "code",
   "execution_count": null,
   "metadata": {
    "colab": {
     "base_uri": "https://localhost:8080/"
    },
    "executionInfo": {
     "elapsed": 16,
     "status": "ok",
     "timestamp": 1640261344689,
     "user": {
      "displayName": "蔡承哲",
      "photoUrl": "https://lh3.googleusercontent.com/a-/AOh14GgUjUENY9knqXHiDlNA8p9rKPZb-kSJuB4r-BTpIQ=s64",
      "userId": "08856972309667959252"
     },
     "user_tz": -480
    },
    "id": "S76niWAv8_H1",
    "outputId": "85ec5362-77e7-4686-aed7-65ec946fd4e1"
   },
   "outputs": [
    {
     "name": "stdout",
     "output_type": "stream",
     "text": [
      "Model: \"sequential_1\"\n",
      "_________________________________________________________________\n",
      " Layer (type)                Output Shape              Param #   \n",
      "=================================================================\n",
      " dense_2 (Dense)             (None, 784)               615440    \n",
      "                                                                 \n",
      " dense_3 (Dense)             (None, 784)               615440    \n",
      "                                                                 \n",
      " dense_4 (Dense)             (None, 784)               615440    \n",
      "                                                                 \n",
      " dense_5 (Dense)             (None, 10)                7850      \n",
      "                                                                 \n",
      "=================================================================\n",
      "Total params: 1,854,170\n",
      "Trainable params: 1,854,170\n",
      "Non-trainable params: 0\n",
      "_________________________________________________________________\n",
      "None\n"
     ]
    }
   ],
   "source": [
    "model2=Sequential()\n",
    "\n",
    "#input layer + hidden layer 1\n",
    "model2.add(Dense(units=img_rows*img_cols, activation='relu', input_dim=784))\n",
    "\n",
    "#hidden layer 2\n",
    "model2.add(Dense(units=img_rows*img_cols, activation='relu'))\n",
    "\n",
    "#hidden layer 3\n",
    "model2.add(Dense(units=img_rows*img_cols, activation='relu'))\n",
    "\n",
    "#output layer\n",
    "model2.add(Dense(units=num_classes, activation='softmax'))\n",
    "print(model2.summary())"
   ]
  },
  {
   "cell_type": "code",
   "execution_count": null,
   "metadata": {
    "id": "QXG19vCQ-Sk_"
   },
   "outputs": [],
   "source": [
    "model2.compile(loss='categorical_crossentropy', optimizer='adam', metrics=['accuracy'])"
   ]
  },
  {
   "cell_type": "code",
   "execution_count": null,
   "metadata": {
    "colab": {
     "base_uri": "https://localhost:8080/"
    },
    "executionInfo": {
     "elapsed": 202654,
     "status": "ok",
     "timestamp": 1640261547334,
     "user": {
      "displayName": "蔡承哲",
      "photoUrl": "https://lh3.googleusercontent.com/a-/AOh14GgUjUENY9knqXHiDlNA8p9rKPZb-kSJuB4r-BTpIQ=s64",
      "userId": "08856972309667959252"
     },
     "user_tz": -480
    },
    "id": "p1MN0aUK-UpV",
    "outputId": "b91dcee1-aad8-4944-8e6b-8ccc59d9df90"
   },
   "outputs": [
    {
     "name": "stdout",
     "output_type": "stream",
     "text": [
      "Epoch 1/5\n",
      "1875/1875 [==============================] - 39s 21ms/step - loss: 0.1943 - accuracy: 0.9416\n",
      "Epoch 2/5\n",
      "1875/1875 [==============================] - 39s 21ms/step - loss: 0.0981 - accuracy: 0.9715\n",
      "Epoch 3/5\n",
      "1875/1875 [==============================] - 38s 20ms/step - loss: 0.0684 - accuracy: 0.9800\n",
      "Epoch 4/5\n",
      "1875/1875 [==============================] - 39s 21ms/step - loss: 0.0545 - accuracy: 0.9840\n",
      "Epoch 5/5\n",
      "1875/1875 [==============================] - 39s 21ms/step - loss: 0.0477 - accuracy: 0.9860\n"
     ]
    }
   ],
   "source": [
    "history=model2.fit(x_train, y_train, epochs=5, batch_size=32)"
   ]
  },
  {
   "cell_type": "code",
   "execution_count": null,
   "metadata": {
    "colab": {
     "base_uri": "https://localhost:8080/"
    },
    "executionInfo": {
     "elapsed": 2184,
     "status": "ok",
     "timestamp": 1640261549512,
     "user": {
      "displayName": "蔡承哲",
      "photoUrl": "https://lh3.googleusercontent.com/a-/AOh14GgUjUENY9knqXHiDlNA8p9rKPZb-kSJuB4r-BTpIQ=s64",
      "userId": "08856972309667959252"
     },
     "user_tz": -480
    },
    "id": "lYrTU-OG-X1u",
    "outputId": "d16b255a-4b86-4197-ff39-b7a20676773e"
   },
   "outputs": [
    {
     "name": "stdout",
     "output_type": "stream",
     "text": [
      "313/313 - 2s - loss: 0.0914 - accuracy: 0.9777 - 2s/epoch - 7ms/step\n",
      "Baseline Error: 2.23%\n",
      "loss 0.09139908850193024\n",
      "accuracy 0.9776999950408936\n"
     ]
    }
   ],
   "source": [
    "# Final evaluation of the model\n",
    "scores = model2.evaluate(x_test, y_test, verbose=2)\n",
    "print(\"Baseline Error: %.2f%%\" % (100-scores[1]*100))\n",
    "print(model2.metrics_names[0], scores[0])\n",
    "print(model2.metrics_names[1], scores[1])"
   ]
  },
  {
   "cell_type": "code",
   "execution_count": null,
   "metadata": {
    "colab": {
     "base_uri": "https://localhost:8080/",
     "height": 300
    },
    "executionInfo": {
     "elapsed": 8,
     "status": "ok",
     "timestamp": 1640261549512,
     "user": {
      "displayName": "蔡承哲",
      "photoUrl": "https://lh3.googleusercontent.com/a-/AOh14GgUjUENY9knqXHiDlNA8p9rKPZb-kSJuB4r-BTpIQ=s64",
      "userId": "08856972309667959252"
     },
     "user_tz": -480
    },
    "id": "Wy4r-yAZ_Adf",
    "outputId": "c3575f6a-3ccb-4b82-a26f-2c497b725354"
   },
   "outputs": [
    {
     "data": {
      "text/plain": [
       "<matplotlib.legend.Legend at 0x7f9bcb0ff890>"
      ]
     },
     "execution_count": 21,
     "metadata": {},
     "output_type": "execute_result"
    },
    {
     "data": {
      "image/png": "[encoded data removed]",
      "text/plain": [
       "<Figure size 432x288 with 1 Axes>"
      ]
     },
     "metadata": {
      "needs_background": "light"
     },
     "output_type": "display_data"
    }
   ],
   "source": [
    "plt.plot(history.history['accuracy'], label='accuracy')\n",
    "#plt.plot(history.history['val_accuracy'], label = 'val_accuracy')\n",
    "plt.xlabel('Epoch')\n",
    "plt.ylabel('Accuracy')\n",
    "plt.ylim([0.985, 1])\n",
    "plt.legend(loc='lower right')"
   ]
  }
 ],
 "metadata": {
  "colab": {
   "collapsed_sections": [],
   "name": "digit-1.ipynb",
   "provenance": []
  },
  "kernelspec": {
   "display_name": "Python 3 (ipykernel)",
   "language": "python",
   "name": "python3"
  },
  "language_info": {
   "codemirror_mode": {
    "name": "ipython",
    "version": 3
   },
   "file_extension": ".py",
   "mimetype": "text/x-python",
   "name": "python",
   "nbconvert_exporter": "python",
   "pygments_lexer": "ipython3",
   "version": "3.8.12"
  }
 },
 "nbformat": 4,
 "nbformat_minor": 1
}
