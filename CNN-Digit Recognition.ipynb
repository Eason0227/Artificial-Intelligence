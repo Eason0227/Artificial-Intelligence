{
 "cells": [
  {
   "cell_type": "markdown",
   "metadata": {
    "id": "TJOspkMWZ33o"
   },
   "source": [
    "###  Digit Recognition\n",
    "\n",
    "Deep learning convolutional network for MNIST dataset."
   ]
  },
  {
   "cell_type": "markdown",
   "metadata": {},
   "source": [
    "![](model_cnn_digit.png)"
   ]
  },
  {
   "cell_type": "code",
   "execution_count": 126,
   "metadata": {
    "executionInfo": {
     "elapsed": 9,
     "status": "ok",
     "timestamp": 1640326606492,
     "user": {
      "displayName": "蔡承哲",
      "photoUrl": "https://lh3.googleusercontent.com/a-/AOh14GgUjUENY9knqXHiDlNA8p9rKPZb-kSJuB4r-BTpIQ=s64",
      "userId": "08856972309667959252"
     },
     "user_tz": -480
    },
    "id": "hclbtZpMcRJd"
   },
   "outputs": [],
   "source": [
    "import numpy as np\n",
    "from tensorflow.keras.layers import Input, Dense, Dropout, Flatten\n",
    "from tensorflow.keras.models import Sequential\n",
    "from tensorflow.keras.layers import Conv2D\n",
    "from tensorflow.keras.layers import MaxPool2D\n",
    "from tensorflow.keras.datasets import mnist\n",
    "from tensorflow.keras import utils"
   ]
  },
  {
   "cell_type": "code",
   "execution_count": 127,
   "metadata": {
    "colab": {
     "base_uri": "https://localhost:8080/"
    },
    "executionInfo": {
     "elapsed": 591,
     "status": "ok",
     "timestamp": 1640326607075,
     "user": {
      "displayName": "蔡承哲",
      "photoUrl": "https://lh3.googleusercontent.com/a-/AOh14GgUjUENY9knqXHiDlNA8p9rKPZb-kSJuB4r-BTpIQ=s64",
      "userId": "08856972309667959252"
     },
     "user_tz": -480
    },
    "id": "YY4mCQHwZ335",
    "outputId": "ec9e56f2-ca38-40f2-8876-1b5ffe1aee8b"
   },
   "outputs": [
    {
     "name": "stdout",
     "output_type": "stream",
     "text": [
      "(60000, 28, 28)\n",
      "(60000,)\n",
      "(10000, 28, 28)\n",
      "(10000,)\n"
     ]
    }
   ],
   "source": [
    "# load data\n",
    "(X_train, y_train), (X_test, y_test) = mnist.load_data()\n",
    "print(X_train.shape)\n",
    "print(y_train.shape)\n",
    "print(X_test.shape)\n",
    "print(y_test.shape)"
   ]
  },
  {
   "cell_type": "markdown",
   "metadata": {
    "id": "IxGXce69Z34A"
   },
   "source": [
    "Load the MNIST dataset and reshape it so that it is suitable for use training a CNN.   \n",
    "In Keras, the layers used for two-dimensional convolutions expect pixel values with the dimensions [pixels][width][height].\n",
    "\n",
    "In the case of RGB, the first dimension pixels would be 3 for the red, green and blue components and it would be like having 3 image inputs for every color image.  "
   ]
  },
  {
   "cell_type": "code",
   "execution_count": 128,
   "metadata": {
    "colab": {
     "base_uri": "https://localhost:8080/",
     "height": 268
    },
    "executionInfo": {
     "elapsed": 1045,
     "status": "ok",
     "timestamp": 1640326608119,
     "user": {
      "displayName": "蔡承哲",
      "photoUrl": "https://lh3.googleusercontent.com/a-/AOh14GgUjUENY9knqXHiDlNA8p9rKPZb-kSJuB4r-BTpIQ=s64",
      "userId": "08856972309667959252"
     },
     "user_tz": -480
    },
    "id": "OhbFnrRNaeCl",
    "outputId": "6912ba7b-2803-48bd-f179-96aa7c2b077c"
   },
   "outputs": [
    {
     "data": {
      "image/png": "[encoded data removed]",
      "text/plain": [
       "<Figure size 432x288 with 4 Axes>"
      ]
     },
     "metadata": {
      "needs_background": "light"
     },
     "output_type": "display_data"
    }
   ],
   "source": [
    "import matplotlib.pyplot as plt\n",
    "%matplotlib inline\n",
    "# the data, split between train and test sets\n",
    "# load it for display\n",
    "(x_train,_) , (_, _) = mnist.load_data()\n",
    "\n",
    "plt.subplot(221)\n",
    "plt.imshow(x_train[0],)\n",
    "plt.subplot(222)\n",
    "plt.imshow(x_train[1])\n",
    "plt.subplot(223)\n",
    "plt.imshow(x_train[2])\n",
    "plt.subplot(224)\n",
    "plt.imshow(x_train[3])\n",
    "plt.show()"
   ]
  },
  {
   "cell_type": "markdown",
   "metadata": {},
   "source": [
    "In the case of MNIST where the pixel values are gray scale, the pixel dimension is set to 1."
   ]
  },
  {
   "cell_type": "code",
   "execution_count": 129,
   "metadata": {},
   "outputs": [
    {
     "data": {
      "image/png": "[encoded data removed]",
      "text/plain": [
       "<Figure size 432x288 with 4 Axes>"
      ]
     },
     "metadata": {
      "needs_background": "light"
     },
     "output_type": "display_data"
    }
   ],
   "source": [
    "(x_train,_) , (_, _) = mnist.load_data()\n",
    "plt.subplot(221)\n",
    "plt.imshow(x_train[0], cmap=plt.get_cmap('gray'))\n",
    "plt.subplot(222)\n",
    "plt.imshow(x_train[1], cmap=plt.get_cmap('gray'))\n",
    "plt.subplot(223)\n",
    "plt.imshow(x_train[2], cmap=plt.get_cmap('gray'))\n",
    "plt.subplot(224)\n",
    "plt.imshow(x_train[3], cmap=plt.get_cmap('gray'))\n",
    "plt.show()"
   ]
  },
  {
   "cell_type": "code",
   "execution_count": 130,
   "metadata": {
    "executionInfo": {
     "elapsed": 8,
     "status": "ok",
     "timestamp": 1640326608120,
     "user": {
      "displayName": "蔡承哲",
      "photoUrl": "https://lh3.googleusercontent.com/a-/AOh14GgUjUENY9knqXHiDlNA8p9rKPZb-kSJuB4r-BTpIQ=s64",
      "userId": "08856972309667959252"
     },
     "user_tz": -480
    },
    "id": "UMjpN8CycgCa"
   },
   "outputs": [],
   "source": [
    "# reshape to be [samples][pixels][width][height]\n",
    "\n",
    "X_train = X_train.reshape(X_train.shape[0], 28,28, 1)\n",
    "X_test = X_test.reshape(X_test.shape[0], 28,28, 1)\n",
    "input_shape = (28,28, 1)"
   ]
  },
  {
   "cell_type": "code",
   "execution_count": 131,
   "metadata": {
    "colab": {
     "base_uri": "https://localhost:8080/"
    },
    "executionInfo": {
     "elapsed": 8,
     "status": "ok",
     "timestamp": 1640326608121,
     "user": {
      "displayName": "蔡承哲",
      "photoUrl": "https://lh3.googleusercontent.com/a-/AOh14GgUjUENY9knqXHiDlNA8p9rKPZb-kSJuB4r-BTpIQ=s64",
      "userId": "08856972309667959252"
     },
     "user_tz": -480
    },
    "id": "KpS5RTbXdu3x",
    "outputId": "ebdccd7a-ffb0-4c7f-a4a8-5e5ea1a7efba"
   },
   "outputs": [
    {
     "name": "stdout",
     "output_type": "stream",
     "text": [
      "x_train shape: (60000, 28, 28, 1)\n",
      "60000 train samples\n",
      "10000 test samples\n"
     ]
    }
   ],
   "source": [
    "X_train = X_train.astype('float32')\n",
    "X_test = X_test.astype('float32')\n",
    "X_train /= 255 # Normalize pixel values to be between 0 and 1\n",
    "X_test /= 255 # Normalize pixel values to be between 0 and 1\n",
    "print('x_train shape:', X_train.shape)\n",
    "print(X_train.shape[0], 'train samples')\n",
    "print(X_test.shape[0], 'test samples')"
   ]
  },
  {
   "cell_type": "markdown",
   "metadata": {
    "id": "H0AcESyGRnI4"
   },
   "source": [
    "### Hot Encode ###\n",
    "The label field is originally a number from 0 to 9, which must be converted into 10 combinations of 0 and 1, corresponding to 10 output neurons respectively."
   ]
  },
  {
   "cell_type": "code",
   "execution_count": 132,
   "metadata": {
    "colab": {
     "base_uri": "https://localhost:8080/"
    },
    "executionInfo": {
     "elapsed": 6,
     "status": "ok",
     "timestamp": 1640326608121,
     "user": {
      "displayName": "蔡承哲",
      "photoUrl": "https://lh3.googleusercontent.com/a-/AOh14GgUjUENY9knqXHiDlNA8p9rKPZb-kSJuB4r-BTpIQ=s64",
      "userId": "08856972309667959252"
     },
     "user_tz": -480
    },
    "id": "EeyRkYvDZ34H",
    "outputId": "826208e0-0fa7-4130-d304-1c331c82f94d"
   },
   "outputs": [
    {
     "name": "stdout",
     "output_type": "stream",
     "text": [
      "(60000, 10)\n",
      "(10000, 10)\n"
     ]
    }
   ],
   "source": [
    "# one hot encode outputs -- Do not keep running this cell!! \n",
    "num_classes=10\n",
    "y_train = utils.to_categorical(y_train,num_classes)\n",
    "y_test = utils.to_categorical(y_test,num_classes)\n",
    "\n",
    "print(y_train.shape)\n",
    "print(y_test.shape)"
   ]
  },
  {
   "cell_type": "markdown",
   "metadata": {},
   "source": [
    "### The Model ###\n",
    "\n",
    "**Conv2D** : convolutional layer,The layer has 32 feature maps, which with the size of 5×5 and RELU activation function.  \n",
    "\n",
    "**MaxPool2D** : pooling layer,It is configured with a pool size of 2×2.  \n",
    "\n",
    "**Dropout** : regularization layer,It is configured to randomly exclude 20% of neurons in the layer in order to reduce overfitting.  \n",
    "\n",
    "**Flatten** : converts the multi-dimensional(2D matrix data) input into a one-dimensional(Vector) output, which is used in the transition from the convolutional layer to the fully connected layer\n",
    "\n",
    "**fully connected layer** :  It with 128 neurons and RELU activation function.  \n",
    "\n",
    "**Output layer**: It has 10 neurons for the 10 classes and a **softmax** activation function to output probability-like predictions for each class"
   ]
  },
  {
   "cell_type": "code",
   "execution_count": 133,
   "metadata": {
    "colab": {
     "base_uri": "https://localhost:8080/"
    },
    "executionInfo": {
     "elapsed": 3244,
     "status": "ok",
     "timestamp": 1640326611360,
     "user": {
      "displayName": "蔡承哲",
      "photoUrl": "https://lh3.googleusercontent.com/a-/AOh14GgUjUENY9knqXHiDlNA8p9rKPZb-kSJuB4r-BTpIQ=s64",
      "userId": "08856972309667959252"
     },
     "user_tz": -480
    },
    "id": "6sPGlL9IZ34P",
    "outputId": "ecc5aab4-6da5-4ccd-de22-3e066809572d"
   },
   "outputs": [
    {
     "name": "stdout",
     "output_type": "stream",
     "text": [
      "Model: \"sequential_3\"\n",
      "_________________________________________________________________\n",
      "Layer (type)                 Output Shape              Param #   \n",
      "=================================================================\n",
      "conv2d_3 (Conv2D)            (None, 24, 24, 32)        832       \n",
      "_________________________________________________________________\n",
      "max_pooling2d_3 (MaxPooling2 (None, 12, 12, 32)        0         \n",
      "_________________________________________________________________\n",
      "dropout_3 (Dropout)          (None, 12, 12, 32)        0         \n",
      "_________________________________________________________________\n",
      "flatten_3 (Flatten)          (None, 4608)              0         \n",
      "_________________________________________________________________\n",
      "dense_6 (Dense)              (None, 128)               589952    \n",
      "_________________________________________________________________\n",
      "dense_7 (Dense)              (None, 10)                1290      \n",
      "=================================================================\n",
      "Total params: 592,074\n",
      "Trainable params: 592,074\n",
      "Non-trainable params: 0\n",
      "_________________________________________________________________\n",
      "None\n"
     ]
    }
   ],
   "source": [
    "# create model\n",
    "model = Sequential()\n",
    "model.add(Conv2D(32, (5, 5), input_shape=(28, 28,1), activation='relu')) \n",
    "model.add(MaxPool2D(pool_size=(2, 2)))\n",
    "model.add(Dropout(0.2))\n",
    "model.add(Flatten())\n",
    "model.add(Dense(128, activation='relu'))\n",
    "model.add(Dense(num_classes, activation='softmax'))\n",
    "print(model.summary())"
   ]
  },
  {
   "cell_type": "markdown",
   "metadata": {
    "id": "AFjgPjlVRnI6"
   },
   "source": [
    "### The Model Parameters ###\n",
    "\n",
    "The parameters (learnable weights) in the Conv2D layer is calculated as:  \n",
    "\n",
    "Conv2D Params = ((Conv2DSize * Conv2DSize)* PrevLayerFilter + Bias))* Conv2DFilters).  \n",
    "Conv2D Params = ((5 * 5) * 1 + 1) * 32 = 832  \n",
    "\n",
    "The 2nd learnable params is : 4608 * 128 = 589952  \n",
    "THe 3rd learnable params is : 128 * 10 = 1290"
   ]
  },
  {
   "cell_type": "markdown",
   "metadata": {
    "id": "m2iHWiKlRnI6"
   },
   "source": [
    "### Compiling the Model ###"
   ]
  },
  {
   "cell_type": "code",
   "execution_count": 134,
   "metadata": {
    "executionInfo": {
     "elapsed": 4,
     "status": "ok",
     "timestamp": 1640326611360,
     "user": {
      "displayName": "蔡承哲",
      "photoUrl": "https://lh3.googleusercontent.com/a-/AOh14GgUjUENY9knqXHiDlNA8p9rKPZb-kSJuB4r-BTpIQ=s64",
      "userId": "08856972309667959252"
     },
     "user_tz": -480
    },
    "id": "hMdV2FfVZ34Z"
   },
   "outputs": [],
   "source": [
    "# Compile model\n",
    "model.compile(optimizer='adam',loss='categorical_crossentropy',metrics=['accuracy'])"
   ]
  },
  {
   "cell_type": "markdown",
   "metadata": {
    "id": "Zm-eHTTVRnI6"
   },
   "source": [
    "### Training the Model ###"
   ]
  },
  {
   "cell_type": "code",
   "execution_count": 135,
   "metadata": {
    "colab": {
     "base_uri": "https://localhost:8080/"
    },
    "executionInfo": {
     "elapsed": 45820,
     "status": "ok",
     "timestamp": 1640326657177,
     "user": {
      "displayName": "蔡承哲",
      "photoUrl": "https://lh3.googleusercontent.com/a-/AOh14GgUjUENY9knqXHiDlNA8p9rKPZb-kSJuB4r-BTpIQ=s64",
      "userId": "08856972309667959252"
     },
     "user_tz": -480
    },
    "id": "CbZMxELaZ34e",
    "outputId": "c992f9bd-5763-43c1-c46d-28521ee1bdc7"
   },
   "outputs": [
    {
     "name": "stdout",
     "output_type": "stream",
     "text": [
      "Epoch 1/10\n",
      "300/300 [==============================] - 2s 4ms/step - loss: 0.2438 - accuracy: 0.9315 - val_loss: 0.0788 - val_accuracy: 0.9758\n",
      "Epoch 2/10\n",
      "300/300 [==============================] - 1s 3ms/step - loss: 0.0695 - accuracy: 0.9793 - val_loss: 0.0519 - val_accuracy: 0.9839\n",
      "Epoch 3/10\n",
      "300/300 [==============================] - 1s 3ms/step - loss: 0.0508 - accuracy: 0.9847 - val_loss: 0.0481 - val_accuracy: 0.9852\n",
      "Epoch 4/10\n",
      "300/300 [==============================] - 1s 3ms/step - loss: 0.0387 - accuracy: 0.9876 - val_loss: 0.0398 - val_accuracy: 0.9860\n",
      "Epoch 5/10\n",
      "300/300 [==============================] - 1s 3ms/step - loss: 0.0317 - accuracy: 0.9899 - val_loss: 0.0345 - val_accuracy: 0.9892\n",
      "Epoch 6/10\n",
      "300/300 [==============================] - 1s 3ms/step - loss: 0.0272 - accuracy: 0.9918 - val_loss: 0.0352 - val_accuracy: 0.9887\n",
      "Epoch 7/10\n",
      "300/300 [==============================] - 1s 3ms/step - loss: 0.0220 - accuracy: 0.9929 - val_loss: 0.0368 - val_accuracy: 0.9888\n",
      "Epoch 8/10\n",
      "300/300 [==============================] - 1s 3ms/step - loss: 0.0190 - accuracy: 0.9940 - val_loss: 0.0354 - val_accuracy: 0.9892\n",
      "Epoch 9/10\n",
      "300/300 [==============================] - 1s 3ms/step - loss: 0.0170 - accuracy: 0.9945 - val_loss: 0.0354 - val_accuracy: 0.9889\n",
      "Epoch 10/10\n",
      "300/300 [==============================] - 1s 3ms/step - loss: 0.0137 - accuracy: 0.9960 - val_loss: 0.0331 - val_accuracy: 0.9894\n",
      "313/313 [==============================] - 1s 1ms/step - loss: 0.0331 - accuracy: 0.9894\n",
      "loss 0.03310355171561241\n",
      "accuracy 0.9894000291824341\n"
     ]
    }
   ],
   "source": [
    "history = model.fit(X_train, y_train, epochs=10,batch_size=200, verbose=1, validation_data=(X_test, y_test))\n",
    "\n",
    "# Final evaluation of the model\n",
    "scores = model.evaluate(X_test, y_test, verbose=1)\n",
    "print(model.metrics_names[0], scores[0])\n",
    "print(model.metrics_names[1], scores[1])"
   ]
  },
  {
   "cell_type": "code",
   "execution_count": 141,
   "metadata": {
    "colab": {
     "base_uri": "https://localhost:8080/",
     "height": 300
    },
    "executionInfo": {
     "elapsed": 6,
     "status": "ok",
     "timestamp": 1640326658812,
     "user": {
      "displayName": "蔡承哲",
      "photoUrl": "https://lh3.googleusercontent.com/a-/AOh14GgUjUENY9knqXHiDlNA8p9rKPZb-kSJuB4r-BTpIQ=s64",
      "userId": "08856972309667959252"
     },
     "user_tz": -480
    },
    "id": "V-HfQmiWRnI7",
    "outputId": "c4c1e16b-9175-4c69-ebf4-c149c00c8b7e"
   },
   "outputs": [
    {
     "data": {
      "text/plain": [
       "<matplotlib.legend.Legend at 0x1b41b4ef370>"
      ]
     },
     "execution_count": 141,
     "metadata": {},
     "output_type": "execute_result"
    },
    {
     "data": {
      "image/png": "[encoded data removed]",
      "text/plain": [
       "<Figure size 432x288 with 1 Axes>"
      ]
     },
     "metadata": {
      "needs_background": "light"
     },
     "output_type": "display_data"
    }
   ],
   "source": [
    "plt.plot(history.history['accuracy'], label='train_accuracy')\n",
    "plt.plot(history.history['val_accuracy'], label = 'val_accuracy')\n",
    "plt.xlabel('Epoch')\n",
    "plt.ylabel('Accuracy')\n",
    "plt.legend(loc='center right') #The label location"
   ]
  },
  {
   "cell_type": "markdown",
   "metadata": {
    "id": "YnKEOHMPinhw"
   },
   "source": [
    "### Check in the individual predictions\n"
   ]
  },
  {
   "cell_type": "code",
   "execution_count": 137,
   "metadata": {},
   "outputs": [
    {
     "data": {
      "image/png": "[encoded data removed]",
      "text/plain": [
       "<Figure size 432x288 with 4 Axes>"
      ]
     },
     "metadata": {
      "needs_background": "light"
     },
     "output_type": "display_data"
    }
   ],
   "source": [
    "plt.subplot(221)\n",
    "plt.imshow(X_test[0], cmap=plt.get_cmap('gray'))\n",
    "plt.subplot(222)\n",
    "plt.imshow(X_test[1], cmap=plt.get_cmap('gray'))\n",
    "plt.subplot(223)\n",
    "plt.imshow(X_test[2], cmap=plt.get_cmap('gray'))\n",
    "plt.subplot(224)\n",
    "plt.imshow(X_test[3], cmap=plt.get_cmap('gray'))\n",
    "plt.show()"
   ]
  },
  {
   "cell_type": "code",
   "execution_count": 138,
   "metadata": {
    "colab": {
     "base_uri": "https://localhost:8080/"
    },
    "executionInfo": {
     "elapsed": 595,
     "status": "ok",
     "timestamp": 1640326659404,
     "user": {
      "displayName": "蔡承哲",
      "photoUrl": "https://lh3.googleusercontent.com/a-/AOh14GgUjUENY9knqXHiDlNA8p9rKPZb-kSJuB4r-BTpIQ=s64",
      "userId": "08856972309667959252"
     },
     "user_tz": -480
    },
    "id": "RPqOabjgZ34j",
    "outputId": "d1678c40-612f-44bf-b1cc-db9a2465a652"
   },
   "outputs": [
    {
     "name": "stdout",
     "output_type": "stream",
     "text": [
      "7\n",
      "2\n",
      "1\n",
      "0\n"
     ]
    }
   ],
   "source": [
    "#check individual prediction \n",
    "y = np.expand_dims(X_test[0], axis=0) #Expand dimention in order to input model ,from (28, 28, 1) to (1, 28, 28, 1)\n",
    "result=np.argmax(model.predict(y)) # The value which has highest probility is prediction result\n",
    "print(result)\n",
    "y = np.expand_dims(X_test[1], axis=0)\n",
    "result=np.argmax(model.predict(y))\n",
    "print(result)\n",
    "y = np.expand_dims(X_test[2], axis=0)\n",
    "result=np.argmax(model.predict(y))\n",
    "print(result)\n",
    "y = np.expand_dims(X_test[3], axis=0)\n",
    "result=np.argmax(model.predict(y))\n",
    "print(result)"
   ]
  }
 ],
 "metadata": {
  "accelerator": "GPU",
  "colab": {
   "collapsed_sections": [],
   "name": "digit-2.ipynb",
   "provenance": []
  },
  "kernelspec": {
   "display_name": "Python 3.9.12 ('tf_2.6_py_3.9')",
   "language": "python",
   "name": "python3"
  },
  "language_info": {
   "codemirror_mode": {
    "name": "ipython",
    "version": 3
   },
   "file_extension": ".py",
   "mimetype": "text/x-python",
   "name": "python",
   "nbconvert_exporter": "python",
   "pygments_lexer": "ipython3",
   "version": "3.9.12"
  },
  "vscode": {
   "interpreter": {
    "hash": "bd02b21d4369e81b3b8e3af13b986e8d05ff61b0efbc3110d2b36cfff4168488"
   }
  }
 },
 "nbformat": 4,
 "nbformat_minor": 1
}
