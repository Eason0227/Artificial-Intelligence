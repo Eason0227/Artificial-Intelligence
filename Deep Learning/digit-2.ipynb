{
 "cells": [
  {
   "cell_type": "markdown",
   "metadata": {
    "id": "TJOspkMWZ33o"
   },
   "source": [
    "###  Digit Recognition - 2\n",
    "\n",
    "Here we have a deep learning convolutional network for MNIST dataset.\n",
    "![](img/model_cnn.png)"
   ]
  },
  {
   "cell_type": "code",
   "execution_count": 1,
   "metadata": {
    "executionInfo": {
     "elapsed": 4,
     "status": "ok",
     "timestamp": 1640326603501,
     "user": {
      "displayName": "蔡承哲",
      "photoUrl": "https://lh3.googleusercontent.com/a-/AOh14GgUjUENY9knqXHiDlNA8p9rKPZb-kSJuB4r-BTpIQ=s64",
      "userId": "08856972309667959252"
     },
     "user_tz": -480
    },
    "id": "B5guKb1jZ33s"
   },
   "outputs": [],
   "source": [
    "#!pip install tensorflow==2.0"
   ]
  },
  {
   "cell_type": "code",
   "execution_count": 2,
   "metadata": {
    "colab": {
     "base_uri": "https://localhost:8080/"
    },
    "executionInfo": {
     "elapsed": 2993,
     "status": "ok",
     "timestamp": 1640326606491,
     "user": {
      "displayName": "蔡承哲",
      "photoUrl": "https://lh3.googleusercontent.com/a-/AOh14GgUjUENY9knqXHiDlNA8p9rKPZb-kSJuB4r-BTpIQ=s64",
      "userId": "08856972309667959252"
     },
     "user_tz": -480
    },
    "id": "MAdKIqq6dHDv",
    "outputId": "f681e3d0-5eda-42e0-88ed-2fec3adddb63"
   },
   "outputs": [
    {
     "name": "stdout",
     "output_type": "stream",
     "text": [
      "2.7.0\n"
     ]
    }
   ],
   "source": [
    "import tensorflow as tf\n",
    "print(tf.__version__)"
   ]
  },
  {
   "cell_type": "code",
   "execution_count": 3,
   "metadata": {
    "executionInfo": {
     "elapsed": 9,
     "status": "ok",
     "timestamp": 1640326606492,
     "user": {
      "displayName": "蔡承哲",
      "photoUrl": "https://lh3.googleusercontent.com/a-/AOh14GgUjUENY9knqXHiDlNA8p9rKPZb-kSJuB4r-BTpIQ=s64",
      "userId": "08856972309667959252"
     },
     "user_tz": -480
    },
    "id": "hclbtZpMcRJd"
   },
   "outputs": [],
   "source": [
    "import numpy as np\n",
    "from tensorflow.keras.layers import Input, Dense, Dropout, Flatten\n",
    "from tensorflow.keras.models import Sequential\n",
    "from tensorflow.keras.layers import Conv2D\n",
    "from tensorflow.keras.layers import MaxPool2D\n",
    "from tensorflow.keras.datasets import mnist\n",
    "from tensorflow.keras import utils"
   ]
  },
  {
   "cell_type": "markdown",
   "metadata": {
    "id": "V5FeBY2FZ334"
   },
   "source": [
    "Let's load the data"
   ]
  },
  {
   "cell_type": "code",
   "execution_count": 4,
   "metadata": {
    "colab": {
     "base_uri": "https://localhost:8080/"
    },
    "executionInfo": {
     "elapsed": 591,
     "status": "ok",
     "timestamp": 1640326607075,
     "user": {
      "displayName": "蔡承哲",
      "photoUrl": "https://lh3.googleusercontent.com/a-/AOh14GgUjUENY9knqXHiDlNA8p9rKPZb-kSJuB4r-BTpIQ=s64",
      "userId": "08856972309667959252"
     },
     "user_tz": -480
    },
    "id": "YY4mCQHwZ335",
    "outputId": "ec9e56f2-ca38-40f2-8876-1b5ffe1aee8b"
   },
   "outputs": [
    {
     "name": "stdout",
     "output_type": "stream",
     "text": [
      "Downloading data from https://storage.googleapis.com/tensorflow/tf-keras-datasets/mnist.npz\n",
      "11493376/11490434 [==============================] - 0s 0us/step\n",
      "11501568/11490434 [==============================] - 0s 0us/step\n",
      "(60000, 28, 28)\n",
      "(60000,)\n",
      "(10000, 28, 28)\n",
      "(10000,)\n"
     ]
    }
   ],
   "source": [
    "# load data\n",
    "(X_train, y_train), (X_test, y_test) = mnist.load_data()\n",
    "print(X_train.shape)\n",
    "print(y_train.shape)\n",
    "print(X_test.shape)\n",
    "print(y_test.shape)"
   ]
  },
  {
   "cell_type": "markdown",
   "metadata": {
    "id": "IxGXce69Z34A"
   },
   "source": [
    "Next we need to load the MNIST dataset and reshape it so that it is suitable for use training a CNN. In Keras, the layers used for two-dimensional convolutions expect pixel values with the dimensions [pixels][width][height].\n",
    "\n",
    "In the case of RGB, the first dimension pixels would be 3 for the red, green and blue components and it would be like having 3 image inputs for every color image. In the case of MNIST where the pixel values are gray scale, the pixel dimension is set to 1."
   ]
  },
  {
   "cell_type": "code",
   "execution_count": 5,
   "metadata": {
    "colab": {
     "base_uri": "https://localhost:8080/",
     "height": 268
    },
    "executionInfo": {
     "elapsed": 1045,
     "status": "ok",
     "timestamp": 1640326608119,
     "user": {
      "displayName": "蔡承哲",
      "photoUrl": "https://lh3.googleusercontent.com/a-/AOh14GgUjUENY9knqXHiDlNA8p9rKPZb-kSJuB4r-BTpIQ=s64",
      "userId": "08856972309667959252"
     },
     "user_tz": -480
    },
    "id": "OhbFnrRNaeCl",
    "outputId": "6912ba7b-2803-48bd-f179-96aa7c2b077c"
   },
   "outputs": [
    {
     "data": {
      "image/png": "[encoded data removed]",
      "text/plain": [
       "<Figure size 432x288 with 4 Axes>"
      ]
     },
     "metadata": {
      "needs_background": "light"
     },
     "output_type": "display_data"
    }
   ],
   "source": [
    "import matplotlib.pyplot as plt\n",
    "%matplotlib inline\n",
    "# the data, split between train and test sets\n",
    "# load it for display\n",
    "(x_train,_) , (_, _) = mnist.load_data()\n",
    "\n",
    "plt.subplot(221)\n",
    "plt.imshow(x_train[0], cmap=plt.get_cmap('gray'))\n",
    "plt.subplot(222)\n",
    "plt.imshow(x_train[1], cmap=plt.get_cmap('gray'))\n",
    "plt.subplot(223)\n",
    "plt.imshow(x_train[2], cmap=plt.get_cmap('gray'))\n",
    "plt.subplot(224)\n",
    "plt.imshow(x_train[3], cmap=plt.get_cmap('gray'))\n",
    "# show the plot\n",
    "plt.show()"
   ]
  },
  {
   "cell_type": "code",
   "execution_count": 6,
   "metadata": {
    "executionInfo": {
     "elapsed": 8,
     "status": "ok",
     "timestamp": 1640326608120,
     "user": {
      "displayName": "蔡承哲",
      "photoUrl": "https://lh3.googleusercontent.com/a-/AOh14GgUjUENY9knqXHiDlNA8p9rKPZb-kSJuB4r-BTpIQ=s64",
      "userId": "08856972309667959252"
     },
     "user_tz": -480
    },
    "id": "UMjpN8CycgCa"
   },
   "outputs": [],
   "source": [
    "# reshape to be [samples][pixels][width][height]\n",
    "\n",
    "X_train = X_train.reshape(X_train.shape[0], 28,28, 1)\n",
    "X_test = X_test.reshape(X_test.shape[0], 28,28, 1)\n",
    "input_shape = (28,28, 1)\n"
   ]
  },
  {
   "cell_type": "code",
   "execution_count": 7,
   "metadata": {
    "colab": {
     "base_uri": "https://localhost:8080/"
    },
    "executionInfo": {
     "elapsed": 8,
     "status": "ok",
     "timestamp": 1640326608121,
     "user": {
      "displayName": "蔡承哲",
      "photoUrl": "https://lh3.googleusercontent.com/a-/AOh14GgUjUENY9knqXHiDlNA8p9rKPZb-kSJuB4r-BTpIQ=s64",
      "userId": "08856972309667959252"
     },
     "user_tz": -480
    },
    "id": "KpS5RTbXdu3x",
    "outputId": "ebdccd7a-ffb0-4c7f-a4a8-5e5ea1a7efba"
   },
   "outputs": [
    {
     "name": "stdout",
     "output_type": "stream",
     "text": [
      "x_train shape: (60000, 28, 28, 1)\n",
      "60000 train samples\n",
      "10000 test samples\n"
     ]
    }
   ],
   "source": [
    "X_train = X_train.astype('float32')\n",
    "X_test = X_test.astype('float32')\n",
    "X_train /= 255\n",
    "X_test /= 255\n",
    "print('x_train shape:', X_train.shape)\n",
    "print(X_train.shape[0], 'train samples')\n",
    "print(X_test.shape[0], 'test samples')"
   ]
  },
  {
   "cell_type": "markdown",
   "metadata": {
    "id": "H0AcESyGRnI4"
   },
   "source": [
    "### Hot Encode ###\n",
    "1.What is hot encoding?"
   ]
  },
  {
   "cell_type": "markdown",
   "metadata": {
    "id": "Rzznjl2SNd__"
   },
   "source": [
    "The label field is originally a number from 0 to 9, which must be converted into 10 combinations of 0 and 1, corresponding to 10 output neurons respectively."
   ]
  },
  {
   "cell_type": "code",
   "execution_count": 8,
   "metadata": {
    "colab": {
     "base_uri": "https://localhost:8080/"
    },
    "executionInfo": {
     "elapsed": 6,
     "status": "ok",
     "timestamp": 1640326608121,
     "user": {
      "displayName": "蔡承哲",
      "photoUrl": "https://lh3.googleusercontent.com/a-/AOh14GgUjUENY9knqXHiDlNA8p9rKPZb-kSJuB4r-BTpIQ=s64",
      "userId": "08856972309667959252"
     },
     "user_tz": -480
    },
    "id": "EeyRkYvDZ34H",
    "outputId": "826208e0-0fa7-4130-d304-1c331c82f94d"
   },
   "outputs": [
    {
     "name": "stdout",
     "output_type": "stream",
     "text": [
      "(60000, 10)\n",
      "(10000, 10)\n"
     ]
    }
   ],
   "source": [
    "# one hot encode outputs -- Do not keep running this cell!! \n",
    "num_classes=10\n",
    "y_train = utils.to_categorical(y_train,num_classes)\n",
    "y_test = utils.to_categorical(y_test,num_classes)\n",
    "\n",
    "print(y_train.shape)\n",
    "print(y_test.shape)"
   ]
  },
  {
   "cell_type": "markdown",
   "metadata": {
    "id": "tHIYRSbJZ34N"
   },
   "source": [
    "### The Model ###\n",
    "\n",
    "Let's define the Model. \n",
    "\n",
    "\n",
    "The first hidden layer is a convolutional layer called a **Conv2D**. The layer has 32 feature maps, which with the size of 5×5 and a rectifier activation function (**RELU**). This is the input layer, expecting images with the structure outline above [pixels][width][height].\n",
    "\n",
    "Next we define a pooling layer that takes the max called **MaxPool2D**. It is configured with a pool size of 2×2.\n",
    "\n",
    "The next layer is a regularization layer using dropout called **Dropout**. It is configured to randomly exclude 20% of neurons in the layer in order to reduce overfitting.\n",
    "\n",
    "Next is a layer that converts the 2D matrix data to a vector called **Flatten**. It allows the output to be processed by standard fully connected layers.\n",
    "\n",
    "Next a fully connected layer with 128 neurons and rectifier activation function.\n",
    "\n",
    "Finally, the output layer has 10 neurons for the 10 classes and a **softmax** activation function to output probability-like predictions for each class.\n",
    "\n",
    "### Question ###\n",
    "1. What does Flatten do? Draw a diagram to show how it is connected. \n"
   ]
  },
  {
   "cell_type": "markdown",
   "metadata": {
    "id": "XwrKS51SRAiY"
   },
   "source": [
    "### Answer\n",
    "![Inkedv2-17ece85b163a4d7334030392030b3db2_b_LI.jpg](data:image/jpeg;base64,/9j/4AAQSkZJRgABAQEAYABgAAD/2wBDAAMCAgMCAgMDAwMEAwMEBQgFBQQEBQoHBwYIDAoMDAsKCwsNDhIQDQ4RDgsLEBYQERMUFRUVDA8XGBYUGBIUFRT/2wBDAQMEBAUEBQkFBQkUDQsNFBQUFBQUFBQUFBQUFBQUFBQUFBQUFBQUFBQUFBQUFBQUFBQUFBQUFBQUFBQUFBQUFBT/wAARCAIIBYIDASIAAhEBAxEB/8QAHwAAAQUBAQEBAQEAAAAAAAAAAAECAwQFBgcICQoL/8QAtRAAAgEDAwIEAwUFBAQAAAF9AQIDAAQRBRIhMUEGE1FhByJxFDKBkaEII0KxwRVS0fAkM2JyggkKFhcYGRolJicoKSo0NTY3ODk6Q0RFRkdISUpTVFVWV1hZWmNkZWZnaGlqc3R1dnd4eXqDhIWGh4iJipKTlJWWl5iZmqKjpKWmp6ipqrKztLW2t7i5usLDxMXGx8jJytLT1NXW19jZ2uHi4+Tl5ufo6erx8vP09fb3+Pn6/8QAHwEAAwEBAQEBAQEBAQAAAAAAAAECAwQFBgcICQoL/8QAtREAAgECBAQDBAcFBAQAAQJ3AAECAxEEBSExBhJBUQdhcRMiMoEIFEKRobHBCSMzUvAVYnLRChYkNOEl8RcYGRomJygpKjU2Nzg5OkNERUZHSElKU1RVVldYWVpjZGVmZ2hpanN0dXZ3eHl6goOEhYaHiImKkpOUlZaXmJmaoqOkpaanqKmqsrO0tba3uLm6wsPExcbHyMnK0tPU1dbX2Nna4uPk5ebn6Onq8vP09fb3+Pn6/9oADAMBAAIRAxEAPwD9U6KKKACiiigAooooAKKKKACiiigAooooAKKKKACiiigAooooAKKKKACiiigAooooAKKKKACiiigAooooAKKKKACiiigAooooAKKKKACiiigAooooAKKKKACiiigAooooAKKKKACiiigAooooAKKKKACiiigAooooAKKKKACiiigAooooAKKKKACiiigAooooAKKKKACiiigAooooAKKKKACiiigAooooAKKKKACiiigAooooAKKKKACiiigAooooAKKKKACiiigAooooAKKKKACiiigAooooAKKKKACiiigAooooAKKKKACiiigAooooAKKKKACiiigAooooAKKKKACiiigAooooAKKKKACiiigAooooAKKKKACiiigAooooAKKKKACiiigAooooAKKKKACiiigAooooAKKKKACiiigAooooAKKKKACiiigAooooAKKKKACiiigAooooAKKKKACiiigAooooAKKKKACiiigAooooAKKKKACiiigAooooAKKKKACiiigAooooAKKKKACiiigAooooAKKKKACiiigAooooAKKKKACiiigAooooAKKKKACiiigAooooAKKKKACiiigAooooAKKKKACiiigAooooAKKKKACiiigAooooAKKKKACiiigAooooAKKKKACiiigAooooAKKKKACiiigAooooAKKKKACiiigAooooAKKKKACiiigAooooAKKKKACiiigAooooAKKKKACiiigAooooAKKKKACiiigAooooAKKKKACiiigAooooAKKKKACiiigAooooAKKKKACiiigAooooAKKKKACiiigAooooAKKKKACiiigAooooAKKKKACiiigAooooAKKKKACiiigAooooAKKKKACiiigAooooAKKKKACiiigAooooAKKKKACiiigAooooAKKKKACiiigAooooAKKKKACiiigAooooAKKKKACiiigAooooAKKKKACiiigAooooAKKKKACiiigAooooAKKKKACiiigAooooAKKKKACiiigAooooAKKKKACiiigAooooAKKKKACiiigAooooAKKKKACiiigAooooAKKKKACiiigAooooAKKKKACiiigAooooAKKKKACiiigAooooAKKKKACiiigAooooAKKKKACiiigAooooAKKKKACiiigAooooAKKKKACiiigAooooAy/EWsf8I/oGoan5Xn/ZLeSfyt23ftUnGccZx1rxX/hqV/8AoWl/8Dv/ALXXrPxIH/FBeIv+wfP/AOi2r4ur4TiLM8VgKlOOHla67L9UfHZ7mGJwc4RoStddl+p7z/w1M/8A0LS/+B3/ANro/wCGpn/6Fpf/AAO/+114NRXx/wDrFmX/AD9/Bf5Hy/8AbuYf8/PwX+R7z/w1M/8A0LS/+B3/ANro/wCGpn/6Fpf/AAO/+114NRR/rFmX/P38F/kH9u5h/wA/PwX+R7z/AMNTP/0LS/8Agd/9ro/4amf/AKFpf/A7/wC114NRR/rFmX/P38F/kH9u5h/z8/Bf5HvP/DUz/wDQtL/4Hf8A2uj/AIamf/oWl/8AA7/7XXg1FVHiLMm0va/gv8hxzzMG1+8/Bf5H3qrblB9RmlpkX+rT6Cn1+0LY/V1sFFFFMYUUUUAFFFFABRRRQAUUUUAFFFFABRRRQAUUUUAFFFFABRRRQAUUUUAFFFFABRRRQAUUUUAFFFFABRRRQAUUUUAFFFFABRRRQAUUUUAFFFFABRRRQAUUUUAFFFFABRRRQAUUUUAFFFFABRRRQAUUUUAFFFFABRRRQAUUUUAFFFFABRRRQAUUUUAFFFFABRRRQAUUUUAFFFFABRRRQAUUUUAFFFFABRRRQAUUUUAFFFFABRRRQAUUUUAFFFFABRRRQAUUUUAFFFFABRRRQAUUUUAFFFFABRRRQAUUUUAFFFFABRRRQAUUUUAFFFFABRRRQAUUUUAFFFFABRRRQAUUUUAFFFFABRRRQAUUUUAFFFFABRRRQAUUUUAFFFFABRRRQAUUUUAFFFFABRRRQAUUUUAFFFFABRRRQAUUUUAFFFFABRRRQAUUUUAc38SP+RB8Q/8AYPn/APRbV8W19pfEj/kQfEP/AGD5/wD0W1fFtfl/F38al6fqfnvE/wDEp+jCiiivz8+JGyypBE8kjrHGilmdiAAAM5J9APWvNZvj74bm+LHh/wACaVcQa1f6lHcST3FlcK8dn5cbOAxAILNtYYyCMc9RXot/Y2+qWNxZXcK3FrcxtDLDIAVdGGGU+xBNfO2u/D/w34D/AGofhMvh7RbPRlurfVTMLOMJ5hFscE469T+Zr18BRoVnNVbuXLJrtom9T0cHTo1edVL3s2vkrn0hRRRXkHnBRRRVR+JFR+JH3nF/q0+gp9Mi/wBWn0FPr+jI7I/dVsFFFFUMKKKKACiiigAooooAKKKKACiiigAooooAKKKKACiiigAooooAKKKKACiiigAooooAKKKKACiiigAooooAKKKKACiiigAooooAKKKKACiiigAooooAKKKKACiiigAooooAKKKKACiiigAooooAKKKKACiiigAooooAKKKKACiiigAooooAKKKKACiiigAooooAKKKKACiiigAooooAKKKKACiiigAooooAKKKKACiiigAooooAKKKKACiiigAooooAKKKKACiiigAooooAKKKKACiiigAooooAKKKKACiiigAooooAKKKKACiiigAooooAKKKKACiiigAooooAKKKKACiiigAooooAKKKKACiiigAooooAKKKKACiiigAooooAKKKKACiiigAooooAKKKKACiiigAooooAKKKKACiiigAooooAKKKKAOb+JH/Ig+If+wfP/wCi2r4tr7S+JH/Ig+If+wfP/wCi2r4tr8v4u/jUvT9T894n/iU/RhRRRX5+fEhXlnjbwTrWsfHr4beJLSz83RtHg1FL2581F8oywFYxtJ3NlvQH3r1OiuihWlh5OUVdtNferG9GtKjJyiujX3qwUUUVzmAUUUVUfiRUfiR95xf6tPoKfTIv9Wn0FPr+jI7I/dVsFFFFUMKKKKACiiigAooooAKKKKACiiigAooooAKKKKACiiigAooooAKKKKACiiigAooooAKKKKACiiigAooooAKKKKACiiigAooooAKKKKACiiigAooooAKKKKACiiigAooooAKKKKACiiigAooooAKKKKACiiigAooooAKKKKACiiigAooooAKKKKACiiigAooooAKKKKACiiigAooooAKKKKACiiigAooooAKKKKACiiigAooooAKKKKACiiigAooooAKKKKACiiigAooooAKKKKACiiigAooooAKKKKACiiigAooooAKKKKACiiigAooooAKKKKACiiigAooooAKKKKACiiigAooooAKKKKACiiigAooooAKKKKACiiigAooooAKKKKACiiigAooooAKKKKACiiigAooooAKKKKACiiigAooooAKKKKAOb+JH/Ig+If8AsHz/APotq+La+0viR/yIPiH/ALB8/wD6Lavi2vy/i7+NS9P1Pz3if+JT9GFFFFfn58SFFFFABRRRQAUUUVUfiRUfiR95xf6tPoKfTIv9Wn0FPr+jI7I/dVsFFFFUMKKKKACiiigAooooAKKKKACiiigAooooAKKKKACiiigAooooAKKKKACiiigAooooAKKKKACiiigAooooAKKKKACiiigAooooAKKKKACiiigAooooAKKKKACiiigAooooAKKKKACiiigAooooAKKKKACiiigAooooAKKKKACiiigAooooAKKKKACiiigAooooAKKKKACiiigAooooAKKKKACiiigAooooAKKKKACiiigAooooAKKKKACiiigAooooAKKKKACiiigAooooAKKKKACiiigAooooAKKKKACiiigAooooAKKKKACiiigAooooAKKKKACiiigAooooAKKKKACiiigAooooAKKKKACiiigAooooAKKKKACiiigAooooAKKKKACiiigAooooAKKKKACiiigAooooAKKKKACiiigAooooAKKKKAOb+JH/ACIPiH/sHz/+i2r4tr7S+JH/ACIPiH/sHz/+i2r4tr8v4u/jUvT9T894n/iU/RhRRRX5+fEhRRRQAUUUUAFFFFVH4kVH4kfecX+rT6Cn0yL/AFafQU+v6Mjsj91WwUUUVQwooooAKKKKACiiigAooooAKKKKACiiigAooooAKKKKACiiigAooooAKKKKACiiigAooooAKKKKACiiigAooooAKKKKACiiigAooooAKKKKACiiigAooooAKKKKACiiigAooooAKKKKACiiigAooooAKKKKACiiigAooooAKKKKACiiigAooooAKKKKACiiigAooooAKKKKACiiigAooooAKKKKACiiigAooooAKKKKACiiigAooooAKKKKACiiigAooooAKKKKACiiigAooooAKKKKACiiigAooooAKKKKACiiigAooooAKKKKACiiigAooooAKKKKACiiigAooooAKKKKACiiigAooooAKKKKACiiigAooooAKKKKACiiigAooooAKKKKACiiigAooooAKKKKACiiigAooooAKKKKACiiigAooooA5v4kf8iD4h/7B8//AKLavi2vtL4kf8iD4h/7B8//AKLavi2vy/i7+NS9P1Pz3if+JT9GFFFFfn58Sc18SPHFt8N/Aus+JbuJp4dPgMohU4MjkhUXOONzFRnHGeleOal4g+N2jeBX8f3F/wCHZLeG1/tGfwwLN18u327yPO3bvMCc46ZB5PQ++aymnyaXdHVVtn05EMlx9sCmEIvzFm3cYGM8+leEeIPE3iH9pCxuPD3gu0k0XwFcZt77xVeIUa7iBw8dpEeSpAI3HjqOMc+/lvLy+9Bct/elLa3Zee+2vY9nA8vLrFWv7ze1u3r6antXg3xNb+NPCej69ao0dvqVpHdJGxBKB1B2k9yDx+FbNUPD+h2fhfQdP0fT4zFY2FvHawKTkhEUKMnucDmr9eLVcHNumtL6Hk1OVzbgtAoooqI/EhR+JH3nF/q0+gp9Mi/1afQU+v6Mjsj91WwUUUVQwooooAKKKKACiiigAooooAKKKKACiiigAooooAKKKKACiiigAooooAKKKKACiiigAooooAKKKKACiiigAooooAKKKKACiiigAooooAKKKKACiiigAooooAKKKKACiiigAooooAKKKKACiiigAooooAKKKKACiiigAooooAKKKKACiiigAooooAKKKKACiiigAooooAKKKKACiiigAooooAKKKKACiiigAooooAKKKKACiiigAooooAKKKKACiiigAooooAKKKKACiiigAooooAKKKKACiiigAooooAKKKKACiiigAooooAKKKKACiiigAooooAKKKKACiiigAooooAKKKKACiiigAooooAKKKKACiiigAooooAKKKKACiiigAooooAKKKKACiiigAooooAKKKKACiiigAooooAKKKKACiiigAooooA5v4kf8iD4h/wCwfP8A+i2r4tr7S+JH/Ig+If8AsHz/APotq+La/L+Lv41L0/U/PeJ/4lP0YUUUV+fnxJx3xe8A3HxQ+HureGLbWG0M6gER71YDMVQOGZdu5eGC7evQn1rhtN+EPxT0fT7WxsvjHDbWdtEsMUMfhK1CoigBVHz8DAFe1UV30cdWo0/ZRty76xT/ADTOyniqtKHs42tvqk/zRS0O1vbHR7G21K/GqahFCqT3ohWHz5AOX2DhcnnA6Vdoorik+ZuT6nI22231CiiiiPxIcfiR95xf6tPoKfTIv9Wn0FPr+jI7I/dVsFFFFUMKKKKACiiigAooooAKKKKACiiigAooooAKKKKACiiigAooooAKKKKACiiigAooooAKKKKACiiigAooooAKKKKACiiigAooooAKKKKACiiigAooooAKKKKACiiigAooooAKKKKACiiigAooooAKKKKACiiigAooooAKKKKACiiigAooooAKKKKACiiigAooooAKKKKACiiigAooooAKKKKACiiigAooooAKKKKACiiigAooooAKKKKACiiigAooooAKKKKACiiigAooooAKKKKACiiigAooooAKKKKACiiigAooooAKKKKACiiigAooooAKKKKACiiigAooooAKKKKACiiigAooooAKKKKACiiigAooooAKKKKACiiigAooooAKKKKACiiigAooooAKKKKACiiigAooooAKKKKACiiigAooooAKKKKAOb+JH/Ig+If+wfP/AOi2r4tr7S+JH/Ig+If+wfP/AOi2r4tr8v4u/jUvT9T894n/AIlP0YUUUV+fnxIUUUUAFFFFABRRRVR+JFR+JH3nF/q0+gp9Mi/1afQU+v6Mjsj91WwUUUVQwooooAKKKKACiiigAooooAKKKKACiiigAooooAKKKKACiiigAooooAKKKKACiiigAooooAKKKKACiiigAooooAKKKKACiiigAooooAKKKKACviDxX/wV2+Cfg/xTrGg32leMXvdKvJrGdodOt2QyROUYqTcDIypxkD6V9v1/Pz8Lfh7oHxV/4KHS+E/FFh/anh/VPGOpw3lmZpIvNQSTtjfGysOVH3SOlAH6Kf8AD5v4E/8AQI8bf+Cy2/8Akmj/AIfN/An/AKBHjb/wWW3/AMk16X/w6/8A2ZP+iZL/AODzUv8A5Jo/4df/ALMn/RMl/wDB5qX/AMk0Aan7Mv7e3w4/au8Y6n4b8G2PiC11DT7A6jK2r2kUMZjEiRkKUmc53SL2xjPNfSdeM/BX9j74Rfs7+Ir3XPh74RHh7Vb21NlPcDUbu43wl1cptmldR8yKcgZ4617NQAUUUUAFfNf7TH7fPw4/ZS8Z6b4Z8ZWPiC51G/sF1KJtItIpoxEZJIwGLyoQ26JuAO45r6Ur8Yv+C1//ACch4M/7FOL/ANLLqgD9lNPvE1Gxt7uIMI541lUMMHawBGffFfNnh7/goN8NPE37RkvwVtLDxEvi2PVLrSWnls4hZ+dbiQuQ/nFtp8tsHZ3HAr6H8K/8ivo//XnD/wCgCvxh+EP/ACmKv/8Asedc/wDQbugD9s6KKKACiiigAooooAKKKKACiiigAooooAKKKKACiiigAooooAKKKKACiiigAooooAKKKKACiiigAooooAKKKKACiiigAooooAKKKKACiiigAooooAKKKKACiiigAooooAKKKKACiiigAooooAKKKKACiiigAooooAKKKKACiiigAooooAKKKKACiiigAooooAKKKKACiiigAooooAKKKKACiiigAooooAKKKKACiiigAooooAKKKKACiiigAooooAKKKKACiiigAooooAKKKKACiiigAooooAKKKKACiiigDm/iR/yIPiH/ALB8/wD6Lavi2vtL4kf8iD4h/wCwfP8A+i2r4tr8v4u/jUvT9T894n/iU/RhRRRX5+fEkGoahb6TYXN7dyrBaW0TTTTOflRFBJY/QA/lXimm/tS6F4w+NXhrwR4Uki1eyvY7l7/UTG6rGyQs6LETjccockgjBGO9e4yRrLGyOodGGGVgCCCMEEehFeEePtPtbD9qT4PfZbaG2DW2rbhCirn/AEY4zgfWvXy6nQqOcasbvlk1rpom/wCtT08HGjNyjON3yu3yVz3iiiivIPMCiiiqj8SKj8SPvOL/AFafQU+mRf6tPoKfX9GR2R+6rYKKKKoYUUUUAFFFFABRRRQAUUUUAFFFFABRRRQAUUUUAFFFFABRRRQAUUUUAFFFFABRRRQAUUUUAFFFFABRRRQAUUUUAFFFFABRRRQAUUUUAFFFFABX4Kfs831tpf8AwU2s7q8uIbS1i8a6mZJp3CIo33HJJOAK/euv50B8Jbn47ftoa74CtNQi0m51zxXqVsl7NGZEiImmfJUEZ+7QB/QX/wALK8I/9DVov/gxh/8AiqP+FleEf+hq0X/wYw//ABVflf8A8OP/ABV/0VPR/wDwVS//AByj/hx/4q/6Kno//gql/wDjlAH606bqVprFnHd2F1Be2kmdk9tKJEbBIOGBwcEEfhX5HfGf43fEXS/+CrGn+E7Px94otPCreMdBtW0ODWblLEwyLaGSMwB9mxtzZXbg7jnqa/Rv9kv4GXf7N3wB8M/Dy+1WHWrnSGui19bwmJJPNupZhhSSRgSAdeor8rvjt/ymM03/ALHjw5/6BZUAftlXg/7c/iLVvCf7JfxL1fRNUvNG1a00wSW9/p9w0E8Leag3JIhDKcE8gjrXvFfPH/BQj/kzH4rf9gn/ANrR0AfP/wDwR7+JnjD4mfDn4hXPi/xXrfiu5tdVt44Jtb1Ga8eFTCSVQysxUE84FfNP/Ba//k5DwZ/2KcX/AKWXVe4/8EQv+SX/ABM/7DFt/wCiDXh3/Ba//k5DwZ/2KcX/AKWXVAH7EeFf+RX0f/rzh/8AQBX4w/CH/lMVf/8AY865/wCg3dfs94V/5FfR/wDrzh/9AFfjD8If+UxV/wD9jzrn/oN3QB9Af8Ferr4nfC+98GeP/BPj3xb4b0C+VtG1Gz0fW7q1t47ld0kMmyNwu6RDIpOP+WK19hfsV/Gg/Hz9mfwP4suLj7Tq7WYsdUZjlzdwHypWb0LlfM+kgq5+158E4/2hf2d/GfgsRK+pXNmbjTGbHy3kR8yDB7BmUIT/AHXavgT/AIIs/GKTTNd8d/CfUnaJp1Gu2EEuVKypthuUwf4ipgOPSNqAP1dd1jUsxCqoySTjGK/Hz4H/ABm+Jf7X3/BRK5TRPiB4r0/4dQatNqr6Zp2tXMFmNLtWCxIYUcKBMVhVwByZmPU198f8FBvjJ/wpP9k/xvq0E/karqlv/YmnEHDedc5jLKf7yR+bIP8ArnXzr/wRk+CP/CLfCPxD8S763233ii6+xWDsvIs7ckMyn0eYuD/1xWgD9GKKKKACiiigAooooAKKKKACiiigAooooAKKKKACiiigAooooAKKKKACiiigAooooAKKKKACiiigAooooAKKKKACiiigAooooAKKKKACiiigAooooAKKKKACiiigAooooAKKKKACiiigAooooAKKKKACiiigAooooAKKKKACiiigAooooAKKKKACiiigAooooAKKKKACiiigAooooAKKKKACiiigAooooAKKKKACiiigAooooAKKKKACiiigAooooAKKKKACiiigAooooAKKKKACiiigAooooA5v4kf8iD4h/wCwfP8A+i2r4tr7S+JH/Ig+If8AsHz/APotq+La/L+Lv41L0/U/PeJ/4lP0YUUUV+fnxIV514t+HGo6/wDGbwF4ugntU07QIb6O5ikZhM5mi2LsAXBAPXJH416LRW9GtOhJyh2a+9WNqdWVJuUezX3qwUUUVgYhRRRVR+JFR+JH3nF/q0+gp9Mi/wBWn0FPr+jI7I/dVsFFFFUMKKKKACiiigAooooAKKKKACiiigAooooAKKKKACiiigAooooAKKKKACiiigAooooAKKKKACiiigAooooAKKKKACiiigAooooAKKKKACiiigAr8Gv2av8AlKHp3/Y7ap/6Hc1+8tfg1+zV/wApQ9O/7HbVP/Q7mgD95aKKKACvxP8A2gx/Z3/BYbTXuSIUHjXw3IWfptMdiQc+mDX7YV+UP/BWP9lTxgnxItPjj4IsL6/tRawjWZNPy0+nz2+BFc7R8wQoEyyg7DESSNwoA/V6vlr/AIKaeLLPwn+xX8QvtM0aT6lHbabaxSNgzSSXEeVX1IjWR/ohr4x8C/8ABbbxDo/hC3svFHw0tPEHiCCII2qWerGyiuGHG94fIfaccna2Cc4CjpxHxY1b43/8FAPA/ir4l+L9ObwX8JvBOkXeq6bZQxMsN1dLCdgjZ/mnYnG6T7qqGC7S3IB79/wRC/5Jf8TP+wxbf+iDXh3/AAWv/wCTkPBn/Ypxf+ll1XuP/BEL/kl/xM/7DFt/6INeHf8ABa//AJOQ8Gf9inF/6WXVAH7EeFf+RX0f/rzh/wDQBX4w/CH/AJTFX/8A2POuf+g3dfs94V/5FfR/+vOH/wBAFfjD8If+UxV//wBjzrn/AKDd0AftnX4uftHabJ+w1/wUq0jx5ZRNa+F9X1BNe/dr8ptblmiv4gBxkM05C9g0ftX7R18K/wDBXb4F/wDCyv2c4fGVjb+brPgm6+1kqMs1lKVjuF+gIikPoIm9aAPB/wDgrn4+vviz8YPhb8E/C0i39zI0d60UL7klu7txDbKSO6oGbP8AdnFfpt8Kfh3p3wl+G3hnwZpIxp+h6fDYRNjBk2KAZGH95mBY+7GvyN/4JU/D7V/jx+07d/EvxTPLq0PgrS7eKO5uBu3XHkC1tEPY7IInbPXMaE8nNfs9QAUUUUAFFFFABRRRQAUUUUAFFFFABRRRQAUUUUAFFFFACZrM8R6t/wAI/wCH9R1Ly/O+x28k/lbtu/apbGcHGcda0zXN/Ef/AJEHxF/14T/+i2rCtJxpSlHdJmVWTjTlJdEeT/8ADUz/APQtL/4Hf/a6P+Gpn/6Fpf8AwO/+114NRX44+Isyv/F/Bf5H5W89zD/n5+C/yPef+Gpn/wChaX/wO/8AtdH/AA1M/wD0LS/+B3/2uvBqKX+sWZf8/fwX+Qf27mH/AD8/Bf5HvP8Aw1M//QtL/wCB3/2uj/hqZ/8AoWl/8Dv/ALXXg1FH+sWZf8/fwX+Qf27mH/Pz8F/ke8/8NTP/ANC0v/gd/wDa6P8AhqZ/+haX/wADv/tdeDUUf6xZl/z9/Bf5B/buYf8APz8F/ke8/wDDUz/9C0v/AIHf/a6P+Gpn/wChaX/wO/8AtdeDUUf6xZl/z9/Bf5B/buYf8/PwX+R7z/w1M/8A0LS/+B3/ANro/wCGpn/6Fpf/AAO/+114NRR/rFmX/P38F/kH9u5h/wA/PwX+R7z/AMNTP/0LS/8Agd/9ro/4amf/AKFpf/A7/wC114NRR/rFmX/P38F/kH9u5h/z8/Bf5HvH/DUr/wDQtL/4Hf8A2ut3wN8fH8aeLLHRjoi2YuS4877Vv27UZumwZ+7696+aq7v4Hf8AJUtD+s3/AKJeu3A59mFbFUqdSpo5JPRd/Q7MHnONq4inTnPRtdF39D67ooor9eP00KKKKACiiigAooooAKKKKACiiigAooooAKKKKACiiigAooooAKKKKACiiigBrfKpNeSf8L6b/oBj/wAC/wD7CvWpPut9K+TK/LuNc5x2Uew+pz5ebmvonta26Z9TkeBoYx1Pbxva3fz7HrP/AAvpv+gIP/Ar/wCwo/4X03/QEH/gV/8AYV5NRX5f/rnnn/P/AP8AJY/5H1n9h4D/AJ9/i/8AM9Z/4X03/QEH/gV/9hR/wvpv+gIP/Ar/AOwryaij/XPPP+f/AP5LH/IP7DwH/Pv8X/mes/8AC+m/6Ag/8Cv/ALCj/hfTf9AQf+BX/wBhXk1FH+ueef8AP/8A8lj/AJB/YeA/59/i/wDM9Z/4X03/AEBB/wCBX/2FH/C+m/6Ag/8AAr/7CvJqKP8AXPPP+f8A/wCSx/yD+w8B/wA+/wAX/mes/wDC+m/6Ag/8Cv8A7Cj/AIX03/QEH/gV/wDYV5NRR/rnnn/P/wD8lj/kH9h4D/n3+L/zPWf+F9N/0BB/4Ff/AGFH/C+m/wCgIP8AwK/+wryaij/XPPP+f/8A5LH/ACD+w8B/z7/F/wCZ6z/wvpv+gIP/AAK/+wo/4X03/QEH/gV/9hXk1FH+ueef8/8A/wAlj/kH9h4D/n3+L/zPWf8AhfTf9AMf+BX/ANhXQeB/icfGGrSWR077IEhMu/zt+cMoxjaPWvBq9B+CP/I3T/8AXm//AKGle9kPFObY3MqOHr1rxk9dF+iPNzHKcHh8LOpThql3f+Z7rRRRX9Bn54FFFFABRRRQAUUUUAFFFFABRRRQAUUUUAN/GuQ8a/FLQfh7qukWeuXLWS6n5nlXDLmNSmzhz1Gd45xjg5Irr6+W/wBto/vfBv8Au3n/ALRr2cmwUMxx1PC1HZSvt6NngZ9j6mWZfUxdJXcbb+bSPpyyvrfUbaO4tZ47iCVdySxMGVgehBHWrFfnd8P/AIueJfhrchtIvibQnMljPl4H9flzwT6qQfw4r6t+GP7TXhvxz5VnqLDQtWbCiG4f91I3+xJ0z7HB9M17Ga8L4zLrzgueC6rf5o8TJ+LsDmdqdR+zn2ez9GezUUisGGQcilr44+6CiiigAooooAKKKKACiiigAooooAKKKKAOb+JH/Ig+If8AsHz/APotq+La+0viR/yIPiH/ALB8/wD6Lavi2vy/i7+NS9P1Pz3if+JT9GFFFFfn58SFFFFABRRRQAUUUVUfiRUfiR95xf6tPoKfTIv9Wn0FPr+jI7I/dVsFFFFUMKKKKACiiigAooooAKKKKACiiigBtcX/AMLe8Np44vvCdzfLY6xatGqpc4RJt8auNjdCfmAxwcg8d67TrXwV+0v/AMlu8SfW3/8ASaKvpcgyunm+Jnh6kuX3W013uv8AM+T4kzirkuGhiaUU/eSafaz/AMj71yD0OaK+Fvhn+0l4m8A+VaXch1zSF4+z3T/vIx/sSdQPY5GBjivrD4d/GTwz8SoF/su9CXgXdJYXGEnT8M/MPdcijNOH8blT5qkeaH8y2+fYMp4mwObJRhLln/K9/l3O7ooor5o+sCiiigAooooAKKKKACiiigAooooAKKKKACiiigAooooAKKKKACiiigAooooAKKKKACiiigAooooAKKKKAOWm+F/g241I6hL4S0OXUC243T6bCZSfXeVzn8a6dVCqABgDoBTqKACiiigAooooApalq9jo8Mct/e29jFJIsKPcyrGrueigk8k46d6/Pr/grZ+1Ronhv4Nv8LfDut2174l8Rzoupw2U6u1pYxsHYSFT8jSOqKFPVRJ+P1D+2L+zhN+1R8FLzwJb68nhyaS8gvEvZbU3C5iJOwqHXrnrnj0NfKX7Pv8AwRw8O/D3xtp/iP4geL18aRafKtxBodrp/wBntZJFbKmdmdjInT92FUHGCSMggHuX/BNX4DSfAn9lzQV1C2+z+IPErf27qCsuHTzVUQxnuCsKx5U9GZ/evqykHHA6UtABRRRQAUUUUAFFFFABRRRQAUUUUAFFFFABRRRQAUUUUAJ3Fc38SP8AkQvEX/XhP/6Lauk7iub+JH/IheIv+vCf/wBFtXLif4M/R/kYV/4UvRnxdRRRX89Pc/D3uFFFFIQV538Xfjp4Z+EPh29v9Qvra71GHCw6RFcqLiZyRgbeSAAck4wPrgV6JXz9+1h8MfCg+EvjHxMPD9j/AG/5cUn9peSPO3ebGud304r0svp0K2JhTr3s2lp6ndgqdKrXjCteza2Pd9Kvhqml2d6E8sXEKTBCckblDYz7Zq1WV4S/5FXRv+vKH/0WtatcNSKjNpdGcs4pSaXQKKKKzMwooooAbJIkMbySMI40G5mYgAADJJPoBXiLftOSalZ3eteH/APiDxB4RtXdZNctwiLIqHDvFEx3OowcnjGDnHNeya3pMGvaLqGl3W8W17byW0vlna2x1Ktg9jgmvKPFHxC8PfA3w3p3gXwxbS674lS2+zaX4ftR50xODh5sDCJzuLHBPOBjkevgKdKpeLp88nbTZJdX/Wh6WDhTn7rhzS/BLqz0rwd4u0zx54Y0/X9Gn+06bfR+ZE+MHgkMrDsVYEEeor1T4G/8lT0P6zf+iXrwD9n74c3fwq+EuheHdQlWXUIVeW42HKrJI7OUB/2dwHHBIJFe/wDwO/5Klof1m/8ARL1rhY04ZpCNJ3jzq3pc1w0YQzGEabvFSVvvPruiiiv3Q/YQooooAKKKKACiiigAooooAKKKKACiiigAooooAKKKKACiiigAooooAKKKKAGP91/pXyZX1m/3X+lfJlfifiR/zC/9vf8Atp9xwzvV+X6hRRRX4mfdhRRRQBleIvFmi+EbI3euavY6PagFvOvrhIV4AJwWIzjI6eorkPgf8atM+Onh7WNb0e2kg06y1afTYZZGyblY1RlmxgbQwkHynkY61v8AjX4Z+FfiPHaJ4o0Cw15LQsbdb6ESCIsAGK56Z2r+VeOfsT6fbaT4Q+IVjZQJbWdt431OGGGMYWNFEICgegA/SvpcPhcHUyqvXs3Vg4+iTb27nnTqVo4qENOV39T6Iooor5o9EKKKKACiiigBGYKpZmAAGSTwPqa8n8R/tKeE9I+JnhLwPpt5ba/rGvXDRSfYLpXWyVVJDyEZGWxwuQep9M+rTwx3UMkMqCSKRSrIwyCpGCCPQ5r5W+KXwr8IfDr49/AuXwx4c0/QpbvV7tZ2sYBGZAsKld2OwJP5mvocmw+ExVScMSm3yycUtrqLev3HnYypVpRjKna11f5tI+rK9B+CX/I2XH/Xm3/oaV59XoPwS/5Gy4/682/9DSujhf8A5HGH/wARhm/+41PT9T3Wiiiv6vPyQKKKKACiiigAooooAKKKKACiiigAooooATua+Wv23P8AXeDvpef+0K+pe5r5a/bc/wBd4O+l5/7Qr6rhb/kcUfn/AOks+N4v/wCRLX/7d/8ASkfL9FFFf0QfzOep/DP9ojxP8OzFatN/bGkLgfYrpjlB/sP1X6HI9q+sPhv8bvDHxKhSOwu/supYy+n3WElHqR2Ye4z74r8/KfDM9vKksTtHIjbkdCQQQcgg+oPpXxma8L4PMb1IL2c+62+aPt8n4tx2V2pzfPT7P9GfqD6UV8Z/DP8Aas1zwx5Vl4kR9d05cKJ8gXMY+vR/xwfftX1P4K+ImgfEDTxd6JqMV2oH7yLO2SP2ZDyK/H8yyPGZXL99G8f5lt/wPmft2VcQ4HN4r2M7S/le/wDwfkdPRRRXgH0oUUUUAFFFFABRRRQAUUUUAc38SP8AkQfEP/YPn/8ARbV8W19pfEj/AJEHxD/2D5//AEW1fFtfl/F38al6fqfnvE/8Sn6MKKKK/Pz4ko67rlj4a0W+1bU7hbWwsoWnnnfOERQSTj+gGc14xJ+1DNb6TH4jufh54jg8FSEFdcZYyRGT8sphzuCcg7s4wR17+seOvBenfELwpqHh3VvO/s++VVmFu+x8B1YYOD3UdueRXk/xi+IdlcaBffCvwRaf8JF4ovrJtMa0teYdOgZfLaSeT7qbVJ465xnGRn28vp0atoyhzNvV7JR73/z0PWwVOlU92ULu+r2SXf8A4fQ9t03UrbWNNtb+ymW5s7qJJ4Joz8skbAFWHsQf1qxWB8P/AAufBPgbQNAM32ltNsYrVpucOyIASM84zn8CK368mtGEajVN3Seh5tRRU2oPRBRRRUR+JEx+JH3nF/q0+gp9Mi/1afQU+v6Mjsj91WwUUUVQwooooAKKKKACiiigAooooAKKKKACvgj9pj/kuHiX62//AKTRV9718EftMf8AJcPEv1t//SaKv0Hgn/kZT/wP84n5px9/yLIf41+UjzCpba6msriOe3le3njbcksTFWU+oIPB+hqKiv3CUVJWZ+Axk4tNaNH0F8Mf2tNW0HyrHxTE2s2QwovIwBcRj3HAf9D1ySa+o/CHjjRPHWmi+0XUYr6H+LYcMhPZlPKn2Ir82q0tA8R6n4V1KO/0i+n0+7j6SQtj8CO49iMV8Bm3CGGxl6mF/dz7fZfy6fL7j9GyfjTF4G1LF/vIfivn1+Z+mdJXzL8Mf2vIbgxWPjK3FvJ93+07VSUP+/GOQfdc9egFfR2laxZa5YxXmn3UN5aSjck0Dh0YeoI61+RY/K8Vls+TEwt59H6M/actzjB5rDnw07+XVfIvUUUV5R7QUUUUAFFFFABRRRQAUUUUAFFFFABRRXhP7Q37a3wm/ZlxbeMfEXma46700LS0+03xU8gsgIEYPYyMoPYmgD3aivzL1j/gt94Uhuiul/C7WLy23YEl5qkVu+312qkgz7bvxr0L4U/8FiPg5441CCw8UWGteA55SFF1exLdWYJPAMkRLj6mMAdSRQB95UVn6LrmneJtJtNV0e/ttU0y8jEtve2cyzQzIejI6khh7g1oUAFFFFABRRRQAUUUUAFFFFABRRRQAUUUUAFFFFABRRRQAUUUUAFFFFABRVLUNWsdHhWW/vbeyjY7Q9xKsak9cAkjnANSWV9b6lbrcWlxFc2752ywuHVsHBwQeeRQBZooooAKKKKACiiigAoorzD9of8AaC8Nfsz/AA5l8a+LINRuNIjuorQppcKSzb5CQp2s6jHBzzQB6fRXmH7O/wC0J4a/aa+HUfjXwnBqNvpD3UtoE1SFIpt8ZG47Vdxjkd69PoAKKKKACiiigBO4rm/iR/yIXiL/AK8J/wD0W1dJ3Fc38SP+RC8Rf9eE/wD6LauXE/wZ+j/Iwr/wpejPi6iiiv56e5+HvcKKKKQgrzv9oTwnqvjr4OeJdC0S1+2apeRRpDB5ix7iJUY8uQBwpPJ7V6JRW1Gq6NWNWOrTv9xrSqSo1FUj0dzP8O2stj4f0y2nXZPDaxRyLkHDKgBGc9iD0NaFFFZyk5NyfUiUnJuT6hRRRUkhRRRQBkeMJ9WtfCusS6DbLea4tpKbGBmVVefafLBLEDG7HU+tfPHwls/iR8LdGdR8F31TxBeMZdT1yfxRZ/aL2Vjkkk5IXnhc8depJP09RXpYfG/V6UqXIpJ97/o0d1HFexpunyJp+v6NGJ4O1bWNa8P295r2hf8ACN6m5bzdNN2l15YDED94nynIwfbNerfA7/kqWh/Wb/0S9cJXd/A7/kqWh/Wb/wBEvV5fJSzCk0rJyX5mmBaeNpNK3vL8z67ooor97P2YKKKKACiiigAooooAKKKKACiiigAooooAKKKKACiiigAooooAKKKKACiiigBj/df6V8mV9Zv91/pXyZX4n4kf8wv/AG9/7afccM71fl+oUUUV+Jn3YUUUUAFeQfs1+Add+H+j+OINesfsEupeLdQ1S0Xzo5fMt5fL8t8oxxnaeDg+1ev0V3UcZUo4erhopWna/wAuxjKjGU41G9V+oUUUVwmwUUUUAFFFFABXj3xk8Aa94r+LHwh1nS7H7Vpug6ldT6jP50aeSjxKqnazAtyD90GvYaK7MJip4Op7WmruzX/gSa/Uxq0o1o8sn2/B3CvQfgl/yNlx/wBebf8AoaV59XoPwS/5Gy4/682/9DSvd4X/AORxh/U83N/9xqen6nutFFFf1efkgUUUUANNcT4y+MnhD4f6pHpuvaq1jeyQidYxbSyfISQDlEI6qfyrtvavjD9sX/kqFh/2Cov/AEdNXv5Hl9LNMbHDVm0nfb+mfM8RZnWynAvFUUm00tdtfSx75/w0/wDDb/oYm/8AAG4/+N0f8NP/AA2/6GJv/AG4/wDjdfB1Ffp/+o+X/wDPyf3r/wCRPyf/AF/zL/n3D7n/AJn3j/w0/wDDb/oYm/8AAG4/+N0f8NP/AA2/6GJv/AG4/wDjdfB1FH+o+X/8/J/ev/kQ/wBf8y/59w+5/wCZ94/8NP8Aw2/6GJv/AABuP/jdH/DT/wANv+hib/wBuP8A43XwdRR/qPl//Pyf3r/5EP8AX/Mv+fcPuf8AmfeP/DT/AMNv+hib/wAAbj/43R/w0/8ADb/oYm/8Abj/AON18HUUf6j5f/z8n96/+RD/AF/zL/n3D7n/AJn3h/w098Nv+hhb/wAAbj/43Xg37UXxO8N/EiTw0fD2oG/+xi58/wDcSR7N3lbfvqM/dbp6V4RRXoZfwpg8uxMMVSnJyjfdq2qt2PMzLjDHZnhZ4StCKjK2yd9Gn3YUUUV9qfChRRRQAVd0fWr/AMP6hFfaZeTWN3EcpNbuUYeo47H3qlRUThGpFxmrplwnKnJTg7NH078Mv2vZI/KsfGcG9eFGqWqc/WSMfzX8Fr6U0LxDp3ibT477Sr2G/s5B8ssLhgfUex9q/M6t/wAH+O9d8B6kL3Q9Rlspc/OinMcgHZkPDfz9DX5zmvB1DEXq4J8ku32f+B/Wh+m5PxviMLaljlzx79f+CfpL3pa+fPhn+1npHiDyrHxRGmi35+UXakm2kPueqfjkD1r3y2uoryCOaCRJopAGWSNsgg9CDX5LjcvxWX1PZ4mDi/wfoz9ny/M8JmdP2mFmpfmvVFiiiivPPUCiiigAooooA5v4kf8AIg+If+wfP/6Lavi2vtL4kf8AIg+If+wfP/6Lavi2vy/i7+NS9P1Pz3if+JT9GFFFFfn58ScR8ak8WTfDPXIPBFu1x4muIhBa7ZkhKbmAdw7soUhNxBzkHBryr4cXHj/4X+GrfRtF+BHlIoBuLn/hKLLzbqTvJI2MsxOT146DAr6Mor06GO9jRdB01JN31v8Ao0d9HFezpOk4Jpu/X9Gilod5e3+jWVzqNgdKv5oVeexMyy+Q5HKb14bByMirtFFedJpttKxxNpu6Vgooooj8SCPxI+84v9Wn0FPpkX+rT6Cn1/Rkdkfuq2CiiiqGNY8EnoK8s/4ae+Go/wCZhb/wBuP/AI3XqM3+qf8A3TX5e19rw1keHzl1VXk1y22t1v3T7HwPFXEGJyP2P1eKfPe979Ldmu594/8ADT/w2/6GJv8AwBuP/jdH/DT/AMNv+hib/wAAbj/43XwdRX3P+o+X/wDPyf3r/wCRPz//AF/zL/n3D7n/AJn3j/w0/wDDb/oYm/8AAG4/+N0f8NP/AA2/6GJv/AG4/wDjdfB1FH+o+X/8/J/ev/kQ/wBf8y/59w+5/wCZ94/8NP8Aw2/6GJv/AABuP/jdH/DT/wANv+hib/wBuP8A43XwdRR/qPl//Pyf3r/5EP8AX/Mv+fcPuf8AmfeP/DT/AMNv+hib/wAAbj/43R/w0/8ADb/oYm/8Abj/AON18HUUf6j5f/z8n96/+RD/AF/zL/n3D7n/AJn3j/w098Nu3iFv/AG4/wDjdfJPxw8Tab4x+KWuaxpFx9r065MPlTFGTdthjU/KwB6qeorhKK9jKuG8LlFd16M5NtW1t5Pol2PDzjijGZ1QWHrwiknfRPs11b7hRRRX1p8cFFFFABXT+B/iV4h+Hd99p0TUJLdWbMlu/wA0Mv8AvJ0zjuOcd65iisK1CliIOnWjzRfRnRQr1cPNVKMnFrqj7R+GX7VGgeLPKsteC6BqbfLvkbNtIfZ/4T7N9MmvcI5ElQOjBlIyCDmvy+r0b4a/HfxR8NXjhtrn+0NKB+bT7tiyAf7B6p36cc9DX5dm3Balerl7t/df6P8Az+8/WMn46nG1LMldfzLf5r/I+/uaWvMfhn8fvDHxHWO3iuf7N1Zuun3ZCuT/ALB6OPpzxyBXpw9ulflmIwtbCVHSrxcZeZ+v4XGUMbTVXDzUovsLRRRXOdgUUUUAFFFFABRRRQB8p/8ABQ79rp/2Vfg+jaI6f8Jz4iaS00YOocW4UAzXLKeCIwygA5BZ0yCAa+Bf2Ff+Cf1/+1rcXfxV+Kup6kfCl1eSPGvnH7Zrk4c+bI0p5WMPlSw+ZiGAK4zXPf8ABVXxdqHxS/bVk8IWjtKmh2tjotnCThPOmVZ2YD1LXCqT/sD0FftH8OvA2m/DLwH4e8JaPGItM0SwhsLcYwSkaBAxx/EcZJ7kk9aAPNtA/Yl+AnhvS00+0+EXhGWBU8sPf6XFeTEeplmDuT7ls18//tPf8EpPhn8TPC9/f/DfTIvAnjSGIvaR2kjLp1045EcsRzsz0DR4xkEhsYr7tooA/Fz/AIJg/tNeI/gb8dl+C3i2aeLw7rV/Jpi2N25P9l6qrMqhOTgSSAxso6syHsc/tHXz7rf7BvwO8QfFKT4i3ngtv+Ewk1FNXbUINVvYf9LVw4lEaTBAd6hjheTknqa9e+Inj7Q/hZ4J1vxb4kvV0/Q9Htmurq4bkhV7KO7McKFHJJAHWgDpKK/E7xx+2F+0X+3l8UpfB/wnGq+G9BkZvJ0vQ5zbvHb5x517dqQQD3G4JyFAY/e3bz/gmH+1V4b07+3tL8eWF5ragyGz0/xJeRXm4DICyPGibs+rgZxzQB+ylFfkB+yj/wAFJviL8GPiZH8Nv2gJL680pbkWM+o61GU1LR5CRhpmI3Sxc5YvlgCGDEDaf1w1S4/4kt5NDJ/y7u6SRt/skggigC/RX4O/sw/8FBPiX8Km8Yzaj4j8TfEbxNqthDp3hzStb1G61CBLx5l/emNnJJC5AVfmYsq9CSPYX/YN/bE/aIgXxP44+IEOj3V7H56abrut3KPFnlU+z28TRwjvtGCM8jOaAP2Bor8MNN+MX7Rf/BNv4yWmg+MNTvNW0aULNJpN7fvfadqNqXIaS2ZjmJ+DggKwIG9SOD+2/hHxTpvjjwro3iPR5/tWkavZw39pPjG+GVA6Nj3VhQBsUV+OP7SX7Vni/wCC/wDwUk1uXUPHHitPAGh6rY3Fx4ds9VuPsskIsoHaJbfeI8OxPBGMsSe5rQXwL+2B/wAFDBJ4xj1r/hX3gK8k3aXp9zqU+n2TQ4+VkjiRpJ+D/rXXDEnaQOAAfr9RX4X/ABW+C/7T/wDwT3vNL8Yp4zuZdFa5WIanoeqTXNj5vJWK5gmVchgD99Cp7HNfqx+xX+0pH+1R8BtK8YzQwWmuRTPp2sWlsGEcN3HtLbNxJ2sjxuAScB8ZOKAPeKK+WP28v22tP/ZD8D2sdhbwax481pXGlabMx8uFF4a5nAOfLU4AUEFzkAgBiPgPwf8As5/tf/txadH4113xldaLoOoHzrM69qU9jbyxMMh7e0gQgIQRhiihhggkc0AftHRX4i+NfA/7XH/BPG5tPFDeJrzUvDCyokt1Y38upaQx3ALHcQygGPdnaGKL97CsGr9Q/wBjv9qrRv2tPhLB4nsoV03W7OT7HrOlBt32W4Cg5UnkxuDuU/UdVNAHu9FfJf7f37cVr+yP4PsrHRre31X4ga4jNp1pcEmG1hU4a5mUHJXd8qrkbiG5wpr8/fhv8Av2s/28dPfxpqPja8sPD1y7fZrzxBqk9paTc/N9mtoEI2Z43BFU4IySDgA/baivxU+I3wN/a7/YP02PxxY+PLrVvDdiyi4uNH1Wa9tLdSwVftFrcIBtJIG7YwHqCRX3j+xr+2E/7ZPwO8RW6qmkfEzSbJrW/t7Z2ijaSSNxBdQtnKqzKcjOUZT22kgHlf8AwWw/5N38Ff8AY1R/+klzXtX/AATE/wCTGfhh/wBc9Q/9ONzX5X/tefAX9pH4T+A9I1L4zeMtS8R+H7jUlt7S3vPEs+pqlyYpGDCORiFOxXG7rzjvXX/s6/syftb/ABA+Dfh3X/hr4/1bRvBN4s50+xtvF9zYxxBbiRJMQowVMyLI3A5znvQB+4tFc14y8baR8MPAup+J/E9+mn6Po9m11e3UhJ2qi847sxPAA5JIA5NfkX4l/ac/aS/4KH/EjUfDXwgXUfCfg62PzQ6fdG0WGFshZL67Ug7n2t+7U4OCFVtpYgH7M0V+M+vf8E3P2sfhlpr+JfD3jqLWNVgX7Q9r4e8RXkd6WXn5DIkYcgdg2SQQAeM+2/8ABPT/AIKIeJfGnjhPg78ZHf8A4SlnkttM1i7h8i4kuEJ3Wl0mBiUbWCtgEldrZYgkA/SuiqGtazY+G9Hv9W1O6isdNsYJLq6up22pDEilndj2AUE/hX40/Gz9u341/tlfFxfh/wDBJtW0HQbqdrews9GkNvfXsY4M9zcAgxJjLFQyoqn5ixGaAP2lr4n/AOCvv/JnN7/2HLH/ANCevlWx/wCCXP7Uujwrr1h8UtLtPECr5oit/EWoJcBgMhRKIcbu33se9eQ/tCftSfF7/hTviL4A/HHTryfxTp2oWl1ZardqouAkbNlZWHyzoykMky5Jwcls5UA/Qb/gkD/yZ1af9hy+/mlfbVfEv/BIH/kzq0/7Dl9/NK+2qACiiigAooooATuK5v4kf8iF4i/68J//AEW1dJ3Fc38SP+RC8Rf9eE//AKLauXE/wZ+j/Iwr/wAKXoz4uooor+enufh73CiiikIKKKKACiiigAooooAKKKKACiiigAru/gd/yVLQ/rN/6JkrhK7v4Hf8lS0P6zf+iZK9PK/99o/4l+aO/L/98pf4l+Z9d0UUV++n7SFFFFABRRRQAUUUUAFFFFABRRRQAUUUUAFFFFABRRRQAUUUUAFFFFABRRRQAx/uv9K+TK+s3+6/0r5Mr8T8SP8AmF/7e/8AbT7jhner8v1CiiivxM+7CiiigAooooAKKKKACiiigAooooAKKKKACvQfgl/yNlx/15t/6GlefV6D8Ev+RsuP+vNv/Q0r6jhf/kcYf1PHzf8A3Gp6fqe60UUV/WB+SBRRRQAV8Xfti/8AJUbD/sFRf+jZq+0a+Lv2xf8AkqNh/wBgqL/0bNX2fCP/ACNYej/I+C42/wCRRL1X5nhVFFFf0AfziFFFFABRRRQAUUUUAFFFFABRRRQAUUUUAFFFFABRRRQMK7j4d/GTxP8ADW4UaXemSwzl9PufnhbnsP4T7jHvmqXgP4X+I/iRfeRotg8sSnbJdy5SGL/ebH6DJx2r6r+Gf7Lfh7wd5V5rO3X9UX5v3yYt42/2Yz1+rZ6AgCvjs8zjLMNSdHFJVH/Lv/wx9pkGS5riqsa+Ebpr+bb7u53Hwo+JD/Ezw6upvo15pBGAVuF+STI+9E3G9ffArtqRY1RQAAoHTFO/lX4FWnCpUlKnHlT2W9vmf0dh4VKdKMKsuaS3drX+QtFFFZHQFFFFAHPePoTceCNfiBAL2E4Gen+ravkL/hF7v/npD+bf4V9h+NP+RR1n/rzm/wDQDXzJX4nx9i6uHxFFQ7P8z1sDw7gc8jKeLTbjorO25y//AAi93/z0h/Nv8KP+EXu/+ekP5t/hXUUV+U/2piD0/wDiH+S/yv7zl/8AhF7v/npD+bf4Uf8ACL3f/PSH82/wrqKKP7UxAf8AEP8AJf5X95y//CL3f/PSH82/wo/4Re7/AOekP5t/hXUUUf2piA/4h/kv8r+85f8A4Re7/wCekP5t/hR/wi93/wA9Ifzb/Cuooq4ZpiOZB/qBky1UX959aR8RqPanU2P/AFa/SnV/XkPhR8sFFFFWAyT/AFLfQ1+XlfqHJ/qW+hr8vK/V+A/ixP8A27/7cfjXiJthv+3v/bQooor9cPxkKKKKACiiigAooooAKKKKACiiigAooooAKKKKACiiikMcrFWDKSCDkEcH617d8Kf2mvE/hme20vUo5fE1izCNIySbpcnorfx/Q89ORWP8M/2b/E/xA8q7uIjomkPz9quk+dx6pH1P1OBjkZr6x+HXwZ8M/DO3U6ZZiW/Iw9/cYeZvxx8o9hgV+c8RZzlXs3h6kVVn5dP+3unyP03hnI84dSOJpTdKHn1+XX5nX6TqH9qabbXZt5rTzkD+RcpskTPOGHY1co4ozzX4m2m9D97imkk9x1FFFBQUUUUAFFFFAH4M/tgTDw3/AMFMtdu9QYCG38U6VdyNJ0EWy1kGfbaRX7zV+M3/AAWY+D9z4Y+OGgfEO3iP9l+J9PW1mlVfu3lthSGPbdE0WM9dj+lfpL+xj+0Lp/7SXwB8M+JortZ9cgt0sdbgyN8N9GoWQsB0D48xf9lx3zQB7pRRVa+vrfS7Oe8u547W0t42lmnmYKkaKMszMeAAATk+lACTalaW8hjluYY5B1V5AD+Wa/Pr/gtL8QLvw/8AAfwl4UtZXij8Q60ZbracCSG2j3eWR3HmSRN9YxXw3qV5/wANsf8ABRpbnSBJeaTr/ieHy5HQg/2ZahQZCvb/AEeAtg+uK+0/+C2nhC51L4P/AA/8SxRmS30nWZrOYqudn2iEMrH0GbfGfVh60Aejf8EkfhHpngX9lPT/ABVFa7Nc8YXU95eXDj5zFDNJDBGP9gKjOB6yt64H21Xx/wD8EqviJY+N/wBjnwvpsV2k+peG57rS76EH5oj57yxZHoYpI8HpwfQ19gUAflF/wWw+Eem2N54C+JNlbeTqd88ui6jMowJgiiS3LcfeA85cnqAo/hFfYn7CPxAu/iX+xD4E1bUJXnvodJn0yWRzlm+yyS26knuSkSHJ55r5U/4Lc/EWxXw/8OfAkV2j6i93PrVzaqctHGqGGJ29AxeYD/cavpr/AIJ5+D7rwX+wl4Htr2Jorq90+71MqQRlLieWWI/jE8Z/GgD81v8Agkd8O9O8dftcW97qNtHdJ4b0e51mBZBlVnDxQRtjuVM5YZ6FQeoFfunX4t/8EUv+TnfFv/Yn3H/pbZ1+0lAH5jf8FwNPgfwT8Kr1kBuYtRvoVfuFeKIsPzRfyr6+/YOvpdQ/Y7+EsszbnXQoYgf9lCUUfgFFfJP/AAXA/wCSc/C//sK3f/olK+r/ANgH/kzX4T/9gdf/AEN6APyq/bE8HQ/ET/gqFq3hW5GbbXPEui6bKAxX5JoLONuR04Y1+5mm6da6Pp1rp9jbx2llaxJBBbwqFSKNVCqigdAAAAPavxY+O3/KYzTf+x48Of8AoFlX7ZUAfN//AAUW0+DUv2K/inFcIJETT45lB7MlxE6n8GUGvmv/AIIjX0snwh+I1mT+4i12GVV9Ge3UMfyRfyr6d/4KEf8AJmPxW/7BP/taOvlr/giF/wAkv+Jn/YYtv/RBoA+Sv20fiRo3j7/golqtx47mmbwToOt2mkXcEamVlsLZlFxGig5+dvPPHeQ1+hNv/wAFbP2c7O3it7e/1uGCJQkcceiuqooGAoAOAAMdK/Pf9prwH4e8Lf8ABTLVdL8f2ySeDNX8VWl7qJmlkgjayuzHJI/mIVYBRK+WUjlGr9NP+HW/7MTdPhqf/B9qf/yTQB5147/4Kgfsx/EfwZrfhbXbnW73R9XtJLO6gk0ZyGR1IOOeCM5B6ggEc18kf8EbfHFx4d/aa17wxDcmTStd0SbcnKh5beRHikx6hGmGD/fNffE3/BL79mC3ieST4cCONFLM7+INTAUAckk3PArk/wBkfwj+xtc/Fv7b8C4kuPG+l2U05khudXcRW7bYpCftLeUQfMUdzzkdM0AfBH7WJm/aW/4KYXHhK+uJl02bxHYeFU2HJt7ZHjimKf8AAjNJ9WNfuPpemWmiabaadYW8dpY2kSW9vbxDakcaKFVVHYAAD8K/DL4yagnwF/4KnXuua032TTrPxva6xczsCQtpcSRzO/viOVvxBr91o5FkRXQh1YZDKcgigDN8VeG9P8ZeGdX0DVYBc6XqtpNY3UJ6SQyIUdfxViK+ev2Yf2Afh9+yf401HxN4P1rxRe3moae2nT2+sXdvLAYzJHJuCxwIdwMYwc9Gbjmvo3WtXtPD+j32qX8y29jYwPc3ErdEjRSzMfoAa+Xv2T/+Cgnhv9rjx1qnhvw74Q13SP7O09tQuL7UWhMKr5iIqfI5O5i5I9lagDx//gth/wAm7+Cv+xqj/wDSS5r2r/gmJ/yYz8MP+ueof+nG5rxX/gth/wAm7+Cv+xqj/wDSS5r2r/gmJ/yYz8MP+ueof+nG5oA8W/4LRfES88O/AXwp4TtJWhj8R6yZLva3EkNsm/yyO48ySFvrGK8u/YL/AG5PgD+zH+z3pXhvWLnVIPFt1cT32tTWulPIskzSMIxvzyFhEa8cZDHua9C/4LYeDLjVPgv4D8TRRl4dH1uS0mKgkotxCSGPoN0Cj6sPWsr9gv8AYq/Z1/aE/Zj8LeKte8FprHigPc2WsTR6zfxFbiOZwoZI5wqkxGF8KBw49aAPXv8Ah7v+zx/0FNe/8E8n+Nfml+298c/AXxC/ac0/4o/B6e6tJGhtb66mmtGtnXU4JWImCk85RYTkdWDHqa/VT/h1v+zH/wBE1P8A4PtT/wDkmvHfi5+zr+wN8CvFVt4a8caRDoeu3Ful3FZf2nrc7mNmZFb91KwGWRsAnPHTpQB3f/BS74sXGm/sIX2o6e7Wz+Ljp9kGjblYp8TSKD3DRxsh9mNeW/8ABFP4XWGm/Cnxp8QZIg2r6rqv9kRyMoyltBHHIdp/25Jju/65LXpP/BUb4aRzfsLz2ehWrpp3hO6065ht8u7x20f+jAZYljtWUEliThSTXFf8EW/iHYax8BvFXg03K/2vouuNem36H7LcRRhGHr+8imBx0+X1FAH6I1+dH/BaL4U6frfwX8MfEBIdutaFqi6c8yj79rcK5Kt67ZI02+m9/Wv0Xr4A/wCCzHxDsfD/AOzfovhRrgDVfEOtRvHb92t7dGeR/oHaAf8AAxQB0v8AwSB/5M6tP+w5ffzSvtqviX/gkD/yZ1af9hy+/mlfbVABRRRQAUUUUAJ3Fc38SP8AkQvEX/XhP/6Lauk7iub+JH/IheIv+vCf/wBFtXLif4M/R/kYV/4UvRnxdRRRX89Pc/D3uFFFFIQVznxA8faP8MvCt54h1ycw2FtgEJgvIxICoik8sSemegJOBmujr5n/AGtvgj4WuPh/4r8bTQ3kuuwLHLE8l5I0UbGSNDiPO0AqfSvRy+jRr4iNOs2k2tjuwdKlWrRp1XZN9D6R0+9j1KxtruLd5VxGsqbhg7WAIyPXBqesrwl/yKujf9eUP/ota1a4prlk0uhyTSjJpdAooorMgKKKKACvH9T/AGqfAmn3l2kcup6lp9nL5N1q2n6fJNZQNxndKBgjn+EHPbNeo+INLbXNB1LTkuXs3vLaS3FxF96LehUMvPUZz17V5jqWqeEf2a/hHY+H7yaO+Eds1ta6aIwZ9TlbOQIhnO5m5PIG73APqYKlRqe7OLlJvRLTTq9mejhadKekk5SeyX5nqGi6zY+ItJtNT0y6jvLC6jE0FxCcq6nof/rdQa9I+Bv/ACVPQ/rN/wCiXr50/Zn8F6r8P/gr4d0bWlaLUUWWZ7djzCJJWkCH0IDDI7Ekdq+i/gd/yVPQ/wDem/8ARL10YWnGjmkKdN3SmtfmbYWEaeYwhB3SkvzPruiiiv3Q/YQooooAKKKKACiiigAooooAKKKKACiiigAooooAKKKKACiiigAooooAKKKKAGP91/pXyZX1m/3X+lfJlfifiR/zC/8Ab3/tp9xwzvV+X6hRRRX4mfdhRRRQAjMsalmIVVGSxOAMdcn0rkvhr8VNA+LGnatf+HZ5Luy07UptLkuGA2SyRhSzRkE7kIdcN3qp8VPgx4a+M1jZ2XiZL6W0ti5WK1vZbdX3bdwcIRu+6OteVfsN6La+HPAvjvSbFGjsrHxpqVrAjMWIjRYVUE9zgDrX0dDB4WpllbFczdSDjpbRXb631+5W8zz51qscTCnb3Xf1Po6iiivnD0AooooAKKKKACuP8WfFfw94N8YeF/C+oXLnWvEUzw2VtCAzfKuS7jPyr2zjr9K625t1u7eaBywSRSjbWIOCCDg+uD2r488cfAfwn8I/2iPgtqHh6C9F7qmq3KXU17ey3LOqQjby5OMbjXv5ThcLjKk4YiTTUZNJLdqLervpt2dzgxdarRjF01pdX+bSPsavQfgl/wAjZcf9ebf+hpXn1eg/BL/kbLj/AK82/wDQ0rq4X/5HGH9Tmzf/AHGp6fqe60UUV/V5+SBRRRQA0/rXzF+0p8H/ABf498e2mo6DpBv7NNPjgaQXEUeHEkhIwzg9GHbHNfT1JXpZdmFXLMQsTRScl321+48jNMso5th3hq7ai9dN9PvPgr/hmf4lf9C03/gbb/8Axyj/AIZn+JX/AELTf+Btv/8AHK+96K+v/wBd8y/kh9z/APkj4v8A1Byz+ef3r/5E+CP+GZ/iV/0LTf8Agbb/APxyj/hmf4lf9C03/gbb/wDxyvveij/XfMv5Ifc//kg/1Byz+ef3r/5E+CP+GZ/iV/0LTf8Agbb/APxyj/hmf4lf9C03/gbb/wDxyvveij/XfMv5Ifc//kg/1Byz+ef3r/5E+CP+GZ/iV/0LTf8Agbb/APxyj/hmf4lf9C03/gbb/wDxyvveij/XfMv5Ifc//kg/1Byz+ef3r/5E+CP+GZ/iV/0LTf8Agbb/APxyuX8bfDXxJ8OzZjxDpv8AZxvN/kfvo5N+3bu+4xxjcOvrX6O/jXy3+25/rfB30vP/AGjXtZLxVjcwx9PC1Yx5ZX2Tvom+58/n3CGByvL6mLozk5Rtu1bVpdvM+X6KKK/WD8fCiiigAoqxY2Nzql3Fa2dvLdXMrbY4YULu59AAP5CvoT4Zfsj6hq3lX3i6ZtNtjhhp8BBmf/ebkKPYZOPQ15GYZrhMshz4idvLq/RHs5dlGMzSpyYaF/PovVnhPhrwrq/jDUksNG0+fULpv4IV4UZxlmOAo9ya+m/hl+yLZ6f5V/4wnF9Pww063YiFT/tt1b6DA4717z4X8H6N4L01LDRdPhsLVeSsS8sfVj1Y+5NbXNfkObcXYrGXp4X93D8X8+ny+8/acn4LwmCtVxf7yf4L5dfmVNN0y00izitLK2itLaIbUhhQIqj0AHGKtrR/OivgW23d7n6PGKgkoqyHUUUUFBRRRQAUUUUAYnjX/kUtY/685v8A0A18yV9N+Nf+RS1j/rzm/wDQDXzJX4N4jf7zQ9H+Z99wz8FT1QUUUV+QH2oVx+s/Fbw9ofxI8O+BZ7h5PEWuRTzW9vCA3lpEhctIc/KGCtt45Kmum1bTIda0q90+4Mgt7uF7eQwyFH2spBKsOVOCeR04r5Kb4I+Fvg7+2F8JH8NwXUcmq2+rSXcl5eSXLyMlqwU5ckjhjX0OU4PC4v2qryfMoSaSWjcYt6u+m3bU8/FVqtLlcFpdJ/NpH1/RRRXzx6AUUUVdP40TLZn1pH/q1+lOpsf+rX6U6v7Sh8KPw4KKKKsCOQFo2wOccV8Gf8Mz/Er/AKFpv/A23/8AjlfetFe/lOdYnJnN4dJ81r3v0v2a7nzWc5Bhs89n9Zk1yXta3W3dPsfBX/DM/wASv+hab/wNt/8A45R/wzP8Sv8AoWm/8Dbf/wCOV970V9F/rvmX8kPuf/yR8z/qDln88/vX/wAifBH/AAzP8Sv+hab/AMDbf/45R/wzP8Sv+hab/wADbf8A+OV970Uf675l/JD7n/8AJB/qDln88/vX/wAifBH/AAzP8Sv+hab/AMDbf/45R/wzP8Sv+hab/wADbf8A+OV970Uf675l/JD7n/8AJB/qDln88/vX/wAifBH/AAzP8Sv+hab/AMDbf/45R/wzP8Sv+hab/wADbf8A+OV970Uf675l/JD7n/8AJB/qDln88/vX/wAifBH/AAzP8Sf+hab/AMDbf/45XB+JPDepeEdaudI1e2+x6jbFRLDvV9u5Qw5UkcgjpX6Y18FftMf8lv8AEv1t/wD0mir6rhziPF5ti5UK8YpKLeifdLq33Pj+J+F8HkuDjiMPKTbklq12b6JdjzCiiiv0g/LwooooAKK3fCXgnW/HWpLY6Jp019P/ABFBhIx6ux4UfXr2zX1D8Mf2S9K0Pyr7xXKusXo5+xR5Fsh9+7/jgex6187mefYLK01VleX8q3/4HzPpcq4fx2byXsY2j/M9v+D8j53+Hnwf8TfEq4H9lWJSyBw9/cfJCnsDj5j7DP4V9X/DL9mvw14B8q7u0GuawuG+1XKfJG3+wnQfU5PuK9ZtbOCxt44LeFIIIwFSONdqqB0AA6Cpq/Hs14nxuZXhF8kOy/Vn7dk/CWByu1Sa9pU7vZeiFVQowBgUtFFfHn3AUUUUAFFFFABRRRQAUUUUAeZftEfAPw5+0p8K9V8DeJ0ZLS7xLbXkIBmsrhM+XPHnuCSCO6swPDGvxs1LwB+0X/wTJ+JVzrekxTnQ5G2NqttC1zo+qQKx2rcKP9W3J+Virrltpx8x/eCmSRrKhR1DqwwVYZBFAH5SeHf+C4l5DpiR698I4LrUFT559O15oInb2je3cqP+BtXjXxv/AG8/jf8AtwTH4feBPDF3o2jX6lJ9B8NiS7urxCcEXE4VT5QB5AVFIJ3ZHT9gdQ/Z5+Fmr3Qub74Z+D724B3Ca40G1kfPrkx5rrfDvhXRfCNiLHQtIsNFsgci2061SCP/AL5QAUAfHP8AwTp/YJf9l3R7rxd4x+z3PxG1eDyGhgcSRaXbEqxhVhw0jFRvcZHyhV4yz/UHxu+EOhfHr4W+IfAniNGOl6xb+U0sf34JAQ8cyf7SOqsM8Hbg5BIru6KAPwqt9L/aB/4JZ/Fa+vrawa88MXcixTXfkPLo+swKTs3MOYpBuOASrqSfvKfm9r1n/guBrc/h/wArS/hRY2euFSPtV1rTz26tjhvKWFGIz23jp154/WWaGO5heKWNZYnUqyOMhgeCCO4rm7P4X+DdPvxfWvhLQra9Dbhcw6bCkuR33Bc5oA/HH4A/sk/F39vj4yD4kfFgajZ+EriZJ7/V76I27X0KY22tlHgYUgbd6jYo3HJbg/tBdabbaP4VlsbKBLWztbJoIIIl2rHGse1VUdgAAPwrXooA/Fv/AIIpf8nO+Lf+xPuP/S2zr9pKKKAPzO/4Lgf8k5+F/wD2Fbv/ANEpX1f+wD/yZr8J/wDsDr/6G9fQVFAH4m/Hb/lMZpv/AGPHhz/0Cyr9sqKKAPnj/goR/wAmY/Fb/sE/+1o6+Wv+CIX/ACS/4mf9hi2/9EGv0sooA+F/+Clv7C9/+0toen+NPBEUcnj7Q7c2z2LsE/tO03FxErHgSIzMVyQDvYE/dr5P+DH/AAVI+K37M+mJ4B+Kfgi48US6Sotof7Umk03U7eNRtWOQtE/mAAYBZQ3qxr9mKyNe8K6J4qhSLWtH0/WIkztS/tUnUZ64DA0AfkL8Yv8Agp98Uv2ptFuPht8K/h5caDca5G1rP/Z08mpalNC3DrHsjQRKVJDNtYgE4ZetfZH/AATb/Yxvf2Wvh7qOr+Kgo8d+Jlha9tUZXXT4E3GO3DDOXy5ZyDjIUDO3cfrbRPDek+Grf7PpGl2WlQf88rK3SFfyUAVp0AfAn/BTj9hHVf2hrOy+IXgG2S58baTbfZLzS9wRtTtVJZPLJ481CzYBI3K2M5VQflz4C/8ABUr4k/s0aDH8PviX4JuvFTaOPs1udSuZNO1K0jUACKTfE/mBQMDcoYDgscAV+z1Y3iDwfoPiyNE1vRNO1hEBCrqFpHOBnrjeDigD8cfjh/wUT+LX7a2mt8Lfhx4Cm0O11oeTeWWlTSahf3ceRlDKEQRxEff+XpkFtuQfvL/gnZ+xzJ+yj8LrufxAEbx54kaOfVljkDpaJHu8q2RgcHaHYsw4LMQCQqmvqbSdD03w/aC20vT7XTbYdIbSBYk/75UAVfoA+Mv+CrHwT8TfGf8AZntx4T0y41nVfD+sw6s+n2kbSzzwCKaJxGiglmBlVsDnCtivgL9nj/gpp8Qv2Wvhbpnw3fwRpeqWOkST/ZX1Hz7a4RZJXlZHwcHDyPjgcEDtX7lUUAcB8ZvhNon7QHwi13wR4iRhpuuWgjaSMAvBICHjlTP8SOqsM8fLg8Gvx20LU/2gv+CVnxI1KGXSjqngy+m/emSJ30jVVHCSJKOYZsHoSGHAZWGM/uRUNxbxXlvJBPEk0MilXjkUMrA9QR3FAH5T6z/wXEvJtFddJ+EUNrq7IQk17rzTQRtjglFt0ZxntuX61hfsl/sr/FP9rj9omH46/Gi0vNN0KC7h1WFb638g6lJGQbe3ghblbZAq5YjDKAAWLMy/qxpnw58J6LfG907wvo1heMcm4tdPijkP/AgoNdHQBjeLvCumeOvC2r+HdbtEvtH1a1lsry2ckCSGRCrrx0yCeRzX4lfET4J/G3/gmZ8apPGXg43l94UWRkttcihMtleWpYN9mvkXhG4AIbbyu5DkZH7nUySNZUZHAZWGCrDIIoA/KeL/AILi3K6Hsk+EETazs2+aviAi3LY+9s+zlgM/w7v+Bd6+Xf2htJ+Nf7RHgnXf2hPidDcaToENzb6dotnPC0MLrK7fu7WNjkRIFJMhzvYjljuK/uta/DHwfZaiNQtvCmh298GDC6i06FZcg5B3Bc5rp6APiX/gkD/yZ1af9hy+/mlfbVFFABRRRQAUUUUAJ3Fc38SP+RC8Rf8AXhP/AOi2rpO4rm/iR/yIXiL/AK8J/wD0W1cuJ/gz9H+RhX/hS9GfF1FFFfz09z8Pe4UUUUhBXmH7TWj3+v8AwL8V6fpllcajfTwxLFbWsTSyyETxk4VeTgAn6A16fRW9Cq6FWFVK9mn9xrRqOjUjUS2dzN8LwyW/hvSIpUaOVLSFWR1IZWCKCCPUH1rSoorKT5pOXciT5m5dwoooqSQooooAyPF+sXXh/wAK6vqVjYy6nfWlpJNb2UEbO88iqSiALycnA4r5l+E/iSHwvM3ibxZ8N/iH4i+IF2S93q03h5pFhJziO3BYeWig44AJ56DCj6xor1sJjYYelKnKF+bre3y9D0MPio0acoON7+dvkYvg/wATf8JdoMGqDS9T0bzWYfY9Ytvs9ymGI+ZMnGcZHPTFeq/A3/kqeh/Wb/0S9cJXd/A7/kqWh/Wb/wBEvRl7UswpOKsnJafMvAtSxtNpWXMvzPruiiiv3o/ZQooooAKKKKACiiigAooooAKKKKACiiigAooooAKKKKACiiigAooooAKKKKAGP91/pXyZX1m/3X+lfJlfifiR/wAwv/b3/tp9xwzvV+X6hRRRX4mfdhRRRQAV4h+yl4d1Xw5ofxCj1bTLzTJLrxrqV3breW7RGWF/L2SKGA3IcHDDg817fRXo0MZKhhquGSuqlte1jnnR56kaj+zf8QooorzjoCiiigAooooAK8O+Ovh3VdY+M3wRvrDTLy9stO1W8kvbm3gaSO2VoUCtIwGEBIPLEdK9xorvwWKeDq+1ir6SX/gSa/UwrUlWhyPy/B3CvQfgl/yNlx/15t/6GlefV6D8Ev8AkbLj/rzf/wBDSva4X/5HGH9Tzs3/ANxqen6nutFFFf1efkgUUUUAFFFFABRRRQAUUUUAFFFFABRRRQAnc18tftuf67wd9Lz/ANoV9S9zXy1+25/rvB30vP8A2hX1XC3/ACOKPz/9JZ8bxf8A8iWv/wBu/wDpSPl+iivQ/ht8C/FHxLeOaztfsOlE/NqF0CseP9gdX79OPcV+/YrF0MHT9rXmorzP5ywuDr42oqWHg5S8jz0AswAGSeK9m+Gf7MPiPxt5V5qwbw/pLc7p0/fyD/ZjPT6tjtwa+jfhn+z54Y+HCxXKwf2rq64Jv7sAlT/sL0T8Ofc16hjb0r8pzXjSc70svVl/M9/kv8/uP1/J+BYxtVzJ3f8AKv1f+RxvgH4T+G/htaeVo9iqXDLtkvJvnmk+rf0GB6CuzHSkPSlr8yrVqlebqVZNt9WfrFDD0sNBUqMVGK6IWiiisjoCiiigAooooAKKKKACiiigDE8a/wDIpax/15zf+gGvmSvpvxr/AMilrH/XnN/6Aa+ZK/BvEb/eaHo/zPvuGfgqeqCiiivyA+1CvDviV4c1a/8A2p/g5q9tpl5caVYWurrd3sUDNBbl7fagkcDCFjwNx5r3Giu/BYt4OpKaV7xlH/wKLX6nPWpKtFRv1T+53CiiiuA6Aoooq6fxomWzPrSP/Vr9KdTY/wDVr9KdX9pQ+FH4cFFFFWAUUUUAFFFFABRRRQAUUUUAFFFFABXwR+0x/wAlw8S/W3/9Joq+96+CP2mP+S4eJfrb/wDpNFX6DwT/AMjKf+B/nE/NOPv+RZD/ABr8pHmFFORGkcIql3Y4VVGST2AHrXt3wz/ZZ8QeLvKvddLaBpjEN5br/pMg9k/g+rc+xr9fx2Y4XL6ftMTPl/N+iPxPA5bisyqeywsHJ/gvVnjOl6Vea1fRWen2s15dynakMCF3b8AP8ivo34Zfsiz3XlX3jK4NtHww0y1bLn2eQdPovr1FfQfgf4Z+Hvh3Y/ZtF0+O3dhiS4YbpZP95jyfp0HbFdXX5Jm3GGIxV6WCXJHv9p/5H7Pk/BGHwtquOfPLt0/4JleHvDOl+FNNjsNJsYbC0j6RwoAM+p9T7nk1qAUtFfnkpSqPmk7s/TKdOFKKjBWSFoooqTQKKKKACiiigAooooAKKKKACiiigAooooAKKKKACiiigAooooAKKKKACiiigAooooAKKKKACiiigAooooAKKKKACiiigAooooAKKKKACiiigAooooAKKKKACiiigAooooAKKKKACiiigBrVgePraW78E69BBG800ljOqRxqWZmMbYAHcmug9BSNg+9ZVIe0g4PqROPNFx7nxP8A8IP4j/6F/VP/AACk/wDiaP8AhB/Ef/Qv6p/4BSf/ABNfbG0f3R+VGweg/Kvhv9UsP/z8f4HyH+rNH+dnxP8A8IP4j/6F/VP/AACk/wDiaP8AhB/Ef/Qv6p/4BSf/ABNfbGweg/KjYPQflR/qlh/+fr/AP9WaP/PxnxP/AMIP4j/6F/VP/AKT/wCJo/4QfxH/ANC/qn/gFJ/8TX2xsHoPyo2D0H5Uf6pYf/n6/wABf6s0f+fjPif/AIQfxH/0L+qf+AUn/wATR/wg/iP/AKF/VP8AwCk/+Jr7Y2D0H5UbB6D8qP8AVLD/APP1/gP/AFZo/wDPxnxP/wAIP4j/AOhf1T/wCk/+Jo/4QfxH/wBC/qn/AIBSf/E19sbB6D8qNg9B+VH+qWH/AOfr/AP9WaP/AD8Z8T/8IP4j/wChf1T/AMApP/iaP+EH8R/9C/qn/gFJ/wDE19sbB6D8qNg9B+VH+qWH/wCfr/AP9WaP/PxnxP8A8IP4j/6F/VP/AACk/wDiaP8AhB/Ef/Qv6p/4BSf/ABNfbGweg/KjYPQflR/qjh/+fr/AX+rNH/n4z4n/AOEH8R/9C/qn/gFJ/wDE12fwb8K63p3xK0a4u9Hv7W3jMpeWa1dFXMTjkkeuK+pNi/3R+VG0dgPyrow/C9DD1oVlUd4tP7jehw9RoVY1VN3TT+4fRRRX2x9YFFFFABRRRQAUUUUAFFFFABRRRQAUUUUAFFFFABRRRQAUUUUAFFFFABRRRQAxvut34r5h/wCEV1v/AKA9/wD+Ar/4V9PiggV8hn/DtLP/AGftZuPJfbzt/kexl+ZVMv5uSKfNb8D5g/4RXW/+gPf/APgK/wDhR/wiut/9Ae//APAV/wDCvp/j0o4r5D/iHWF/5/y+5Hsf6yV/5F+J8wf8Irrf/QHv/wDwFf8Awo/4RXW/+gPf/wDgK/8AhX0/xRxR/wAQ6wv/AD/l9yD/AFkr/wAi/E+YP+EV1v8A6A9//wCAr/4Uf8Irrf8A0B7/AP8AAV/8K+n+KOKP+IdYX/n/AC+5B/rJX/kX4nzB/wAIrrf/AEB7/wD8BX/wo/4RXW/+gPf/APgK/wDhX0/xRxR/xDrC/wDP+X3IP9ZK/wDIvxPmD/hFdb/6A9//AOAr/wCFH/CK63/0B7//AMBX/wAK+n+KOKP+IdYX/n/L7kH+slf+RfifMH/CK63/ANAe/wD/AAFf/Cj/AIRXW/8AoD3/AP4Cv/hX0/xRxR/xDrC/8/5fcg/1kr/yL8T5g/4RXW/+gPf/APgK/wDhR/wiut/9Ae//APAV/wDCvp/ijj0o/wCIdYX/AJ/y+5B/rJX/AJF+J8wf8Irrf/QH1D/wFf8Awrufg/ouo6f4omlurC6tovsrLvmhZFzvTjkDng17L+GaXHXivSy3gfDZdioYuNVtxd9kcuJz2tiqMqMoJJjqKKK/TD5kKKKKACiiigAooooAKKKKACiiigAooooAbXz/APtRfDvX/iNq3g+z0Oxa5MYu/NmY7YoQTDgux4HQ8dTg4HBr6A7UfhXfgMbUy/ERxVJe9G9r+aa/U8zMsBTzPCywtV2jK17eTT/Q8K+GP7Kug+FfJvfEBXX9TX5vLdcW0Z9kP3z7t164Fe5RxrDGEjUIijACjAAp/uaKWMx+Jx9T2mJm5P8ArZDwOXYXLafssLBRX4v1fUdRRRXCekFFFFABRRRQAUUUUAFFFFABRRRQAUUUUAYnjX/kUtY/685v/QDXzJX0341/5FLWP+vOb/0A18yV+DeI3+80PR/mffcM/BU9UFFFFfkB9qFFFFABRRRQAUUUVdP40TLZn1pH/q1+lOpsf+rX6U6v7Sh8KPw4KKKKsAooooAKKKKACiiigAooooAKKKKAG/yr5R+JXwH8S/E343eIbm2hXT9HZ4AdRuQdpxbxA7F6uQc+g4IyDX1dRXqZbmVfK6kq2H+Jq2vTVP8AQ8XNMqoZvSjRxF+VO+nXRq34nm/w1+A/hj4axxzW1r9v1UDnULsBnB77R0QdenPPJNekD24oorjxGJrYqo6teTlJ9zvwuEoYOmqWHgoxXYdRRRXOdYUUUUAFFFFABRRRQAUUUUAFFFFABRRRQAUUUUAFFFFABRRRQAUUUUAFFFFABXH/ABS+K3hT4K+D7nxV411ddD0C3kjilvZIZJQrOwVBtjVm5YgdK7Cvjn/grN/yZT4n/wCwhp//AKUpQB9BfBr4/wDgD9oLR9Q1X4feIo/EVhYTi2uZo7eaHy5CoYKRKik8EHjivRK/N/8A4Ij/APJGPiH/ANjBH/6TJX6QUAFFFFABRRRQAUUUUAFFFFABRRRQAUUUUAFFFFABRRRQAUUUUAFFFFABRRRQAUUUUAFFFFABRRRQAUUUUAFFFFABXO+NPiJ4V+G+nR3/AIt8TaP4XsZH8tLrWr+K0iZuu0NIwBPtmuir82f2oNd8deMP27fAGl6l8BrTx1Z6PpmqHQ/D+qeILI22swk7TfESqY4SoVT5cgLZVT1AoA/SC3uIry3jnglSaCVQ8ckbBldSMggjqCD196mr5t8ZftPa/b/EDU/h18H/AIWyfEbWfDUEI1uQatBpWm6UzqDHbCZ1YPLtH3FUbeOeGA3PhL+1do/jzw548m8UaJffD7xN4BV5fFHh/U3WaSwiEbyrMkiDbNE0aMyso52njGCQD3aivjGb9tz4s3Xw9uPihpX7O13cfCyG1bU11O78UW0OoTaeqlmuhahGKgIC23ccjBBxzXD/APBQX41eJPGHwK+G2t+DfBlxqXgjX73Rdbg8RNq8NrIk8jl4rF7fl9zqVy4O1SSDnFAH6DUV8967+054l8DWfwih8ZfDZvDniHx54i/sCfSP7ciuv7LyzbJvNijKTbkVW2jbjdjORXVftGfHpf2ftB8Jak2iHXRr/iax8OCIXX2fyPtJcednY27bs+7xnPUUAetUV8ufFj9t/wD4Vr8btX+FmnfD7VfGPiuOwtLrSbPSLkGXUZJixdWUx4hjjRCzSsxHTgZp2rftb+NLrW9P8E+EvhDc+J/ilFpcGp+I9B/tyC3svDomBMcM96VKvKeoRVGV5oA+oaK8T+Av7SLfFrxF4l8HeJfCV78PPiL4cEcuo+HL64S6Bt5P9XcQXCALNGTkblHBxnqK9soAKK8D/aS/ash/Z18afDfQJfCWoeKZfGkt9bW66XKPtCTwRxmKJIipEhlklSPJZAmSxOBXneq/ty+Mvhx4403wp8S/gbq3hvWfEVvI3hW20XWoNWbVbpWRfsrMiqsLAyKWcsVUHJ45IB9gUlfMngv9rDxnB8cvDPw0+Knwnk+Hd74rguZvD+oW2vQ6pBctBH5ksMhRFCOq+55ZRjkGpPGv7VXjPUPit4k8A/CD4VSfEe/8LmFNe1W91uHSrKzmlQukKM6sZW2jnaBg/nQB9MUV85fDD9ryTxx8MfinrWs+Cbrwt4x+G6XQ1zwvcXyTASQ27zKI7hFwyOEYBtvYkZGCeD8D/tvfFH4weBbLxp8Of2ddR8R+GTAHubq68SW9k8kyj9/FaRvHuuBG2V8zaoZkZVGRQB9k1Q/tzTv7a/sf+0LX+1/s/wBr/s/zl+0eTu2eb5ed2zd8u7GM8V5J4D+Mkv7T3wDl8T/CzVU8M67csbQNrlj57aXdxyKJ4Z4AwywXOOejK3tXzV+zb4J8eeBv+CkXjK3+IvjhfHviG8+HgvBqMVmLSKKE6hAiQpECVRV2MflxkuT1JJAPv+iiigAooooAKKKKACiiigAooooAKKKKACiiigAooooAKKKKACiiigAooooAx/E/i7Q/BGjzav4j1nT9B0qEgS32qXUdtAmTgbnchRn3NT6F4g0zxTo9nq2jajaatpV5GJba+sZ0mgnQ9GR1JVgfUGvgf/gol4g8Z6x8ZPgz4Vk+E0fi3wnH4nhurCK61y1S38R3IhybWSFwfJCbmG6XKsCeMHFe265+0bqXgGbwl8M/Afwg/tb4lT6JFqt54J0zUra00/w5bkYZZ7sL5QxISqhE+fGRjcuQD6corwn4I/tMXnxC8eaz8O/HHgm8+G3xI0yzXUzotzeR3sF5ZMwT7Rb3MYCyKHO0jAIJA5w23znTf2yPid8TrbVPEPwi+A8/jfwFZXE9vb69feJLfTpNUMLlJDbW7IzFcqdrE84xgEEAA+vKK+Cv2qP2l9W+NP8AwT/ufG3gPwVdX3h7xJp1wmr3s2qw2s3h8xTpGxMZ+afMiuAEwcAMcZxXdad+1L4u+Dv7JOh+N/GvwufSLm2n0vSLPTf+EhhuDfW0qQol55scbeXks37thu+Xk80AfXdFeY/tJ/Ggfs8/BLxP8Q20g68uiRwyHTlufs5m3zxxY8zY23HmZ+6emPevM/jf+2zYfBHxp4N8O3XhDUddufFOiSalYQ6VKZbqa63IkVnHCE+dnZx824bQCcGgD6aor5b1H9sDxdptt4Z8ON8HNRn+MfiFLi8g8BRa1bn7HYRSFBd3d5t2Qo+OBtJ3ZX3PSfCH9p7VvE3xOk+GfxI8A3Xwz8etYnUrC1fUI9Qs9Ut1OJHt7iNVBZOCYyMgE+hoA+gKKK8W/an/AGlbH9lvwb4b8S6los+tWGqeIbTQ51tpSkltHMsrtOqhHMpURHEYALZxkUAe00V8f+MP26PF3wg1PQtQ+KXwP1nwb4F164Nnp+rW+rQajfC4MbyRQy2cS5SSQLgJvJBDZzg40Ln9sbx74H8d+CrH4m/BO68C+EvGGqw6Lp2uL4gt76WC7m/1MdzBGg8vdgk/OdoVvvbTgA+sKK+e/jH+09r3hb4q2/ww+Gvw7uPiV46/s4avfQNqkWm2enWrPsR5Z5AcsT/ABnGDUvwB/aY1n4mfETxX8OfHPgOb4e+PvDtrDfy2A1KPULa6tZThZopkA6ErkY43DnIIAB7/AEV8V/DD9vP4hfH7w9NqHwu+AV54kfT7iW31WS98SwWNpBIrnZDFNLEPOkaMK5AUBPMTJOa66P49eJf2oP2c/iVp/wANdLu/Bvxf0vdol5oGrzrDcaVdOwVnEvAx5fmMkgxkp0yKAPohPHXhuTxAdCTxBpTa2OumrexG54zn93u3dj27VvV8C/tB/sbfBP4I/sZ+INR1HSLPS/GGh6Mbq28XCZl1OfWQmYm8/O5jJcYGzphuAMZH1r+zvqniLXPgL8O9Q8XCX/hJ7rw/YzaiZ12ytO0CF2cYGHJ5YdiSKAPRaKKKACiiigAooooAKKKKACiiigAooooAKKKKACiiigAooooAKKKKACiiigAooooAKKKKACiiigDE8a/8ilrH/XnN/wCgGvmSvpvxr/yKWsf9ec3/AKAa+ZK/BvEb/eaHo/zPvuGfgqeqCiiivyA+1Cq1xqlla31rZz3cEF5d7/s1vJKqyTbBl9i5y20cnHSk1aK8n0m9j06eO1v3hdbeeZN6RyFSEZl/iAbBx7GvkX/hEfHXhz9sz4VXXjfxlD4rlvbXVPskVrZi1htFS1fICAnJbcOevyjOcDHuZbl9PHKo5VFFwjKSWt3yxb00t06s4cRiJUHG0bptL0u7H2JRRRXhncFFFFXT+NEy2Z9aR/6tfpTqbH/q1+lOr+0ofCj8OCiiirAKKKKACiiigAooooAKKKKACiiigAooooAKKKKACiiigAooooAKKKKACiiigAooooAKKKKACiiigAooooAKKKKACiiigAooooAKKKKACvjn/grN/wAmU+J/+whp/wD6UpX2NXxz/wAFZv8AkynxP/2ENP8A/SlKAPJf+CI//JGPiH/2MEf/AKTJX6QV+b//AARH/wCSMfEP/sYI/wD0mSv0goAK5v4iePtD+FngjWfFviW9XTtC0i3a6u7hgTtUcYAHViSFCjkkgd66SvIv2pP2f4v2nPg/f+ALnXrjw5Z31xBNNdWsKzMyxOJAhUsBgsqnr/CKAPzT1z9vf9p79rzx3f6F8CdDuND0m2kLJDpVrE9wsJJEb3d1NmOItg/dKDgjLYyYPEXg/wD4KHfDbTZ/El3qnii6t7ZftEyWmrWeosgUZP8Ao6u+4YHIVCK/Q39l79nPwl+xD8KNQ0I+JYbi2utRfULvWtWEVpuZkRFQktjaoTjJ6lvWn/ED9vT4B/DezuJ9Q+J2hahLCpP2TRLkahM7D+ALDuwx6fMQB3IoA+cP+CdP/BRrW/2gfFT/AA2+JEVu/i14ZLnTNYs4lhS9WNd0kUkY4EgUM4KAAhW4UqN0P/BUb4+fHX9mvxJ4R1/4feM5NG8Ha1byWc1r/ZdlciG9iO7O+WFmxJG4wM9Yn6V8b/sR+KrDxl/wU00HxHolpJpmlavr+tX1nZvjdBBNbXjpG2D1CMFODiv1a/bw+Bn/AA0B+zD4v8PW1v8AaNbs4f7W0kKuW+1wAsqL/tSJ5kX/AG1oA639lz4xJ8fPgD4I8ciRHu9T09PtwQABbuMmO4AA6DzUfHtivVq/Lr/gin8aPtWj+N/hZez5ktJF1/TY2OT5b7YblR6BWEBx6yMa+1P21vjH/wAKK/Zj8d+KoZ/I1NbFrHTWBwwu5yIYmX1KF/M+iGgD4f8AAf7aHxq/aF/b8k8CeB/GZ034aJrkoa2g0uylX+zbXiV/NeFpP3wjOGLcGdcYwAP0G/aD+P3hb9mv4Zaj418WzullbkRW9pBgz3lw2dkMQJ5Y4J54ADE8A18Jf8EWPgh/ZfhTxh8Vb+323GqSjRNMdlwRbxlXuHB7h5PLX6wGvHP+CyHxQvPFn7Qnhz4fpdeRpPh7TY5mjkO1PtdyxZ5GI6gRLCOenz+poAsD9rb9sP8AbT17UT8ItLvNB8O20uzyNBWGGODP3Vlvp9uZMHJCsvrsFZnib4zftx/sdzW+ueOZ9WvdBEoidtb8jVrCUk8K80TM0Zbt86E8gdxX3v8ACP8Aam/Zf+Cvw28P+CvDnxP8OW2k6Parbx4lYNIwGXlf5eXdizMe5Y1u+Jf20v2Z/GPh7U9D1r4l+GNS0jUreS1u7OeVik0TqVZSNvcE+9AGn+xz+154c/a6+HMmtabB/ZPiHTWWDWNEeQO1rIwJV1bjdE4DbWwPusDypr5o/wCCqH7V/wAVP2cfFXw/s/h34pPh221Syu5bxP7PtbnzWSSMKczxORgMfu4618of8E/fGdn8G/8AgoOfDXhbVxq3gzWr7UNBiu4pNyXlqPMktZunJ3RRHOM/Mw716p/wXC/5Hr4Vf9g2+/8ARsVAHYftYf8ABTPxfoN1ofw1+D8Y1Pxs1jbjWNcjs1u5Fu3hVmgtoQCpkUk7iVIByoXIJHrn/BMnVvj5rafEa8+OCeK08z+zTo48T2r2/H+lef5SMq4/5Y7sD+7V3/glr+zbpPwr/Z/0jx1e2UF1408Yxf2lLqLoGlhs35ggRzyAVAkbHVpMHO1a+2KACiiigAooooAKKKKACiiigAooooAKKKKACiiigAooooAK+Svib/yko+DP/Yoav/M19a1j3Xg/Qr7xJZ+IrjRNOuPEFlC9va6tLaRtdQRP99ElI3Krd1BANAH5w+Cfh/YaL+0t8ePDHjL46+Lfg3rd94nn8Q6da6fq9vp1pqtjdHfHMjyoRJIg+RgrcBcY+Vsbnw78Q+FfhXfftE/FH4eeLPGvxl1/wt4bSzuvEPiOe2u9IvpQolRIpoQrzeSFO/sFzg8qa+6viB8I/A/xWt4IPGfhDQ/FUdvnyBrGnxXJhzjJQupK5wOmOlanhvwT4e8G+H49B0DQdN0TRI1ZV03T7SOC3Ab7wEagLz345oA/OX4j69ovjb9kfUvF3j39prVvEviHXPDUktt4N8M39nY2cl5Lbkx2RtLePz5VSQhHDsOFYuAM4t/FfXNOuv8AgmD8Dr+G/tprLTb7w2t7PHKrJbGMhZBIQflKngg9K+5/C/7PPwt8E6xcar4f+HXhXRdTuFdJbyx0a3ilKuMOu4ICFYEgqODk5rT0v4P+BdE8Fz+D7DwboNp4TuGZ5tDi02EWUrMwZi0O3YckA8jsPSgD5Z/bf+IHhuST9nL4j2mt2GqeB9M+IVq93r2nXKXNpChDqZDIhK7VKPk54Kkdawv2+/jp4I8aWvwa8L+GPEmm+KNTk+IGi6nN/Y10l3FbWyu6B5XjLKm9pEChiN3zEdK+yYPhX4LtfBLeDYfB+gw+EGDK3h+PTIFsCGcuw+zhdnLksfl6nPWsnQv2ffhf4a0ldM0r4deFrDT1u4r8W0GjW6p9piJMU+NnMibm2v1XJwRQB4D4I0+3m/4Kg/Ea8eNXuLfwBYpE5GSoeeMt+PyivF7zwHZ6L+218adI8YfGfxT8HLjxJJY61odzpeqQafa6zb+SUZTJKhDPCwKBcg43YzX6HQeEdCtPE114jh0TTofEN1AtrcatHaxrdzQqcrG8uNzID0UnArP8efC/wf8AFLT4rDxj4W0fxTZxMXih1ixiuliYjBZN6nacdxg0AfI37LPhfwFdftceKNU8M/Evx38Wtf0Hw2umX/ifVb20vdISOWdZEs0uIlDPKGVnwMqMOM5GK+4q4X/hW8XgnwDc6B8LLPw74CuNyva7dGD2Mbb1MjPbwyQ72ZQwzvByQTnGDx//AAiP7QH/AEU7wH/4Q91/8tKAPMv2plDftmfskAgEf2j4gOD7WUJB/Oj9qZQ37Zn7JAIB/wCJj4gPPtZQ4r37wz4CuryHRtR+IKeG/Fvi/R5ppNP1qz0MWpsxIAreQJZZniZlADMsnzADiug1TwjoWuazpGsaloun6hq+jtI+m391axyz2TSKFkMMjKWjLKAGKkZAANAHzF+1N/yeZ+yP/wBhDxD/AOkUNcBpPxe1H44fGD4waV4v+Of/AApTw54O16bR7Xw/pM9jp19dQxEr9tlurlHYrJjI2AAfkT9uap4R0LXNZ0jWNS0XT9Q1fR2kfTb+6tY5Z7JpFCyGGRlLRllADFSMgAGuX8Wfs/8Awy8feI01/wAS/D3wx4g1tQq/2hqekW9xMQBhQzOhJwBxnp2oA+AP2ada8LN4V/bdsPDniK812zn0ye7sbzWrszX+oQDT7kNdsz4eRXZg2/GMSJ6ivc/2Ff2ovhVZfsj+C7PVPGWheGL/AMN6WtpqenarfR2s8LJk+bscgssgKyKygg78dQQPc/i58E9C1rwX8R7/AMOeEtJXx7r/AIWvdDj1KG1hhu7lXt2SKBpyAdm5Yh8zYARM8KMcV8D/ANk/wcvwR+Gdj8S/hr4Z1Txloeh2tjcy6pp1reyxPGgBjMuGDhT0wxHcUAch/wAE5Le41jwr8WfHsNpNY+G/HHj3U9c0KGaMoZLN2VVmCkcbiCP+AelWNG/5Sm+IP+yUw/8ApzSvq+1tYrG2htreJLe3hRY44YlCoigYCqBwAAO1ZqeENBi8USeJl0TT18SSWosH1gWsf2xrYPvEJmxvMe4BtmcZ5xQBs0UUUAFFFFABRRRQAUUUUAFFFFABRRRQAUUUUAFFFFABRRRQAUUUUAFFFFAHyV+2h/yXP9lj/sd2/wDRIrxn4oeCrXR/+CgHj5vF/wAWvE3wdsfGWjadd6Dq+kajDY21/wDZ4VgmtZJpUZd6upZVyD8x67lz+gWteENC8SX2lXuraLp2qXmkz/adPuL20jmks5cY8yFmBMb443KQareNvh74X+JWkjSvFvhzSfE+mht4tNXso7qJWwRuCupAbBPI5FAHxF8K9E8Caf8AtWS6n4e+JvxC+N/i/wAHeF7y8m1C4v7O/wBKt45A6iyeeNQ3nM2GEa55GT0YDE+FvxU0/wCOXwRHxI+LH7S994Shu2uGl8E+C76z0n7Ciyui2uAjXUzuoDABgx8wYzwT96eBfhr4T+F+kvpnhDwzpPhjT3be9tpFlHbI7YxuYIBk+55rCs/2evhfpvjA+LLX4d+FrfxKZftH9rR6PAtyJc58wPsyHJ/iHPvQB+ffwlvLW+/4I3+NtOtJo5L3T4NRW6s1cNNbH7ezgSL1U7Pm5HTmvS/2tPF2ieOv+Cculax4Y1ax8S2WgnQJNQfR7mO6+zmJrfzEfYTtdd65VsEZ5xX2loHws8G+FbfXLfRvCmi6Vb67K82qw2dhFEl+7gh2mULiQsC2d2c7j6mjw38LfBfgvQb/AEPw/wCENC0LRL93e803TdMgt7e5Z0CM0kaKFcsoCncDkADpQB8ff8FFv2kvhv4o/Y38UaV4a8X6T4n1TxHDa/YbPR7tLqTy0uoZZJZFQkxoio2WYABsKeTWn4q0+3v/ANvP9mh541drbwXqU8W4A7X+zlc/kxr6P0b9m34T+HbDVLHTPhl4QsbLVU8q/todDtljuo9yvskXZhlDKrBTwCoOOK62TwV4el17TtcfQdMfWtNga1stSazjNzawsMNHFJt3IhHVVIBoA+D/ANpDwfBo/wC31a6t4r+J3iL4S+HvFXhKOx0rxNot9FZRPdQTgyWUs0iMqgriTBwCSoznir/w/wDBfw+uf2xvh7Zaf8ZPiF8ZfF3h2zv9SS6fUrLUdL0eGSIwyJcyooZGlyqhUyc7NwAOa+4fF3gnw94/0WTR/E+hab4j0mRgzWOrWkdzAWHRijgjIyecVg+G/hH4b+GPhfVtO+G3h3w/4JvLqF/KmstJRYftG0iOSaOMxtKFYgld4JAIDDOaAO6r5J/4KMqG8JfBQEAg/FXQQQe/+vr0z/hEf2gP+ineA/8Awh7r/wCWldH4d+Huta5pog+K0/hTx7LZ38WoaY1t4cNrHZzRg7ZQk08/71STtkUqRk4oA8Q/4KMqG8J/BQEZB+Kuggg/9vFH/BRj/kVPgn/2VbQf/a9fTviPwhoXjCGxi17RNP1uOxu47+1TUbWO4W3uY8+XNGHB2yLk4ccjJwaPEfhDQvGENjFr2iafrcdjdx39qmo2sdwtvcx58uaMODtkXJw45GTg0AfH/wAQ/jFrnjr9rnxt8LtQ+LEPwU8JeGdKsrmOa1FpBqGuvNEsjtHc3SsqJFu24QZyPrjg/wBknVvBdj/wUJ+IFp4b8e6l45trvwjFBDr+v6mLyfVLiO4Qy+TLhVlRAhX92No8p8cAmvt3x98Efh78VLy0u/GXgfw/4qu7QbYJ9X0yG5kjXJO0M6k7cnO3oasw/CTwPa+IND12DwdoUGtaFamy0rUItOhWaxgIYeVC4XMaYdxtXAw7epyAfFX/AATD/aG+HXh/4B33hLXfE2j+Ftf0rWL65mh1i7jszdQSSs63EZkIDqPmjJB+Ux84yM1/hz8edD8H/Eb9rb9pSzikv/hvGNK0zTZ4Pkj1m9t4Vtz5bY+6ZXjXzAMYm3c4Nep/sn/sf6Vpf7POg+GvjJ8OfD+q+INN1K/nih1a1tdQaGOW6eRNsg3jDBgSoP1FfSGo/C/wbrHg+PwlfeEtDvfCsYUR6FcabDJYqFbcoEBXYMNyOODQB8X/AA3t/h38Wda0X4l/tDfGrwR4n8RxFb7SvA8PiKzj0Tw+zAMq+SZf386g4aSQkZyPm2q1fdmk6vY6/pdpqWmXtvqOnXcSzW95aSrLDNGwBV0dSVZSOhBwa83/AOGTvgh/0Rv4f/8AhL2P/wAar0bRtF0/w3pNnpek2FtpemWcSwWtlZwrDDBGowqIigKqgAAAAAUAX6KKKACiiigAooooAKKKKACiiigAooooAKKKKACiiigAooooAKKKKACiiigAooooAKKKKACiiigDE8a/8ilrH/XnN/6Aa+ZK+m/Gv/Ipax/15zf+gGvmSvwbxG/3mh6P8z77hn4Knqgooor8gPtQr59+Kv8AyeB8Df8Arz1r/wBJq+gqz7rw9pV9rFjq1zplncarYq62l9Lbq09uHGHEbkZQMODtPNenl2Ljg6spyV7xnH/wKLX6nLXpOtFRXRp/c0zQooorzDqCiiirp/GiZbM+tI/9Wv0p1Nj/ANWv0p1f2lD4UfhwUUUVYBRRRQAUUUUAFFFFABRRRQAUUUUAFFFFABRRRQAUUUUAFFFFABRRRQAUUUUAFFFFABRRRQAUUUUAFFFFABRRRQAUUUUAFFFFABRRRQAV8c/8FZv+TKfE/wD2ENP/APSlK+xq+Of+Cs3/ACZT4n/7CGn/APpSlAHkv/BEf/kjHxD/AOxgj/8ASZK/SCvwl/YZ/wCCg1n+x34J8R6Bc+CJ/FLatqK3wni1JbURgRqm3aYnz93Oc19Lf8PxtJ/6JBef+FAn/wAj0AfqJXyj/wAFFv2stQ/ZW+C9vc+HUjbxf4iuG0/TJ5lDJaAIWkuNpBDFAVCqeNzqTkAg/NP/AA/G0n/okF5/4UCf/I9V/wBuI61+3J+xJ8P/AI3eF/Dc9kui3moXF7oqz/aZYrTzWgkmDBV37WtkY4XhWY9FJoA8+/Zj/wCCfvjL9trw/B8WfjB8RdYGl6rI/wBhTzDc391GsjI775SVgj3KQqhWyB0A25+wPBf/AASV/Z68JzRS3mjaz4peJgw/trVX2kj+8sAiUj2Ix7V8nfsR/wDBU7wz8Dfg9pPw8+IXh3WLqHRfMj0/VtEWKZnheRpAksckiYKl2AZScgKNoIJPffFH/grrffEy1/4Q74DeANcufFusFrS0vdUiRpoSwwHht4Wk3OM5BZtq7ckMMigD59/Zg03S9F/4K0nTtDtrez0a08X+ILeytrNQsMUCRXqoiKOAoUADHGAK/cKv56fhJruofsVftqaPqnxLs7u41DwxfSPrENk6zzsZ7VwWVmZRI2Jw2d2G5wTnNfvX8LfiNpvxc+Hfh7xno0N1b6VrllHfW0V6irMsbjKh1VmAbHYMaAPyB8WWf/DBP/BT2z1JB9h8HapqK3i/wxDTL4skwx/dhdpMD/pgpr1z/gst8S7zxJr/AMNfgzoYe7v7uYavcWkJy0s0jG2s0A9cm44P95a9B/4LIfAv/hM/gro3xHsLffqXhG68i8ZF5axuGVCT3OyURY9BI5r5j/4J46H4g/a3/bMsviF4yc6jF4K0q1uZpmB2NPBAlrZr7OWQzkjq0bnvigD9Z/gD8KLP4G/Bnwf4Fsdhj0TT47eWRBgTTkbppcf7crO3/Aq/Hb/grN4YGh/trT3upiVdN1rS9OvS8ZAYxKpt32kgjOYG7fhX7lV8Vf8ABTb9jnUf2l/hxp3iHwjbC58c+FxI0FmCA2oWr4MkAJ/jUqGQE/3x1agDj7b/AIIv/A68t454PF/jyaCVQ8ckeo2LKykZBBFnyCD1qT/hyn8E/wDoa/H3/gfY/wDyHXz3+yb/AMFUNS+APhm2+HHxe8L6rqdloKCwtLyxjVNRtI4xtFvPDMyBtgAUHcpAXBDda9W+L3/BajwfD4WvLf4aeEdcvPEU0bRwXniCOG3tbZipxIVjkkaUqf4DtBx96gDq/g9/wT8/Zs+F/wAcvD1/4a+LWqah460HUvOg0GbxFpkszTw5LxSQJAJOArblGCAD0rxL/guF/wAj18Kv+wbff+jYq7D/AIJUfso+LI/GmqfHz4hW1xbXmoR3CaRBqERS6uJZ2BnvmBxtVgXRcj5hI54G0tx//BcL/kevhV/2Db7/ANGxUAfpT+zXZxaf+zr8LbaFdsUPhbS0UewtIgK9Irz79nn/AJID8M/+xY0z/wBJIq9BoAKKKKACiiigAooooAKKKKACiiigAooooAKKKKACiiigAooooAKKKKACiiigAooooAKKKKACiiigAooooAKKKKACiiigAooooAKKKKACiiigAooooAKKKKACiiigAooooAKKKKACiiigAooooAKKKKACiiigAooooAKKKKACiiigAooooAKKKKACiiigAooooAKKKKACiiigAooooAKKKKACiiigAooooAKKKKACiiigAooooAKKKKACiiigAooooAKKKKACiiigAooooAKKKKACiiigDE8a/wDIpax/15zf+gGvmSvpvxr/AMilrH/XnN/6Aa+ZK/BvEb/eaHo/zPvuGfgqeqCiiivyA+1CiiigAooooAKKKKun8aJlsz60j/1a/SnU2P8A1a/SnV/aUPhR+HBRRRVgFFFFABRRRQAUUUUAFFFFABRRRQAUUUUAFFFFABRRRQAUUUUAFFFFABRRRQAUUUUAFFFFABRRRQAUUUUAFFFFABRRRQAUUUUAFFFFABWJ4s8GaB4+0SXR/E+hab4i0iVleTT9WtI7q3dlIKkxyAqSCARxxW3RQB5V/wAMnfBD/ojfw/8A/CXsf/jVH/DJ3wQ/6I38P/8Awl7H/wCNV6rRQB5V/wAMnfBD/ojfw/8A/CXsf/jVd74V8I6H4F0K20Tw5oun+HtGttxg07S7WO2t4tzF22xoAq5ZmY4HJYnqa2KKAPF/GX7GfwP8f6pNqeufC/w5d6hO/mTXMVmIHlb+85j27ie5PWuu+G/wN+H3weikTwT4L0TwyZV2SzabYxxSyLno8gG5hkD7xPSu6ooA8r+J37Lvwn+M+uQa1418BaP4g1eFBGt9cwYmZB91WdSC4HOA2QM8V6F4f8P6Z4T0Ox0bRdPttK0qxhW3tbKziWOGCNRhURQAAAPStKvAv21/g/46+N3wPn8O/DnWY9B8Ux6hb3tveSXstnhYydyrLEpYMQeOg96APHP+Cs3x8s/hh+zfdeDbW6i/4STxpILFLfIMiWSsGuJSP7pAWLn/AJ6nHQ40f+CU/wACX+EP7MVlruoWvka540m/tiXeuHW127bVD7FMyj/rua+b/hD/AMEk/iJ4w+JVn4l+PHjG11XS4JVmuLOHUJ7++1Da2fJkmkVfLRu7KzNjIAUncP1XtLSDT7SC1toUt7eBFjihiUKiKoACqB0AGBgUAWKKKKAPOPiT+zt8MfjBcC48Z+A9B8R3igKLy9sUa4AAwB5oAfGO2cVieCf2Pvgp8OtRt9Q8P/DDw1ZX9s/mQXj2CTzRODwyPJuZT7g17FRQAVx/jj4QeA/idcWk/jHwT4d8WTWislvJrmk2940KsQWCGVG2gkDIHpXYUUAVdP0610fT7awsbaGysbWJYILa2jEccUagKqIowFUAAADgACrVFFABRRRQAUUUUAFFFFABRRRQAUUUUAFFFFABRRRQAUUUUAFFFFABRRRQAUUUUAFFFFABRRRQAUUUUAFFFFABRRRQAUUUUAFFFFABRRRQAUUUUAFFFFABRRRQAUUUUAFFFFABRRRQAUUUUAFFFFABRRRQAUUUUAFFFFABRRRQAUUUUAFFFFABRRRQAUUUUAFFFFABRRRQAUUUUAFFFFABRRRQAUUUUAFFFFABRRRQAUUUUAFFFFABRRRQAUUUUAFFFFABRRRQAUUUUAFFFFABRRRQAUUUUAYnjX/kUtY/685v/QDXzJX0341/5FLWP+vOb/0A18yV+DeI3+80PR/mffcM/BU9UFFFFfkB9qFFVdWkvY9JvX02KK41FYXa2iuHKRvLtJRWYdBnGT7mvktNU+Kk37YPwtX4gDSNPsJrbVP7P07Q53kiGLV/MaQsMsxOz2+XgDnPtZdljzCNSaqKPJGUrdXZN6L5fI4sRiVQcU4t3aX3ux9fUUUV4p2hRRRV0/jRMtmfWkf+rX6U6mx/6tfpTq/tKHwo/DgoooqwCiiigAooooAKKKKACiiigAooooAKKKKACiiigAooooAKKKKACiiigAooooAKKKKACiiigAooooAKKKKACiiigAooooAKKKKACiiigAooooAKKKKACiiigAooooAKKKKACiiigAooooAKKKKACiiigAooooAKKKKACiiigAooooAKKKKACiiigAooooAKKKKACiiigAooooAKKKKACiiigAooooAKKKKACiiigAooooAKKKKACiiigAooooAKKKKACiiigAooooAKKKKACiiigAooooAKKKKACiiigAooooAKKKKACiimecn99fzFAD6KYsiNwGUn2NPoAKKKKACiiigAooooAKKKKACiiigAooooAKKKKACiiigAooooAKKKKACiiigAooooAKKKKACiiigAooooAKKKKACiiigAooooAKKKKACiiigAooooAKKKKACiiigDE8a/8ilrH/XnN/6Aa+ZK+m/Gv/Ipax/15zf+gGvmSvwbxG/3mh6P8z77hn4Knqgooor8gPtQr59+Kv8AyeB8DfX7HrX/AKTV9BVz+q+AdB1rxhofii9sPP13REnTT7vzZF8lZl2yfIG2tuX+8DjtXq5bioYOrKc07OM4/wDgUWl+LOXEUpVoqMejT+5pnQUUUV5R1BRRRV0/jRMtmfWkf+rX6U6mx/6tfpTq/tKHwo/DgoooqwCiiigAooooAKKKKACiiigAooooAKKKKACiiigAooooAKKKKACiiigAooooAKKKKACiiigAooooAKKKKACiiigAooooAKKKKACiiigAooooAKKKKACiiigAooooAKKKKACiiigAooooAKKKKACiiigAooooAKKKKACiiigAooooAKKKKACiiigAooooAKKKKACiiigAooooAKKKKACiiigAooooAKKKKACiiigAooooAKKKKACiiigAooooAKKKKACiiigAooooAKKKKACiiigAooooAKKKKACiiigAooooAKKKKACiiigAooooAKKKKACiiigAooooAKKKKACiiigAooooAKKKKACiiigAooooAKKKKACiiigAooooAKKKKACiiigAooooAKKKKACiiigAooooAKKKKACiiigAooooAKKKKACiiigDE8a/8ilrH/XnN/6Aa+ZK+m/Gv/Ipax/15zf+gGvmSvwbxG/3mh6P8z77hn4Knqgooor8gPtQooooAKKKKACiiirp/GiZbM+tI/8AVr9KdTY/9Wv0p1f2lD4UfhwUUUVYBRRRQAUUUUAFFFFABRRRQAUUUUAFFFFABRRRQAUUUUAFFFFABRRRQAUUUUAFFFFABRRRQAUUUUAFFFFABRRRQAUUUUAFFFFABRRRQAUUUUAFFFFABRRRQAUUUUAFFFFABRRRQAUUUUAFFFFABRRRQAUUUUAFFFFABRRRQAUUUUAFFFFABRRRQAUUUUAFFFFABRRRQAUUUUAFFFFABRRRQAUUUUAFFFFABRRRQAVl+JvFWi+CtDuta8Q6vYaDo1qFNxqGp3KW1vCGYKpeRyFXLMoGT1IHetSvhb/go5rE/wAVvG3wc/Zz0qRzceNNaj1HWlibayabAxLE+x2zSDHe2oA+1/DviXSPGGi2ms6DqtlrekXa77fUNOuEuLeZQSMpIhKsMgjIPY1pV8Hf8EwvEl98Pbr4p/s8eILjfq3gHW5ptPMmAZrGWQguo/u78SZ/6eVr6x+NXx68Cfs7+FbXxJ8Qtd/4R/Rbq9TT4bn7HPc7p2jkkVNsMbsMrFIckY+XrkjIB4x8Wf8Ago98KfhX491DwdFZ+JvG+uaWxXUovCOmLeJYMvDCV2kQZU8Nt3YPBwQRX1BY3keoWNvdRBhFPGsqbhg4YAjP51+U3/BLv9rL4R/C3wX4qsvHniVNI+Ifi3xY8yx/2bd3D3MTxwiHMscTqB5z3HDvkZJPXJ7L9qL/AIKJeF4f2j/hHZeDfiZe2ngrR9ZkTxvDa2N3CoEc8Q2yAwh5VwsoKx7ge4ORQB+l1FedfBL9oTwB+0Z4fvtb+Hmv/wDCQ6XY3X2O4n+x3Ftsm2K+3bNGjH5XU5AI561zXxe/bO+CvwI1r+x/G3j/AE/StXABfT4Ipry4iyMjzI7dHZMjn5gOCPWgD2qiuK+FPxp8DfHDw++teBPE+n+JtOjfy5ZLOT54X6hZIyA8ZI5AYAkc1Q8QftBfD/wr8XtG+GGreIUsvHGsWD6nZabJaz7ZLZFnZ5DOE8pAFtpzhnB+TpyMgHolFeUfCn9qr4U/HHxdrPhnwJ4xtfEusaRD9ou47SCbylj3Bd6TMgjkG5gMozda9XoA5HV/jB4D8P8Ai+18Kap428O6b4pu2jS30O81a3ivZmkOIwkDOHYseBgc9q66vxw/4KKfD/XPH37cXieTwzLNH4g8PeDbfxFZi3GXZrUiR9vGdwQOygcllUd6/T39mH42Wn7Q3wJ8I+O7bYk+pWYF7BH0hu0JSePnsJFbHqMHvQB6lXK6D8V/BHirxVqPhjRfGOgax4l03zDfaNYapBPeWvluI5PNhRy6bXZVO4DDEA8muQ/ap+OVt+zp8BfFvjqYo13YWpj0+GQZE15IdkCEdxvYE/7IY9q/On/gl54J1bwB+2/4s0zxDLczeJJ/h8NU1Nro5kE95Npt3hs87gk6Bs87g1AH630VyfxI+K/g74P6Adb8a+JdN8M6Zu2LPqNwsfmN/dRert32qCcV5T4B/b8/Z/8Aib4og8O+H/iVp8+r3EqwQQXltc2QmkJwqRvPEiuxPACkkkjHUUAfQVFcF8Zvjp4K/Z98KxeJPHurS6JoclytoLyPT7m7VZGBKhhBG5UHaeWAGcDOSBXZ6Vqlprml2epafcR3lheQpcW9xE25JY3UMrqe4III+tAFqivO/hL+0D4C+Os3iBPAuunxAmg3f2G/uIrK4it0myfkSaSNUl+7nMbMMFT0ZSfRKAKmratY6DpV5qep3lvp2m2UL3N1eXcqxQwRIpZ5HdiAqqoJLE4ABJrzX/hrH4If9Fk+H/8A4VFj/wDHaP2sf+TWfjJ/2Jms/wDpDNXx1+wD+xP8Evi/+yH4F8VeL/ANnrXiDUhqAur+S5uI3k2X9zEn3JFAwiKOAOnrQB+hHh/xLpHizTI9S0PVbLWdOkOEu9PuEnib6OhIP51pV+XviD4c23/BPX9ur4R2nw11HULbwH8TLqPSdR8N3Fw08au06QBtz8kK08TqSS4KyDcVbFfpf4k8TaR4O0O81nXtUs9G0izQy3F9fzrDDEo7s7EAD60AadFfNEP/AAUk/Zsn1waSvxSsRdF9nmPYXi2+f+u5h8rHvuxX0Vout6f4k0m01TSb631PTbuMTW95ZyrLFMh6MrqSGB9RQBdorhfix8dPAHwN0mLUvHnivTfDNrMSIReS/vZyOojiUF3xxnapxmvPfhr+3l8BPi54gh0Twx8SNOudVnYRw2t9BcWDTMeip9ojjDsfRcmgD23XtZh8O6FqOrXKyPb2NtJdSrEAXKopYhQSBnA4yRXn/wCzn+0J4d/ac+Gdv458LWWqWGkz3M1qsOrxRxzho2wxKxyOuM9Pmrp/il/yTLxd/wBge8/9EvXyr/wSK/5Mz0n/ALDF/wD+jBQB7X+zZ+1l4F/aqsvEt14IOpCPQbxbO5GpWogL7gxSVMM2UYK2M4YY5UcV7PXlHwD+Inwl8eR+LI/hSNNRNO1aSHW103SH08fbj99nDRR+Y5xy43Zx1p0f7UnwsbxL430GXxjaWepeCo1l8QLfQzW0VipIAJmkRY3ySAAjNyQKAPVaK8F+Hn7d3wG+KnjCPwv4a+I+nXuuTP5UNtcQXFoJ3zgJE80aJIx7BCSe1e9UAFFfPvj79vz9n/4Z+JpfD3iD4l6dDq0Mhhmgsre4vVhkBwySPBG6owPBDEEYOehrp9P/AGsPhLrHjDwf4X07xpZ6nrPi63e60SKxhmuIruNfM3HzkQxoQYpAVdlIKkYzQB63RRRQAUUUUAFFFFABRRRQAUUUUAFFFFABRRRQAUUUUAFFFFABRRRQAUUUUAFFFFABRRRQAUUUUAFFFFABRRRQAUUUUAFFFFABRRRQAUUUUAYnjX/kUtY/685v/QDXzJX0341/5FLWP+vOb/0A18yV+DeI3+80PR/mffcM/BU9UFFFFfkB9qFFFVrjVLK1vrWznu4ILy73/ZreSULJNtGX2LnLbRycdKqMXJ2iribS3LNFFFSMKKKKun8aJlsz60j/ANWv0p1Nj/1a/SnV/aUPhR+HBRRRVgFFFFABRRRQAUUUUAFFFFABRRRQAUUUUAFFFFABRRRQAUUUUAFFFFABRRRQAUUUUAFFFFABRRRQAUUUUAFFFFABRRRQAUUUUAFFFFABRRRQAUUUUAFFFFABRRRQAUUUUAFFFFABRRRQAUUUUAFFFFABRRRQAUUUUAFFFFABRRRQAUUUUAFFFFABRRRQAUUUUAFFFFABRRRQAUUUUAFFFFABRRRQAUUUUAFFFFACMwVSScAckmvzM/Zn+OPw8+Jn7cPxh+NXjXx74Y8O6dpaL4c8Jwa5rNtatJbglWuIlldWwUi3ZxjN047V9Sf8FCPjgPgP+yv4v1a3uPs+t6tF/YellWCv9ouAyl190iEsg90ryz9mL/gmx8H7f4B+CJPH/gO11zxjd6dHe6ldXNxcK4kmzL5RCSKo8tXWPgfwd+tAHknx7+N3w/8AhR/wUI+F/wAYPBXjrw34i0XxRbf8I/4rj0LV7e78pQViWefy3O1QrwMM4/49D9K/S/WNB0zxFarbatp1pqduriRYbyBZkDAEBgGBGcEjPua+Hv2tf+Cbvwl/4Z38bXnw68CW2h+MdNsW1GxuLWeeR38kiSSIK8hBLxq6jjqwr2r9gf44f8L8/Zb8Ha9cXHn61YQ/2PqpLZb7VbgIWb3dPLl/7aUAfOH/AARn8I6Frn7M/iS91HRdPv72HxlcrHcXVrHJIgFlYkAMwJABJPHcmn/tx+EdCs/22P2U7eDRNOggvtZm+1xR2karcf6Rbf6wAYbqeueprT/4Iqf8ms+Kf+xzuv8A0hsaqf8ABSjV4/hv+0Z+zF8R9ahnj8IaHrcq6jqEUTSLb/vbZ/mAGc7FkYAckRtgHFAH1J+0h4wtf2c/2bfiH4u8MabY6Ve6bpkk1qtraokf2p8RQuyqAGw7oTnqBivgn9iv47fsk/CH4Y22q/EHxTZa38V9caS+1/U9Y8P39/cRyyOW8lZTbOMAY3FWO5yxJPGPtv4har4N/bc/Zv8AiP4Z+Hniew8QJe2UmnpeQFvIivQiywq7Fem7yycZwD618ufse/tSfBnwP8NdP+GHxq0bSfAPxG8IKdLvI9f0dVW5SMny5PM8sjdsKg7iCxG5chqAOO+EPxf+Fdl/wUu8J3PwA1SJ/BXjjS5rLxDpdlYXFjapdpHPIrJFLGgBzFC3yrgZkwfnNbn7aPw5b4uf8FR/g74Pa9nsbPVvCIt7+S3cpJJZb9Ua6hDAgr5kAljyORvzX1l8F/2gfgH8Xfilc+GPhpHpes67plhJqU+o6Zovk29siyRxbRO0a5djKMbMghX5GMHwf4yf8pkvgT/2Jlz/AOidZoA+v/h5+z98NvhLqC3/AIL8EaJ4WvvshsXuNKs0gkmhLK22VlAMh3Ip3Pk9eeTn0CiigD4EliSf/gsQ8UqLJG/gcqyMMhgY8EEdxTP2N3f9ln9rz4o/s63jND4b1xz4q8IB+AY2X95EvqfLXb25tHPepf8AnMb/ANyR/wCyV0X/AAUt8C6l4f0PwL8fPCsDP4n+GOrRXdwsWQ1xpzyKJUYgHKhtuc8BJJTQBgftOMP2rv22vhz8CrdlufCHgoDxb4tQfMjuAvkwOM/3XjXHHF0x7VW+Df8AymS+O3/YmW3/AKJ0auy/4JnfDnVD8PvFPxo8VxY8YfFLVJNYkLA5hsg7+Qi56KS0jjHVGi/uiuN+Df8AymS+O3/YmW3/AKJ0agD379rKT4BaLF4W8T/Ha40hrTRZLh9JsdXVrhJ5XEYdhaKGacqFXjayruyR0I+B/wBuz9oj9nj42fAi7i+HngjUm8RaZPbSaX4n0/w19htLRfOCyJJP8jBGQOoXaQX2cAjK+o/tQeJPC3wx/wCCmPgrxX8ZbJpfh5J4bEGi319bm5sbW7DPl2QK2Srsc8ZUyRucAA03/got+2B4K+LX7NHi3wT8Lro+NIl+wXOv6pp0D/YdJsxeQ+VulYBTJJOIUVFycbycbaAPr7wX4XsP2lP2PPCOleN4/wC0oPF3g7TpdQc/f82a0ikMqk9HWQh1PZgDXwLpPxs+KHwf+G+v/sbwQXV78WG1hfDvhrWArLCdFuQzm5EgOV8uPdg/wLKP+eLCvsjwt8dvD/7N/wDwT/8Aht468RPut7HwRoyW1mrYkvLlrGIRQJ7se/YBmPCmvk9f2OPiJ8RfgBqv7RN5eXcH7RmoalH410tYdytbWkS5hsUjOeTFhlUjPyxRno2QD71+Cvwo8Kfsj/AOz8PWkoh0bw9YyX2p6kYiXuJFQyXFy6qCxJwSFGSFCqM4FeXf8PRv2Yv+imf+UDVP/kavQ/2T/wBo3Rf2qvgnpXi+ySKK+ZfsesaZuDfZLtVHmRkf3GyGXPVXXPORXqf/AAiui/8AQHsP/AZP8KAPI/j54y0f4ifsV/EzxP4evP7Q0PV/AWq3lldeU8XmwvYSsrbXAZcg9GAPtXwt+xT+1n8Yfht+zD4O8LeEv2avEHj3SLMXotPEtpqLxW900l7PIxCC1YAI7sh+fkoeR0H6AftVQR237KfxhihjWKJPBeshURQFUfYZuABXl3/BLj/kxP4Zf9xP/wBOl3QB518G/wBnv4wfH79pHRfjn8e9Ns/CNp4ZiK+GfBlnMJmiclisspDMFwW3ZzuZlXIRUAOJ+1lpkv7Un7eXw5+Aur3dxF8PNH0tvEes2NvKYzey4kIViMZGFiQEcqJZSCDX6FV+fv7aln4g/Zp/av8AAn7TemaJdeIPB0Nh/YXim3sU3y20R3qJj2AKyLtJIXfCqsRvFAH1vqX7NHwm1fwgfC118N/DD6AY/KFkmlQoqDHBUqoKsOzAhgec5r5N/wCCdb6h8G/j18dv2fW1Ga/8N+GL1dT0JLlt0kEMrfMufQrJATjA3bjgbjXrupf8FLv2dNP8IHxAvxDt7xPL3ppttaTteu2OE8koCGzxlsKO5A5rg/8Agnn4D8UeJvGnxX/aB8X6TceH7j4iXyHR9LukKSxaejMUdgecMvlKp4yIyw4daAPOf2Ofh3o37Zn7QPxb+N/xJtIfFVvpGttofhrR9SQS2llDHllJhbKkrG0WMjG9pHxuII+gP2zv2QPh98XPgX4tkt/CulaV4q0vTJ7/AEnV9Ps47e4jmhQyLGXUDMbldpU5ADEjBANfOHwX+Jlt/wAE4f2hviN8PPifbXOk/Dbxhqsmt+G/FEVtJLbKWJHlybQScIY0baCUaMEjY4Yeo/tQ/wDBQX4d6t8Mda8E/CfWH+IvxF8VWcukaVpvh+2lnMbzIYzKWC4yqszBRkkgZAGSADqv2Rfi3q3xo/4J+2+u69cm91u30TUtMu7ljl5TbiWNHc93MaxliepJPesP/gkV/wAmZ6T/ANhi/wD/AEYK774B/A+6/Z3/AGH4/BGpOsmsWugX9zqBVtyrczLLLIgI6hC+wHvsz3rgf+CRX/Jmek/9hi//APRgoA5j/glH/wA1+/7Heb/2evOPg78DdA+Nn/BS749L4shXVvDmh3Md++hXHzW17dfIkLTp92RIw0pCsMFmXsCD6P8A8Eo/+a/f9jvN/wCz0fsh/wDKRj9qX/t3/wDQhQBH/wAFWPgX4K039ml/HWi6Bp/h7xT4Z1Gzey1LSLVLWbY8yxGMsgBKguHHdWQYxk57D9s39oDX/Af/AAT2tPFtjevZ+KPFGlaZZLew5Vo5LqJHndSOVbyxNg54JB6ir/8AwVe/5Mj8Y/8AX5p3/pZFWT+0l8DNY/aA/wCCcfhnQfDls194isdA0fVrCzU/NcPDbx7419WMTSbR3baO+QAejfsq/sc/Dn4L/Bjw9pb+E9G1bXrvT4pdY1a+sYp5rud0DSAs4JEYLEKg4AHckk/J/jb4G+F/gh/wVa+DEXg+yTR9H121uNTbSLcbba1nMN3HIYVzhFbYrbQAAc44wB7R+zn/AMFMPhH4g+E+lReP/E0Pgnxno9olpq+m6nbyoWmiXa7xYU7gxUnYPnUnaR0J8BvvjZJ8f/8Agp98DfFen6Read4LezuLbw9eX8Bhk1O3SK78y7CN8yo0jOq5AyIwcAkigD9VKKKKACiiigAooooAKKKKACiiigAooooAKKKKACiiigAooooAKKKKACiiigAooooAKKKKACiiigAooooAKKKKACiiigAooooAKKKKACiiigDE8a/8ilrH/XnN/wCgGvmSvpvxr/yKWsf9ec3/AKAa+ZK/BvEb/eaHo/zPvuGfgqeqCiiivyA+1KurRXk+k3senTx2t+8LrbTzIXSOQqQjMv8AEA2Dj2NfIo8I+OvDf7ZnwquvG/jKHxXLe2uqC0itbMWsNoqWr7gEBOSxYc9flGc4GPsSvn34q/8AJ4HwN/689a/9Jq+ryDEThOtRSVpU6nRX+B7PdfI8rHU1JQnfVSj+aPoKiiivlD1Qoooq6fxomWzPrSP/AFa/SnU2P/Vr9KdX9pQ+FH4cFFFFWAUUUUAFFFFABRRRQAUUUUAFFFFABRRRQAUUUUAFFFFABRRRQAUUUUAFFFFABRRRQAUUUUAFFFFABRRRQAUUUUAFFFFABRRRQAUUUUAFFFFABRRRQAUUUUAFFFFABRRRQAUUUUAFFFFABRRRQAUUUUAFFFFABRRRQAUUUUAFFFFABRRRQAUUUUAFFFFABRRRQAUUUUAFFFFABRRRQAUUUUAFFFFABRRRQAUUUUAc342+GvhH4lWlta+L/Cui+KrW1k86CHW9OhvEikxjeiyKwVscZHNdJRRQAjKGUgjIPBBrnfBPw38I/DOwuLHwf4W0XwpZXEvnTW2iadDZxySYA3ssSqC2ABk84Aro6KAOf8E/D3wr8NdKl0zwj4Z0fwrps0xuZLPRLCKzheUqqmQpGqgsVRBuxnCgdhV3xJ4Y0bxjo8+k6/pNjrmlzjEtjqVslxBJj+8jgqfxFadFAGB4N8AeF/hzpbaZ4T8N6R4X01pDK1no1jFaQlz1YpGqjJwOcdqz/Gnwf8BfEmaKbxd4I8OeKZYhiOTWtJt7xkAz0MiNjqfzrr6KAMbwr4L8PeBdN/s/w3oOmeHrDOfsulWcdtFnGM7UUD9KgvPh74V1LxlYeLrvwzo914ssITbWevTWET31tEQ4Mcc5XeikSyfKCB+8b+8a6CigAooooAwP+Ff+Fv8AhMv+Eu/4RrSP+Er8j7L/AG79gi+3eT08vz9u/b/s5xWnrGjaf4i0m80vVbG21PTLyFre5sryFZoZ42GGR0YFWUgkEEYINXKKAK2maZZ6Lptpp2nWkFhp9pElvb2trGscUMaKFRERQAqgAAADAAArIs/h74V03xlf+LrTwzo9r4sv4RbXmvQ2ESX1zEAgEck4Xe6gRR/KSR+7X+6K6CigDG8V+C/D/jzSX0vxNoWm+ItMc7mstWs47qFj6lJFK/pWNB8F/h9a+DbrwjD4E8MxeFLple40KPR7dbGZlcOpeAJsYhlVhkcFQeorsqKAOR8QfB/wH4s8P6ToWt+CfDus6HpComnaZqGk289tZKiBEEMToVjCqAo2gYAx0rrVUKoAGAOABS0UAc34R+GvhH4fzalL4X8LaL4bl1KQTXz6Rp0Nq11ICxDymNRvYbm5bJ+Y+tdJRRQBU1bSbHXtKvNM1Oyt9R029he2urO7iWWGeJ1KvG6MCGVlJBUjBBINVPC3hPQ/A+g2uieG9G0/w/otru8jTtLtUtreHcxdtkaAKuWZmOByWJ6mtaigApksSTxPFKiyRuCrIwyGB4II7in0UAef2P7Pfws0vXBrVn8NPB9prAbeNQg0G1S43cc+YI92eBzntXoFFFAGX4k8LaL4y0uTTNf0iw1zTZDl7PUrZLiFiOhKOCD19KxPBfwf8BfDaaWbwj4I8OeFpZRiSTRdJt7NnBx1MaLnoPyrr6KAIrq1hvrWa2uYY7i3mRo5YZVDI6kYKsDwQQcEGsrwj4J8O/D/AEVNH8LaBpfhrSUdpFsNIs47WBWY5ZhHGoXJPU45raooAwPCfw/8LeA/7Q/4Rnw1pHh3+0JzdXn9k2EVr9pmPWSTy1G9v9psmjR/h/4W8P8AiPVfEGleGtI03X9Wx/aGq2dhFFdXmOnnSqoaTH+0TW/RQBj+LPBugePNDm0bxNoem+ItHmZWl0/VrSO6t5CrBlLRyAqSCARkcEVV8SeI/Dfwm8D3Gq6pNa+HvC+i2y+ZIkW2C0gXCqAiD5VUYGAMAD0FdFWd4i8O6X4u0O+0bW9OtdX0i+iaC6sb2JZYZoz1VkYEEfWgDxnVdT/Zm8bg+OdTn+FWutEPNbxDenTbh48YOTO2SpGR1ORXy34B8UWf7Y//AAUq0nxv4KVrr4cfC3RWsjq8ceyC6uXWdVEZxnBadtvYrbsRwwz7/df8E0v2arzVDfyfC+0Wctu2RanfRw5/65LOEx7bcV754F+H/hr4Y+HINA8JaFYeHdFgJaOx023WGIMfvMQo5Y92PJ70AdBRRRQAUUUUAFFFFABRRRQAUUUUAFFFFABRRRQAUUUUAFFFFABRRRQAUUUUAFFFFABRRRQAUUUUAFFFFABRRRQAUUUUAFFFFABRRRQAUUUUAYnjX/kUtY/685v/AEA18yV9N+Nf+RS1j/rzm/8AQDXzJX4R4iRlLE0LLo/zPveGmlCpfugooor8h9nPsfacy7hWfdeHtKvtYsdWudMs59VsVdbS+lt1ae3DjDiNyMoGHB2nmtCirj7WDvG69PMluL0eoUUUVHs59iuZdwooorSnTnzrQmUlZ6n1pH/q1+lOpsf3F+lOr+zofCj8QCiiirAKKKKACiiigAooooAKKKKACiiigAooooAKKKKACiiigAooooAKKKKACiiigAooooAKKKKACiiigAooooAKKKKACiiigAooooAKKKKACiiigAooooAKKKKACiiigAooooAKKKKACiiigAooooAKKKKACiiigAooooAKKKKACiiigAooooAKKKKACiiigAooooAKKKKACiiigAooooAKKKKACiiigAooooAKKKKACiiigAooooAKKKKACiiigAooooAKKKKACiiigAooooAKKKKACiiigAooooAKKKKACiiigAooooAKKKKACiiigAooooAKKKKACiiigAooooAKKKKACiiigAooooAKKKKACiiigAooooAKKKKACiiigAooooAKKKKACiiigAooooAKKKKACiiigAooooAKKKKACiiigAooooAKKKKAEpPLX+6Pyp1FS4p7oBvlr/dH5UeWv90flTqKXJHsMb5a/wB0flR5a/3R+VOoo5I9gG+Wv90flR5a/wB0flTqKOSPYBvlr/dH5UeWv90flTqKOSPYAoooqxBRRRQAUUUUAFFFFABRRRQAUUUUAFFFFABRRRQAUUUUAFFFFABRRRQAUUUUAFFFFABRRRQAUUUUAFFFFABRRRQAUUUUAFFFFABRRRQAUUUUAFFFFABRRRQAUUUUAFFFFABRRRQAUUUUAFFFFABRRRQAUUUUAFFFFABRRRQAUUUUAFFFFABRRRQAUUUUAFFFFABRRRQAUUUUAFFFFABRRRQAUUUUAFFFFABRRRQAUUUUAFFFFABRRRQAUUUUAFFFFABRRRQAUUUUAFFFFABRRRQAUUUUAFFFFABRRRQAUUUUAFFFFABRRRQAUUUUAFFFFABRRRQAUUUUAFFFFABRRRQAUUUUAFFFFABRRRQAUUUUAFFFFABRRRQAUUUUAFFFFABRRRQAUUUUAFFFFABRRRQAUUUUAFFFFABRRRQAUUUUAFFFZ3iPXIPDPh7VNYuQTbafay3coUgErGhc9fYGgDRor8gP2ffgt4t/4Kna9408f/FDx/q+k+FdPvxZ2Gg6TIDHC5XeEjV8oiojR5bYWcsSSCMnrv8Agp38JYPgV+xL8I/AdrqlxrNroviJoIr67ULLIhhunXcAcZAcLx6dB0oA/VGiuB/Z/wD+SD/Df/sWtN/9JY676gAooooAKK+cL79trw7H+2Npv7PFp4f1K48QSb/turSvHHawY09r5fLALNISgVTkJgseTjn6PoAKK+cfFP7bHh3w/wDtZaB8A4PD+pXniLUCpuNTd44rS3VrZ7hSvLNI2FAIwoG7qcV9HUAFFFFABRRRQAUUUUAFFFFABRRRQAUUVy/xS/5Jl4u/7A95/wCiXoA6iivzs/4Imf8AJv8A45/7Gdv/AEkgr9E6ACiiigAooooAKKKKACiiigAooooAKKKKACiiigAooooAKKKKACiiigAooooAKKKKACiiigAooooAKKKKACiiigAooooAKKKKACiiigAooooAKKKKACiiigAooooAKKKKACiiigAooooAKKKKACiiigAooooAKKKKACiiigAooooAKKKKACiiigAooooAKKKKACiiigAooooAKKKKACiiigAooooAKKKKACiiigAooooAKKKKACiiigAooooAKKKKACiiigAooooAKKKKACiiigAooooAKKKKACiiigAooooAKKKKACiiigAooooAKKKKACiiigAooooAKKKKACiiigAooooAKKKKACiiigAooooAKKKKACiiigAooooAKKKKACmbvmxz+VPooAKKKKACiiigAooooAK+OP2/fiJ+0D4W0jU9K+GPgHR/EvgK98NXf9vatfqTPZ7llWXy8XMf3YsMPkbn16V9j1wP7QH/ACQf4kf9i1qX/pLJQB+Q3/BPz4oftM+Bfhn4itPgj8NtC8a+H5tXMt7eaqCZIrnyYx5Yxdw8bAh+6ep57D6B/wCCtmo+INY/Y8+Dt/4tsIdK8VXWpWc+r2Fv/qra8bT5WniT5m+VZCyj5m4HU9a6P/giZ/yb/wCOf+xnb/0kgo/4LZ/8m/8Agb/sZ1/9JJ6APtX9n/8A5IP8N/8AsWtN/wDSWOvlH4rft7fFfUvit4p+H/wQ+CN74xvPDl7Lp19rmpb2sxcIcMuIyqqOhG+YEg/dFfV37P8A/wAkH+G//Ytab/6Sx14X8af+CkXwG/Z31q/8PPf3HiDW7e4c3mm+FLRJvKnZyZPMkZki37txcbywOcjNAHg19/wUd+Pv7P8A4i0j/hoP4KWmi+GtRmEQ1HQlljKdztZppo5HABby9yEgdR1r7T+LvxH8XXH7Pl340+Cel6f438SXlrZ3mhWl3k215DNNFuY/vIjxA8jj515Udeh/OD9tr9vFf2lf2ddd8Pab8FPFljojT2l0vivV4ylvp7pcKA52xsuX+aEZkX/Wnr0P3T/wTrupbv8AYr+FbzSNI406SMM391biVVH4AAfhQB+V/wDwsT9oH/h4x/wlX/CA6P8A8L3/AOhUwfsX/II8vp9pz/x6fvP9d97/AL5r9Gfhv8Yf2uNX+E/xN1Pxb8J/DmleN9MhsW8KaXbq3k6i7ySC5Ev+mtwiCMj54/vH73QfOH/Odf8Az/0LFfqpQB+Efib4iftBXH/BQTSPE2oeAdGt/jdGIvs3hdAfsb4smVc/6SesOW/1w5H4V+pX7I/xI/aI8eah4lj+Ofw+0XwRa20UDaVJpKkG4di/mhs3U33QI8fd+8evb5A8f/8AKbTwz/u2/wD6aXr9Sr68j0+zuLqXPlQRtK+0ZO1Rk/yoA+Uf2uP+CgGj/s8+JrPwD4T8O3XxD+KN+E8nQbEtst9/3PNKKzM7DkRINxHJKgqT4hrn7cP7X3wp02XxX8Qv2e9LXwXD+9uG01Zo5reLrukcTzeWAMZZowPXFfLP7Hf7bPw9+E/xs+I3xa+K2i+IvEHjXxFMW0+fR7eC4WzSV3acZlmjwSPKRdo4RCOAcV9jXX/BaD4FX1rNbXPhDx5cW8yNHLDLplgyOpGCrA3mCCDgg0AfWv7Of7Q3hX9pz4Y2XjTwnLKLWV2gurG5AE9lcLjdFIASM4IIIOCrKe9fM3x8/b/1/wCB/wC2lo3wy1KHw3Y/Dl7SG91PV76Cc3kEbRSPIVdZgnGwYHlknOOSRXiv/BGvxXbXHxQ+NukaCLiDwlcmDUdPs7rAeFBPMseVBYBvLdQ2CfuDk4Fc3+2P8P8ATfip/wAFXfAnhbWYxNpGoLpS3cLDImiXe7xn2YIVPs1AHt2uftwftMfE6zbxH8Ef2fvtXgU5a01TxPG7z38XaWOFJ4TtPbaZAcdew779iP8A4KF2/wC014m1XwJ4u8O/8IX8RdOWSQ2Kl/JuljbbKqq43xyxn70bZOASDwwX7Gt7eK1gjggjSGGNQiRxqFVVAwAAOgA7V+W/xk0K38D/APBZb4d3+kKLOfXIrW8u/KG0M8lvcW0hx/tJGM+pYnqTQB+mPjbxponw58J6r4m8R6hFpWh6Xbtc3d5NnbHGo5OByT2AGSSQACTX5/8A/DxL47fHnV9Rk/Z2+CCa54YsZjD/AGz4jVys5H+7NDGjY52CRyARnGah/wCC2HxIv/D/AMJ/AXgu1meG18R6jcXd2EOPNjtFi2o3qN9wjY9Y19Kg+F//AAVj/Z1+EPw90Dwb4d8GePrTR9GtEtIEXTbEFto+Z2/0zl2bLMe5YmgDtvgj/wAFIPEK/F/T/hV8fvh4/wAM/FmovHDZX8W9bSaVyVjDJISVRyNqyK8iluDjkj7tubmGzt5bi4lSCCJDJJLIwVUUDJYk8AAd6/FD/god+3L8K/2tvBXhSLwf4f8AE2l+LND1MzJqGsWdtCotXjYSIrxXEjbvMWBgMY+UnIPX7T/bx+MWraT/AME47bWUuGg1fxfpuk2M06E5/wBJjSWcZ/2o1lU+zmgDkPGn/BTTxv8AEz4jal4N/Zp+F/8AwsRtPbbLr1+kr2z8ld4jRo9kRI+V5JF3egqG8/bx+LHgPTb/AMMftJfCT/hArPxBY3NlY+KNJWQ2CXDwuI45AXlXk9SJcr1K7cke9/8ABOP4S6X8Kf2SPAjWVqseoeIrGPXtQuSgEk8lwokTccchYzGo9l9zXp/7S3w/0f4n/APx74c121jurG60e5Yb13GKVI2eKVf9pHVWHuooA+OP+CJn/Jv/AI5/7Gdv/SSCv0Tr87P+CJn/ACb/AOOf+xnb/wBJIK/ROgAooooAKKKKACiiigAooooAKKKKACiiigAooooAKKKKACiiigAooooAKKKKACiiigAooooAKKKKACiiigAooooAKKKKACiiigAooooAKKKKACiiigAooooAKKKKACiiigAooooAKKKKACiiigAooooAKKKKACiiigAooooAKKKKACiiigAooooAKKKKACiiigAooooAKKKKACiiigAooooAKKKKACiiigAooooAKKKKACiiigAooooAKKKKACiiigAooooAKKKKACiiigAooooAKKKKACiiigAooooAKKKKACiiigAooooAKKKKACiiigAooooAKKKKACiiigAooooAKKKKACiiigAooooAKKKKACiiigAooooAKKKKACiiigAooooAKKKKACiiigAooooAK4H9oD/kg/xI/wCxa1L/ANJZK76sD4geFf8AhOvAfiTw39q+w/2xptzp32ry/M8nzYmj37cjdjdnGRnHUUAfBf8AwRM/5N/8c/8AYzt/6SQUf8Fs/wDk3/wN/wBjOv8A6ST19E/sS/sif8MdfD/XfDP/AAln/CXf2pqh1L7V/Zv2Ly8xRx7NvmyZ/wBXnOR16Ufttfsif8Ni/D/QvDP/AAln/CI/2Xqg1L7V/Zv23zMRSR7Nvmx4/wBZnOT06UAXZNa1Tw1+wW2r6G8ketaf8NPtdi0SlnE8el7oyoHU7gMCvlT/AIIxeCfAeofCvxR4oNlp+ofEOHW3gubu5RZLu0tvKjaIJnlEdjKdwxuKkEnYAP0G8C+D4/B3w98P+FZpl1OLStLt9MeZ4gq3CxQrGWKEnAYLnbk9cZNfDvjj/gkToi+OrvxL8KPilr3wna6Z2ezs4GuEhDcmOF0mhdY/9lmb64xgA2f+CvHxo0Hwj+zLf+AJLuGbxL4ruLVYrBHBlit4biOd52XPypuhVAT1L8Zwcesf8E4v+TJ/hZ/14z/+lU1eXN/wSr8J/wDCofHHh9/Geqat4+8WJbQ3PjrXoPts8EUV1BcGOOHzFwG8hVJMhbn72Btr6b/Zx+Df/DP3wT8K/D7+1/7e/sOB4f7R+zfZvP3SvJny977cb8fePSgD89deMPhv/guNpt7qFxHbW9+I/JeQ4BaTQDbxrz3aQBRjuwFfqnXyp+2J/wAE+/C37WWs6V4lXX7zwX4002EW0WsWUAnWWJWLoJItyElGZirK6kbiDnAx0n7I37KWr/szx+J5te+J2tfE3VNcFpG13q6Ogto7czlEjV5pWAPntn5scDgUAfG3xdeDw3/wWi8E32o3EdtbXqWnlSSHaNz2EkCLk92kAUe7Cv1LurWK+tZreZd8MyNG65IypGCMj2r5i/bI/YH8KftdzaTrM+sXXhHxjpcP2a21uzhWcPDuLrHLEWUsFYsylXUgu3Jzxpfskfsj6z+zVd+IL7xB8U9b+J2oarBBbJLq0bxraxxNIwWMPNKRkyc/MBx0oA+Jv+CZ/iPRv2ef2hvij8CviGlrZapc3yx6XPqaKsctxA0iFFLcZmjeN0x94JwSSoP6qN4X0RVJOkaeAOSTbJ/hXz7+1d+wH8N/2sZotW1kXXh7xdBEIY9e0raJJIx0SaNgVlUZODww4AbHFeAWv/BJfxNdW/8AZWu/tK+L9U8L7TGdIitZYl2Z4X57uRMYyP8AV9/woA+6vAfijwZ4uOsy+D73StSXS75tKv5tL2MkVyiJI8JdRgsqypkAnBODyCB+bvx7/wCUyXw1/wCuen/+iZq+/v2df2c/B37L/wAPR4P8FQXSafJctfXM99cGaa5uGREaVzwoJWJBhAq/L0615R4+/Yd/4Tj9snw18ev+E1+xf2Mtuv8Awj/9leZ53lI6/wDHx5w2535/1ZxjvQB9T1+Yn7SX/KYL4Nf9eFj/AOhXdfp3XzF8Sf2Kf+Fhftg+DPjr/wAJl9g/4R23gg/sD+y/M+0eWZjnz/OG3Pnf88zjb78AHg3/AAWm+Guoa98IPA/jnT4ZZB4W1SWC5khJBghuljAlPPAEkES56guvvX1p+zl8UPAf7Rvwm0Pxl4ftNKnN1boL+zSGMyWV0FHmwyLjKkNnGeowwyCDXqHiPw5pfi/QdQ0TW7C31TSNQge2u7K6QPFNGwwysp6gg18DeJP+CQGj6T4ouNY+FHxb8TfDATk5t4Y2uvLQ/wDLNJEmhk2/77MfUnrQB9r+MdX8A/D61srjxI+h6NHe3UdlaC7jjVrieRwiRRrjLsWYcKCe/Svn3/gqH8Nbv4gfsa+KE0u28248Py2+srBEMfuoW2ykAdlieRvotcr8Jv8Aglj4Y8K+PtJ8a/EL4g+Jvin4h0maO5tH1GVreFZo3Do7DzJJG2soIXzNvqDX27NDHcwyQzRrLFIpR43AKspGCCD1BFAHyj/wTR+POhfGD9l/wno1rfxt4j8JWUWjalp7SZliWIbIJME5KPGqYbpkMv8ADXbfts/HrQvgN+z/AOKb3ULuP+29WsJ9M0XTVIaa7u5YyiBU6lVLbmPQBfUgH5++JX/BIvwrqXjqfxT8LfiBrXwlvZ3aRrbT4DcQwFjlhBtlieNT/d3sB2wMAdl8I/8Agmf4X8C6ld+JfF/jPXPib48exls7PXPEDM0VgzxunmxQmRiWG843yNjqu080Aebf8ETP+Tf/ABz/ANjO3/pJBX6J186/sS/sif8ADHXw/wBd8M/8JZ/wl39qaodS+1f2b9i8vMUcezb5smf9XnOR16V9FUAFFFFABRRRQAUUUUAFFFFABRRRQAUUUUAFFFFABRRRQAUUUUAFFFFABRRRQAUUUUAFFFFABRRRQAUUUUAFFFFABRRRQAUUUUAFFFFABRRRQAUUUUAFFFFABRRRQAUUUUAFFFFABRRRQAUUUUAFFFFABRRRQAUUUUAFFFFABRRRQAUUUUAFFFFABRRRQAUUUUAFFFFABRRRQAUUUUAFFFFABRRRQAUUUUAFFFFABRRRQAUUUUAFFFFABRRRQAUUUUAFFFFABRRRQAUUUUAFFFFABRRRQAUUUUAFFFFABRRRQAUUUUAFFFFABRRRQAUUUUAFFFFABRRRQAUUUUAFFFFABRRRQAUUUUAFFFFABRRRQAUUUUAFFFFABRRRQAUUUUAFFFFABRRRQAUUUUAFFFFABRRRQAUUUUAFFFFABRRRQAUUUUAFFFFABRRRQAUUUUAFFFFABRRRQAUUUUAFFFFABRRRQAUUUUAFFFFABRRRQAUUUUAFFFFABRRRQAUUUUAFFFFABRRRQAUUUUAFFFFABRRRQAUUUUAFFFFABRRRQAUUUUAFFFFABRRRQAUUUUAFFFFABRRRQAUUUUAFFFFABRRRQAUUUUAFFFFABRRRQAUUUUAFFFFABRRRQAUUUUAFFFFAH//Z)Flatten the multi-dimensional input into a one-dimensional output, which is used in the transition from the convolutional layer to the fully connected layer"
   ]
  },
  {
   "cell_type": "code",
   "execution_count": 9,
   "metadata": {
    "colab": {
     "base_uri": "https://localhost:8080/"
    },
    "executionInfo": {
     "elapsed": 3244,
     "status": "ok",
     "timestamp": 1640326611360,
     "user": {
      "displayName": "蔡承哲",
      "photoUrl": "https://lh3.googleusercontent.com/a-/AOh14GgUjUENY9knqXHiDlNA8p9rKPZb-kSJuB4r-BTpIQ=s64",
      "userId": "08856972309667959252"
     },
     "user_tz": -480
    },
    "id": "6sPGlL9IZ34P",
    "outputId": "ecc5aab4-6da5-4ccd-de22-3e066809572d"
   },
   "outputs": [
    {
     "name": "stdout",
     "output_type": "stream",
     "text": [
      "Model: \"sequential\"\n",
      "_________________________________________________________________\n",
      " Layer (type)                Output Shape              Param #   \n",
      "=================================================================\n",
      " conv2d (Conv2D)             (None, 24, 24, 32)        832       \n",
      "                                                                 \n",
      " max_pooling2d (MaxPooling2D  (None, 12, 12, 32)       0         \n",
      " )                                                               \n",
      "                                                                 \n",
      " dropout (Dropout)           (None, 12, 12, 32)        0         \n",
      "                                                                 \n",
      " flatten (Flatten)           (None, 4608)              0         \n",
      "                                                                 \n",
      " dense (Dense)               (None, 128)               589952    \n",
      "                                                                 \n",
      " dense_1 (Dense)             (None, 10)                1290      \n",
      "                                                                 \n",
      "=================================================================\n",
      "Total params: 592,074\n",
      "Trainable params: 592,074\n",
      "Non-trainable params: 0\n",
      "_________________________________________________________________\n",
      "None\n"
     ]
    }
   ],
   "source": [
    "# create model\n",
    "\n",
    "model = Sequential()\n",
    "model.add(Conv2D(32, (5, 5), input_shape=(28, 28,1), activation='relu'))\n",
    "model.add(MaxPool2D(pool_size=(2, 2)))\n",
    "model.add(Dropout(0.2))\n",
    "model.add(Flatten())\n",
    "model.add(Dense(128, activation='relu'))\n",
    "model.add(Dense(num_classes, activation='softmax'))\n",
    "print(model.summary())"
   ]
  },
  {
   "cell_type": "markdown",
   "metadata": {
    "id": "AFjgPjlVRnI6"
   },
   "source": [
    "### The Model Parameters ###\n",
    "\n",
    "The parameters (learnable weights) in the Conv2D layer is calculated as:\n",
    "\n",
    "    Conv2D Params = ((Conv2DSize * Conv2DSize)* PrevLayerFilter + Bias))* Conv2DFilters).\n",
    "    Conv2D Params = ((5 * 5) * 1 + 1) * 32 = 832\n",
    "\n",
    "    The 2nd learnable params is : (4608 + Bias) * 128 = 589952\n",
    "    THe 3rd learnable params is : (128 + Bias) * 10 = 1290\n",
    "\n",
    "The Bias value for all is : 1\n"
   ]
  },
  {
   "cell_type": "markdown",
   "metadata": {
    "id": "m2iHWiKlRnI6"
   },
   "source": [
    "### Compiling the Model ###"
   ]
  },
  {
   "cell_type": "code",
   "execution_count": 10,
   "metadata": {
    "executionInfo": {
     "elapsed": 4,
     "status": "ok",
     "timestamp": 1640326611360,
     "user": {
      "displayName": "蔡承哲",
      "photoUrl": "https://lh3.googleusercontent.com/a-/AOh14GgUjUENY9knqXHiDlNA8p9rKPZb-kSJuB4r-BTpIQ=s64",
      "userId": "08856972309667959252"
     },
     "user_tz": -480
    },
    "id": "hMdV2FfVZ34Z"
   },
   "outputs": [],
   "source": [
    "# Compile model\n",
    "model.compile(optimizer='adam',\n",
    "              loss='categorical_crossentropy',\n",
    "              metrics=['accuracy'])\n"
   ]
  },
  {
   "cell_type": "markdown",
   "metadata": {
    "id": "Zm-eHTTVRnI6"
   },
   "source": [
    "### Training the Model ###"
   ]
  },
  {
   "cell_type": "code",
   "execution_count": 11,
   "metadata": {
    "colab": {
     "base_uri": "https://localhost:8080/"
    },
    "executionInfo": {
     "elapsed": 45820,
     "status": "ok",
     "timestamp": 1640326657177,
     "user": {
      "displayName": "蔡承哲",
      "photoUrl": "https://lh3.googleusercontent.com/a-/AOh14GgUjUENY9knqXHiDlNA8p9rKPZb-kSJuB4r-BTpIQ=s64",
      "userId": "08856972309667959252"
     },
     "user_tz": -480
    },
    "id": "CbZMxELaZ34e",
    "outputId": "c992f9bd-5763-43c1-c46d-28521ee1bdc7"
   },
   "outputs": [
    {
     "name": "stdout",
     "output_type": "stream",
     "text": [
      "Epoch 1/10\n",
      "300/300 - 16s - loss: 0.2504 - accuracy: 0.9277 - val_loss: 0.0812 - val_accuracy: 0.9758 - 16s/epoch - 53ms/step\n",
      "Epoch 2/10\n",
      "300/300 - 3s - loss: 0.0772 - accuracy: 0.9772 - val_loss: 0.0538 - val_accuracy: 0.9826 - 3s/epoch - 11ms/step\n",
      "Epoch 3/10\n",
      "300/300 - 3s - loss: 0.0528 - accuracy: 0.9841 - val_loss: 0.0439 - val_accuracy: 0.9850 - 3s/epoch - 8ms/step\n",
      "Epoch 4/10\n",
      "300/300 - 2s - loss: 0.0423 - accuracy: 0.9865 - val_loss: 0.0381 - val_accuracy: 0.9880 - 2s/epoch - 8ms/step\n",
      "Epoch 5/10\n",
      "300/300 - 2s - loss: 0.0341 - accuracy: 0.9894 - val_loss: 0.0336 - val_accuracy: 0.9888 - 2s/epoch - 7ms/step\n",
      "Epoch 6/10\n",
      "300/300 - 2s - loss: 0.0277 - accuracy: 0.9915 - val_loss: 0.0345 - val_accuracy: 0.9886 - 2s/epoch - 7ms/step\n",
      "Epoch 7/10\n",
      "300/300 - 2s - loss: 0.0231 - accuracy: 0.9926 - val_loss: 0.0353 - val_accuracy: 0.9890 - 2s/epoch - 6ms/step\n",
      "Epoch 8/10\n",
      "300/300 - 2s - loss: 0.0180 - accuracy: 0.9945 - val_loss: 0.0329 - val_accuracy: 0.9886 - 2s/epoch - 7ms/step\n",
      "Epoch 9/10\n",
      "300/300 - 2s - loss: 0.0162 - accuracy: 0.9948 - val_loss: 0.0362 - val_accuracy: 0.9891 - 2s/epoch - 7ms/step\n",
      "Epoch 10/10\n",
      "300/300 - 2s - loss: 0.0144 - accuracy: 0.9952 - val_loss: 0.0349 - val_accuracy: 0.9903 - 2s/epoch - 7ms/step\n",
      "313/313 [==============================] - 2s 4ms/step - loss: 0.0349 - accuracy: 0.9903\n",
      "CNN Error: 0.97%\n"
     ]
    }
   ],
   "source": [
    "history = model.fit(X_train, y_train, epochs=10,batch_size=200, verbose=2, \n",
    "                    validation_data=(X_test, y_test))\n",
    "\n",
    "#model.fit(X_train, y_train, epochs=10, batch_size=200, verbose=2)\n",
    "# Final evaluation of the model\n",
    "scores = model.evaluate(X_test, y_test, verbose=1)\n",
    "print(\"CNN Error: %.2f%%\" % (100-scores[1]*100))"
   ]
  },
  {
   "cell_type": "code",
   "execution_count": 12,
   "metadata": {
    "colab": {
     "base_uri": "https://localhost:8080/"
    },
    "executionInfo": {
     "elapsed": 1638,
     "status": "ok",
     "timestamp": 1640326658812,
     "user": {
      "displayName": "蔡承哲",
      "photoUrl": "https://lh3.googleusercontent.com/a-/AOh14GgUjUENY9knqXHiDlNA8p9rKPZb-kSJuB4r-BTpIQ=s64",
      "userId": "08856972309667959252"
     },
     "user_tz": -480
    },
    "id": "8tvh8FLNRnI7",
    "outputId": "6e5becba-050e-4e24-b10c-8fc91dc70b46"
   },
   "outputs": [
    {
     "name": "stdout",
     "output_type": "stream",
     "text": [
      "313/313 - 1s - loss: 0.0349 - accuracy: 0.9903 - 1s/epoch - 3ms/step\n",
      "Baseline Error: 0.97%\n",
      "loss 0.03487487882375717\n",
      "accuracy 0.9902999997138977\n"
     ]
    }
   ],
   "source": [
    "# Final evaluation of the model\n",
    "scores = model.evaluate(X_test, y_test, verbose=2)\n",
    "print(\"Baseline Error: %.2f%%\" % (100-scores[1]*100))\n",
    "print(model.metrics_names[0], scores[0])\n",
    "print(model.metrics_names[1], scores[1])"
   ]
  },
  {
   "cell_type": "code",
   "execution_count": 13,
   "metadata": {
    "colab": {
     "base_uri": "https://localhost:8080/",
     "height": 300
    },
    "executionInfo": {
     "elapsed": 6,
     "status": "ok",
     "timestamp": 1640326658812,
     "user": {
      "displayName": "蔡承哲",
      "photoUrl": "https://lh3.googleusercontent.com/a-/AOh14GgUjUENY9knqXHiDlNA8p9rKPZb-kSJuB4r-BTpIQ=s64",
      "userId": "08856972309667959252"
     },
     "user_tz": -480
    },
    "id": "V-HfQmiWRnI7",
    "outputId": "c4c1e16b-9175-4c69-ebf4-c149c00c8b7e"
   },
   "outputs": [
    {
     "data": {
      "text/plain": [
       "<matplotlib.legend.Legend at 0x7f79ef6b2c10>"
      ]
     },
     "execution_count": 13,
     "metadata": {},
     "output_type": "execute_result"
    },
    {
     "data": {
      "image/png": "[encoded data removed]",
      "text/plain": [
       "<Figure size 432x288 with 1 Axes>"
      ]
     },
     "metadata": {
      "needs_background": "light"
     },
     "output_type": "display_data"
    }
   ],
   "source": [
    "plt.plot(history.history['accuracy'], label='accuracy')\n",
    "#plt.plot(history.history['val_accuracy'], label = 'val_accuracy')\n",
    "plt.xlabel('Epoch')\n",
    "plt.ylabel('Accuracy')\n",
    "plt.ylim([0.986,1.])\n",
    "plt.legend(loc='lower right')"
   ]
  },
  {
   "cell_type": "markdown",
   "metadata": {
    "id": "YnKEOHMPinhw"
   },
   "source": [
    "### Check in the individual predictions\n"
   ]
  },
  {
   "cell_type": "code",
   "execution_count": 14,
   "metadata": {
    "colab": {
     "base_uri": "https://localhost:8080/"
    },
    "executionInfo": {
     "elapsed": 595,
     "status": "ok",
     "timestamp": 1640326659404,
     "user": {
      "displayName": "蔡承哲",
      "photoUrl": "https://lh3.googleusercontent.com/a-/AOh14GgUjUENY9knqXHiDlNA8p9rKPZb-kSJuB4r-BTpIQ=s64",
      "userId": "08856972309667959252"
     },
     "user_tz": -480
    },
    "id": "RPqOabjgZ34j",
    "outputId": "d1678c40-612f-44bf-b1cc-db9a2465a652"
   },
   "outputs": [
    {
     "name": "stdout",
     "output_type": "stream",
     "text": [
      "7\n",
      "2\n",
      "1\n",
      "0\n"
     ]
    }
   ],
   "source": [
    "from numpy import argmax, expand_dims\n",
    "import numpy\n",
    "#check individual prediction \n",
    "y = expand_dims(X_test[0], axis=0)\n",
    "result=numpy.argmax(model.predict(y))\n",
    "print(result)\n",
    "y = expand_dims(X_test[1], axis=0)\n",
    "result=numpy.argmax(model.predict(y))\n",
    "print(result)\n",
    "y = expand_dims(X_test[2], axis=0)\n",
    "result=numpy.argmax(model.predict(y))\n",
    "print(result)\n",
    "y = expand_dims(X_test[3], axis=0)\n",
    "result=numpy.argmax(model.predict(y))\n",
    "print(result)"
   ]
  },
  {
   "cell_type": "markdown",
   "metadata": {
    "id": "Utqw30JtRnI8"
   },
   "source": [
    "### Question ###\n",
    "1. Compare the results from cnn version with the version without cnn. "
   ]
  },
  {
   "cell_type": "markdown",
   "metadata": {
    "id": "gT5sQtupTgDA"
   },
   "source": [
    "### Answer\n",
    "without CNN version accuracy is 0.9727   \n",
    "with CNN version accuracy is 0.9903  \n",
    "The accuracy of CNN version is higher than without CNN version.\n"
   ]
  }
 ],
 "metadata": {
  "accelerator": "GPU",
  "colab": {
   "collapsed_sections": [],
   "name": "digit-2.ipynb",
   "provenance": []
  },
  "kernelspec": {
   "display_name": "Python 3 (ipykernel)",
   "language": "python",
   "name": "python3"
  },
  "language_info": {
   "codemirror_mode": {
    "name": "ipython",
    "version": 3
   },
   "file_extension": ".py",
   "mimetype": "text/x-python",
   "name": "python",
   "nbconvert_exporter": "python",
   "pygments_lexer": "ipython3",
   "version": "3.8.12"
  }
 },
 "nbformat": 4,
 "nbformat_minor": 1
}
