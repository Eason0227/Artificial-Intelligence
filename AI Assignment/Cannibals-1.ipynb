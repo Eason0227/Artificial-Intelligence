{
 "cells": [
  {
   "cell_type": "markdown",
   "metadata": {},
   "source": [
    "### Missionary and Cannibals Code\n",
    "\n",
    "We test out individual functions separately first. It is easier to do it this way. \n",
    "\n",
    "We pick this representation:\n",
    "\n",
    "    [MMMCCC]\n",
    "  \n",
    "where the missionaries and cannibals are represented by column positions. A 1 or 0 denotes the river bank side.\n",
    "\n",
    "The boat location is represented by a separate variable"
   ]
  },
  {
   "cell_type": "code",
   "execution_count": 1,
   "metadata": {},
   "outputs": [],
   "source": [
    "import numpy as np\n",
    "board=np.array([1,1,1,0,1,0]) #MMMCCC\n",
    "goal=np.array([0,0,0,0,0,0])\n",
    "BOAT=0"
   ]
  },
  {
   "cell_type": "markdown",
   "metadata": {},
   "source": [
    "What is a valid move?\n",
    "\n",
    "    000 111 - valid\n",
    "    000 000 - valid\n",
    "    001 001 - valid\n",
    "    000 001 - valid more missionaries is ok\n",
    "    111 110 - valid\n",
    "    001 110 - not valid\n",
    "    001 111 - not valid\n",
    "    \n",
    "To check we count the '1' on the first 3 column and compare with last 3 column. Same with '0'"
   ]
  },
  {
   "cell_type": "code",
   "execution_count": 2,
   "metadata": {},
   "outputs": [],
   "source": [
    "#easier to test if test after the move is made. Can this simplified?\n",
    "def isValidBoard(test):\n",
    "    val1=False\n",
    "    \n",
    "    #we can't just count zero or one because they are coded by position\n",
    "    m, mcounts = np.unique(test[:3], return_counts=True) #count how many 0 and 1\n",
    "    c, ccounts = np.unique(test[3:], return_counts=True) #count how many 0 and 1\n",
    "    \n",
    "    mm=dict(zip(m, mcounts)) # make it into dictionary pairs\n",
    "    cc=dict(zip(c, ccounts)) # make it into dictionary pairs\n",
    "\n",
    "    if(mm.get(1) and cc.get(1)):\n",
    "        if(mm.get(1)>=cc.get(1)): #valid if number of M >= C on Bank=1\n",
    "            val1=True\n",
    "        else:\n",
    "            return False\n",
    "    if(mm.get(0) and cc.get(0)):\n",
    "        if(mm.get(0)>=cc.get(0)): #valid if number of M >= C on Bank=0\n",
    "            val1=True\n",
    "        else:\n",
    "            return False\n",
    "    if(mm.get(0) and cc.get(1)):\n",
    "        if(mm.get(0)==3):\n",
    "            return True\n",
    "    if(mm.get(1) and cc.get(0)):\n",
    "        if(mm.get(1)==3):\n",
    "            return True\n",
    "    return val1 "
   ]
  },
  {
   "cell_type": "code",
   "execution_count": 3,
   "metadata": {},
   "outputs": [
    {
     "name": "stdout",
     "output_type": "stream",
     "text": [
      "True\n",
      "True\n",
      "False\n",
      "False\n",
      "False\n",
      "True\n",
      "True\n"
     ]
    }
   ],
   "source": [
    "test=[0,0,0, 0,0,1] #valid\n",
    "print(isValidBoard(test))\n",
    "test=[1,1,1, 1,1,0] # valid\n",
    "print(isValidBoard(test))\n",
    "test=[0,0,1, 1,1,0] # not valid\n",
    "print(isValidBoard(test))\n",
    "test=[0,0,1, 1,1,1] # not valid\n",
    "print(isValidBoard(test))\n",
    "test=[1, 0, 0, 0, 0, 0] # not valid\n",
    "print(isValidBoard(test))\n",
    "test=[1, 1, 1, 0, 0, 0] #valid\n",
    "print(isValidBoard(test))\n",
    "test=[0, 0, 0, 1, 1, 1] #valid\n",
    "print(isValidBoard(test))"
   ]
  },
  {
   "cell_type": "code",
   "execution_count": 4,
   "metadata": {},
   "outputs": [],
   "source": [
    "def isValidMove(board, move):\n",
    "    val1=False\n",
    "    \n",
    "    test=[b for b in board]\n",
    "    \n",
    "    #move must from same side\n",
    "    if(move[0]==move[1]):\n",
    "        if(move[0]>=0):\n",
    "            test[move[0]]=int(not test[move[0]])\n",
    "        if(move[1]>=0):\n",
    "            test[move[1]]=int(not test[move[1]])\n",
    "    #print(test)\n",
    "    #we can't just count zero or one because they are coded by position\n",
    "    m, mcounts = np.unique(test[:3], return_counts=True) #count how many 0 and 1\n",
    "    c, ccounts = np.unique(test[3:], return_counts=True) #count how many 0 and 1\n",
    "\n",
    "    mm=dict(zip(m, mcounts)) # make it into dictionary pairs\n",
    "    cc=dict(zip(c, ccounts)) # make it into dictionary pairs\n",
    "\n",
    "    if(mm.get(1) and cc.get(1)):\n",
    "        if(mm.get(1)>=cc.get(1)): #valid if number of M >= C on Bank=1\n",
    "            val1=True\n",
    "        else:\n",
    "            return False\n",
    "    if(mm.get(0) and cc.get(0)):\n",
    "        if(mm.get(0)>=cc.get(0)): #valid if number of M >= C on Bank=0\n",
    "            val1=True\n",
    "        else:\n",
    "            return False\n",
    "    if(mm.get(0) and cc.get(1)):\n",
    "        if(mm.get(0)==3):\n",
    "            return True\n",
    "    if(mm.get(1) and cc.get(0)):\n",
    "        if(mm.get(1)==3):\n",
    "            return True\n",
    "    return val1 "
   ]
  },
  {
   "cell_type": "markdown",
   "metadata": {},
   "source": [
    "First attemp to get all the moves, first we try to get one move.\n",
    "Conditions we must handle \n",
    "    \n",
    "    BOAT==0 \n",
    "\n",
    "    111110 - Must pick the '0'\n",
    "    000001 - Randomly pick 2 '0'\n",
    "    111100 - Pick 2 '0'\n",
    "    000011 - Pick 2 '0'\n",
    "\n"
   ]
  },
  {
   "cell_type": "code",
   "execution_count": 5,
   "metadata": {},
   "outputs": [],
   "source": [
    "def getMoves(board, BOAT, lastMove=None):\n",
    "    a,b=-1,-1\n",
    "    moves=[]\n",
    "    zero=np.where(board==0)[0]\n",
    "    one=np.where(board==1)[0]\n",
    "\n",
    "    if(BOAT==0):\n",
    "        if(len(zero)==1):  \n",
    "            a=zero[0] #only 1 choice\n",
    "            moves=[[a,b]]\n",
    "        elif(len(zero)==2):  \n",
    "            a=zero[0] #only 1 choice\n",
    "            b=zero[1] #only 1 choice\n",
    "            moves=[[a,b]]\n",
    "        else:#select all combinations not randomly\n",
    "            for i in itertools.combinations(zero,2):\n",
    "                moves.append([i[0],i[1]])\n",
    "\n",
    "    elif(BOAT==1):\n",
    "        if(len(one)==1):  \n",
    "            a=one[0] #only 1 choice\n",
    "            moves=[[a,b]]\n",
    "        elif(len(one)==2):  \n",
    "            a=one[0] #only 1 choice\n",
    "            b=one[1] #only 1 choice\n",
    "            moves=[[a,b]]\n",
    "        else:\n",
    "            for i in itertools.combinations(one,2):\n",
    "                moves.append([i[0],i[1]])\n",
    "    \n",
    "    return moves"
   ]
  },
  {
   "cell_type": "markdown",
   "metadata": {},
   "source": [
    "Let's test them"
   ]
  },
  {
   "cell_type": "code",
   "execution_count": 7,
   "metadata": {},
   "outputs": [
    {
     "name": "stdout",
     "output_type": "stream",
     "text": [
      "[[3, 5]]\n",
      "[[3, -1]]\n",
      "[[0, 1], [0, 2], [0, 3], [0, 5], [1, 2], [1, 3], [1, 5], [2, 3], [2, 5], [3, 5]]\n"
     ]
    }
   ],
   "source": [
    "import itertools\n",
    "BOAT=0\n",
    "board=np.array([1,1,1,0,1,0]) #MMMCCC\n",
    "m=getMoves(board,BOAT)\n",
    "print(m)\n",
    "board=np.array([1,1,1,0,1,1]) #MMMCCC\n",
    "m=getMoves(board,BOAT)\n",
    "print(m)\n",
    "board=np.array([0,0,0,0,1,0]) #MMMCCC\n",
    "m=getMoves(board,BOAT)\n",
    "print(m)"
   ]
  },
  {
   "cell_type": "code",
   "execution_count": 8,
   "metadata": {},
   "outputs": [
    {
     "name": "stdout",
     "output_type": "stream",
     "text": [
      "[[0, 1], [0, 2], [0, 4], [1, 2], [1, 4], [2, 4]]\n",
      "[[0, 1], [0, 2], [0, 4], [0, 5], [1, 2], [1, 4], [1, 5], [2, 4], [2, 5], [4, 5]]\n",
      "[[4, -1]]\n"
     ]
    }
   ],
   "source": [
    "BOAT=1\n",
    "board=np.array([1,1,1,0,1,0]) #MMMCCC\n",
    "m=getMoves(board,BOAT)\n",
    "print(m)\n",
    "board=np.array([1,1,1,0,1,1]) #MMMCCC\n",
    "m=getMoves(board,BOAT)\n",
    "print(m)\n",
    "board=np.array([0,0,0,0,1,0]) #MMMCCC\n",
    "m=getMoves(board,BOAT)\n",
    "print(m)"
   ]
  },
  {
   "cell_type": "code",
   "execution_count": 9,
   "metadata": {},
   "outputs": [
    {
     "name": "stdout",
     "output_type": "stream",
     "text": [
      "[0, 1]\n",
      "True\n",
      "\n",
      "[0, 2]\n",
      "True\n",
      "\n",
      "[0, 3]\n",
      "True\n",
      "\n",
      "[0, 4]\n",
      "True\n",
      "\n",
      "[1, 2]\n",
      "True\n",
      "\n",
      "[1, 3]\n",
      "True\n",
      "\n",
      "[1, 4]\n",
      "True\n",
      "\n",
      "[2, 3]\n",
      "True\n",
      "\n",
      "[2, 4]\n",
      "True\n",
      "\n",
      "[3, 4]\n",
      "True\n",
      "\n"
     ]
    }
   ],
   "source": [
    "BOAT=1\n",
    "board=np.array([1,1,1,1,1,0]) #MMMCCC\n",
    "m=getMoves(board,BOAT)\n",
    "for i in m:\n",
    "    print(i)\n",
    "    print(isValidMove(board,i))\n",
    "    print()"
   ]
  },
  {
   "cell_type": "code",
   "execution_count": 10,
   "metadata": {},
   "outputs": [],
   "source": [
    "def makeMove(board,move):\n",
    "    test=[b for b in board] # can't do this test=board\n",
    "    if(move[0]>=0):\n",
    "        test[move[0]]=int(not test[move[0]])\n",
    "    if(move[1]>=0):\n",
    "        test[move[1]]=int(not test[move[1]])\n",
    "    #print(test)    \n",
    "    return test"
   ]
  },
  {
   "cell_type": "markdown",
   "metadata": {},
   "source": [
    "Edit getMoves so that it only returns valid moves"
   ]
  },
  {
   "cell_type": "code",
   "execution_count": 11,
   "metadata": {},
   "outputs": [],
   "source": [
    "def getMoves(board, BOAT):\n",
    "    a,b=-1,-1\n",
    "    moves=[]\n",
    "    zero=np.where(board==0)[0]\n",
    "    one=np.where(board==1)[0]\n",
    "\n",
    "    if(BOAT==0):\n",
    "        if(len(zero)==1):  \n",
    "            a=zero[0] #only 1 choice\n",
    "            moves=[[a,b]]\n",
    "        elif(len(zero)==2):  \n",
    "            a=zero[0] #only 1 choice\n",
    "            b=zero[1] #only 1 choice\n",
    "            moves=[[a,b]]\n",
    "        else:#select all combinations not randomly\n",
    "            for i in itertools.combinations(zero,2):\n",
    "                moves.append([i[0],i[1]])\n",
    "\n",
    "    elif(BOAT==1):\n",
    "        if(len(one)==1):  \n",
    "            a=one[0] #only 1 choice\n",
    "            moves=[[a,b]]\n",
    "        elif(len(one)==2):  \n",
    "            a=one[0] #only 1 choice\n",
    "            b=one[1] #only 1 choice\n",
    "            moves=[[a,b]]\n",
    "        else:\n",
    "            for i in itertools.combinations(one,2):\n",
    "                moves.append([i[0],i[1]])\n",
    "\n",
    "    validmoves=[m for m in moves if isValidMove(board,m)==True]\n",
    "    #validmoves=moves\n",
    "    return validmoves"
   ]
  },
  {
   "cell_type": "code",
   "execution_count": 12,
   "metadata": {},
   "outputs": [
    {
     "name": "stdout",
     "output_type": "stream",
     "text": [
      "[0, 1]\n",
      "[1 1 1 1 0 0]\n",
      "True\n",
      "\n",
      "[0, 2]\n",
      "[1 1 1 1 0 0]\n",
      "True\n",
      "\n",
      "[0, 3]\n",
      "[1 1 1 1 0 0]\n",
      "True\n",
      "\n",
      "[1, 2]\n",
      "[1 1 1 1 0 0]\n",
      "True\n",
      "\n",
      "[1, 3]\n",
      "[1 1 1 1 0 0]\n",
      "True\n",
      "\n",
      "[2, 3]\n",
      "[1 1 1 1 0 0]\n",
      "True\n",
      "\n"
     ]
    }
   ],
   "source": [
    "BOAT=1\n",
    "board=np.array([1,1,1,1,0,0]) #MMMCCC\n",
    "m=getMoves(board,BOAT)\n",
    "for i in m:\n",
    "    print(i)\n",
    "    print(board)\n",
    "    print(isValidMove(board,i))\n",
    "    print()"
   ]
  },
  {
   "cell_type": "code",
   "execution_count": null,
   "metadata": {},
   "outputs": [],
   "source": []
  }
 ],
 "metadata": {
  "kernelspec": {
   "display_name": "Python 3",
   "language": "python",
   "name": "python3"
  },
  "language_info": {
   "codemirror_mode": {
    "name": "ipython",
    "version": 3
   },
   "file_extension": ".py",
   "mimetype": "text/x-python",
   "name": "python",
   "nbconvert_exporter": "python",
   "pygments_lexer": "ipython3",
   "version": "3.8.8"
  }
 },
 "nbformat": 4,
 "nbformat_minor": 4
}
